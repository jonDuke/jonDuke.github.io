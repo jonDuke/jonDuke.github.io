{
  "nbformat": 4,
  "nbformat_minor": 0,
  "metadata": {
    "colab": {
      "name": "Jonathan_Duke_Unit1_Build_Week.ipynb",
      "provenance": [],
      "toc_visible": true,
      "authorship_tag": "ABX9TyO8cat0wb2TPPXprw9nYPwz",
      "include_colab_link": true
    },
    "kernelspec": {
      "name": "python3",
      "display_name": "Python 3"
    }
  },
  "cells": [
    {
      "cell_type": "markdown",
      "metadata": {
        "id": "view-in-github",
        "colab_type": "text"
      },
      "source": [
        "<a href=\"https://colab.research.google.com/github/jonDuke/jonDuke.github.io/blob/master/notebooks/Steam_Data_Analysis.ipynb\" target=\"_parent\"><img src=\"https://colab.research.google.com/assets/colab-badge.svg\" alt=\"Open In Colab\"/></a>"
      ]
    },
    {
      "cell_type": "code",
      "metadata": {
        "id": "YRxY_fh_Ij68",
        "colab_type": "code",
        "outputId": "a6b16176-0aaa-496c-cc8d-bef84c64e491",
        "colab": {
          "base_uri": "https://localhost:8080/",
          "height": 258
        }
      },
      "source": [
        "# The reviews dataset is 115MB, too large to host on github\n",
        "# Downloading directly from Kaggle requires manually entering your own API key\n",
        "# I am hosting the files on my drive instead so this can be run on any machine\n",
        "!pip install PyDrive"
      ],
      "execution_count": 2,
      "outputs": [
        {
          "output_type": "stream",
          "text": [
            "Requirement already satisfied: PyDrive in /usr/local/lib/python3.6/dist-packages (1.3.1)\n",
            "Requirement already satisfied: PyYAML>=3.0 in /usr/local/lib/python3.6/dist-packages (from PyDrive) (3.13)\n",
            "Requirement already satisfied: google-api-python-client>=1.2 in /usr/local/lib/python3.6/dist-packages (from PyDrive) (1.7.11)\n",
            "Requirement already satisfied: oauth2client>=4.0.0 in /usr/local/lib/python3.6/dist-packages (from PyDrive) (4.1.3)\n",
            "Requirement already satisfied: six<2dev,>=1.6.1 in /usr/local/lib/python3.6/dist-packages (from google-api-python-client>=1.2->PyDrive) (1.12.0)\n",
            "Requirement already satisfied: google-auth>=1.4.1 in /usr/local/lib/python3.6/dist-packages (from google-api-python-client>=1.2->PyDrive) (1.4.2)\n",
            "Requirement already satisfied: httplib2<1dev,>=0.9.2 in /usr/local/lib/python3.6/dist-packages (from google-api-python-client>=1.2->PyDrive) (0.11.3)\n",
            "Requirement already satisfied: uritemplate<4dev,>=3.0.0 in /usr/local/lib/python3.6/dist-packages (from google-api-python-client>=1.2->PyDrive) (3.0.1)\n",
            "Requirement already satisfied: google-auth-httplib2>=0.0.3 in /usr/local/lib/python3.6/dist-packages (from google-api-python-client>=1.2->PyDrive) (0.0.3)\n",
            "Requirement already satisfied: rsa>=3.1.4 in /usr/local/lib/python3.6/dist-packages (from oauth2client>=4.0.0->PyDrive) (4.0)\n",
            "Requirement already satisfied: pyasn1>=0.1.7 in /usr/local/lib/python3.6/dist-packages (from oauth2client>=4.0.0->PyDrive) (0.4.8)\n",
            "Requirement already satisfied: pyasn1-modules>=0.0.5 in /usr/local/lib/python3.6/dist-packages (from oauth2client>=4.0.0->PyDrive) (0.2.8)\n",
            "Requirement already satisfied: cachetools>=2.0.0 in /usr/local/lib/python3.6/dist-packages (from google-auth>=1.4.1->google-api-python-client>=1.2->PyDrive) (4.0.0)\n"
          ],
          "name": "stdout"
        }
      ]
    },
    {
      "cell_type": "code",
      "metadata": {
        "id": "veMGpdgDIox5",
        "colab_type": "code",
        "colab": {}
      },
      "source": [
        "from pydrive.auth import GoogleAuth\n",
        "from pydrive.drive import GoogleDrive\n",
        "from google.colab import auth\n",
        "from oauth2client.client import GoogleCredentials\n",
        "\n",
        "# Authenticate and create the PyDrive client.\n",
        "# It will create a link in the output dialogue to log into your google account,\n",
        "# Log in there and get your authentication link\n",
        "auth.authenticate_user()\n",
        "gauth = GoogleAuth()\n",
        "gauth.credentials = GoogleCredentials.get_application_default()\n",
        "drive = GoogleDrive(gauth)\n",
        "\n",
        "# reviews csv file\n",
        "# original source: https://www.kaggle.com/luthfim/steam-reviews-dataset\n",
        "downloaded = drive.CreateFile({'id': '1dTOs0U8BUOKXAD-fd6dm9BMM_oqYkhYS'})\n",
        "downloaded.GetContentFile('steam-reviews.csv')\n",
        "\n",
        "# users csv file\n",
        "# original source: https://www.kaggle.com/tamber/steam-video-games\n",
        "downloaded = drive.CreateFile({'id': '1SRtWFQxrX_imnHfBEMrQJsWtSKt_5z6a'})\n",
        "downloaded.GetContentFile('steam-users.csv')"
      ],
      "execution_count": 0,
      "outputs": []
    },
    {
      "cell_type": "code",
      "metadata": {
        "id": "Nfc-ql98F2GG",
        "colab_type": "code",
        "colab": {}
      },
      "source": [
        "# Open datasets with Pandas\n",
        "import pandas as pd\n",
        "\n",
        "reviews_df = pd.read_csv(\"steam-reviews.csv\")\n",
        "users_df = pd.read_csv(\"steam-users.csv\", names=['user_id', 'title', 'behavior', 'value', '0'])"
      ],
      "execution_count": 0,
      "outputs": []
    },
    {
      "cell_type": "code",
      "metadata": {
        "id": "bI4CKmPmHMr-",
        "colab_type": "code",
        "outputId": "a644b6a2-f6b1-49c8-87be-e28fc1efa3bf",
        "colab": {
          "base_uri": "https://localhost:8080/",
          "height": 306
        }
      },
      "source": [
        "print(reviews_df.shape)\n",
        "reviews_df.head()"
      ],
      "execution_count": 5,
      "outputs": [
        {
          "output_type": "stream",
          "text": [
            "(434891, 8)\n"
          ],
          "name": "stdout"
        },
        {
          "output_type": "execute_result",
          "data": {
            "text/html": [
              "<div>\n",
              "<style scoped>\n",
              "    .dataframe tbody tr th:only-of-type {\n",
              "        vertical-align: middle;\n",
              "    }\n",
              "\n",
              "    .dataframe tbody tr th {\n",
              "        vertical-align: top;\n",
              "    }\n",
              "\n",
              "    .dataframe thead th {\n",
              "        text-align: right;\n",
              "    }\n",
              "</style>\n",
              "<table border=\"1\" class=\"dataframe\">\n",
              "  <thead>\n",
              "    <tr style=\"text-align: right;\">\n",
              "      <th></th>\n",
              "      <th>date_posted</th>\n",
              "      <th>funny</th>\n",
              "      <th>helpful</th>\n",
              "      <th>hour_played</th>\n",
              "      <th>is_early_access_review</th>\n",
              "      <th>recommendation</th>\n",
              "      <th>review</th>\n",
              "      <th>title</th>\n",
              "    </tr>\n",
              "  </thead>\n",
              "  <tbody>\n",
              "    <tr>\n",
              "      <th>0</th>\n",
              "      <td>2019-02-10</td>\n",
              "      <td>2</td>\n",
              "      <td>4</td>\n",
              "      <td>578</td>\n",
              "      <td>False</td>\n",
              "      <td>Recommended</td>\n",
              "      <td>&amp;gt Played as German Reich&amp;gt Declare war on B...</td>\n",
              "      <td>Expansion - Hearts of Iron IV: Man the Guns</td>\n",
              "    </tr>\n",
              "    <tr>\n",
              "      <th>1</th>\n",
              "      <td>2019-02-10</td>\n",
              "      <td>0</td>\n",
              "      <td>0</td>\n",
              "      <td>184</td>\n",
              "      <td>False</td>\n",
              "      <td>Recommended</td>\n",
              "      <td>yes.</td>\n",
              "      <td>Expansion - Hearts of Iron IV: Man the Guns</td>\n",
              "    </tr>\n",
              "    <tr>\n",
              "      <th>2</th>\n",
              "      <td>2019-02-07</td>\n",
              "      <td>0</td>\n",
              "      <td>0</td>\n",
              "      <td>892</td>\n",
              "      <td>False</td>\n",
              "      <td>Recommended</td>\n",
              "      <td>Very good game although a bit overpriced in my...</td>\n",
              "      <td>Expansion - Hearts of Iron IV: Man the Guns</td>\n",
              "    </tr>\n",
              "    <tr>\n",
              "      <th>3</th>\n",
              "      <td>2018-06-14</td>\n",
              "      <td>126</td>\n",
              "      <td>1086</td>\n",
              "      <td>676</td>\n",
              "      <td>False</td>\n",
              "      <td>Recommended</td>\n",
              "      <td>Out of all the reviews I wrote This one is pro...</td>\n",
              "      <td>Dead by Daylight</td>\n",
              "    </tr>\n",
              "    <tr>\n",
              "      <th>4</th>\n",
              "      <td>2017-06-20</td>\n",
              "      <td>85</td>\n",
              "      <td>2139</td>\n",
              "      <td>612</td>\n",
              "      <td>False</td>\n",
              "      <td>Recommended</td>\n",
              "      <td>Disclaimer I survivor main. I play games for f...</td>\n",
              "      <td>Dead by Daylight</td>\n",
              "    </tr>\n",
              "  </tbody>\n",
              "</table>\n",
              "</div>"
            ],
            "text/plain": [
              "  date_posted  ...                                        title\n",
              "0  2019-02-10  ...  Expansion - Hearts of Iron IV: Man the Guns\n",
              "1  2019-02-10  ...  Expansion - Hearts of Iron IV: Man the Guns\n",
              "2  2019-02-07  ...  Expansion - Hearts of Iron IV: Man the Guns\n",
              "3  2018-06-14  ...                             Dead by Daylight\n",
              "4  2017-06-20  ...                             Dead by Daylight\n",
              "\n",
              "[5 rows x 8 columns]"
            ]
          },
          "metadata": {
            "tags": []
          },
          "execution_count": 5
        }
      ]
    },
    {
      "cell_type": "code",
      "metadata": {
        "id": "D_vxX6iWHOW6",
        "colab_type": "code",
        "outputId": "3c6fff77-60da-402d-ae40-accdef2f31eb",
        "colab": {
          "base_uri": "https://localhost:8080/",
          "height": 221
        }
      },
      "source": [
        "print(users_df.shape)\n",
        "users_df.head()"
      ],
      "execution_count": 6,
      "outputs": [
        {
          "output_type": "stream",
          "text": [
            "(200000, 5)\n"
          ],
          "name": "stdout"
        },
        {
          "output_type": "execute_result",
          "data": {
            "text/html": [
              "<div>\n",
              "<style scoped>\n",
              "    .dataframe tbody tr th:only-of-type {\n",
              "        vertical-align: middle;\n",
              "    }\n",
              "\n",
              "    .dataframe tbody tr th {\n",
              "        vertical-align: top;\n",
              "    }\n",
              "\n",
              "    .dataframe thead th {\n",
              "        text-align: right;\n",
              "    }\n",
              "</style>\n",
              "<table border=\"1\" class=\"dataframe\">\n",
              "  <thead>\n",
              "    <tr style=\"text-align: right;\">\n",
              "      <th></th>\n",
              "      <th>user_id</th>\n",
              "      <th>title</th>\n",
              "      <th>behavior</th>\n",
              "      <th>value</th>\n",
              "      <th>0</th>\n",
              "    </tr>\n",
              "  </thead>\n",
              "  <tbody>\n",
              "    <tr>\n",
              "      <th>0</th>\n",
              "      <td>151603712</td>\n",
              "      <td>The Elder Scrolls V Skyrim</td>\n",
              "      <td>purchase</td>\n",
              "      <td>1.0</td>\n",
              "      <td>0</td>\n",
              "    </tr>\n",
              "    <tr>\n",
              "      <th>1</th>\n",
              "      <td>151603712</td>\n",
              "      <td>The Elder Scrolls V Skyrim</td>\n",
              "      <td>play</td>\n",
              "      <td>273.0</td>\n",
              "      <td>0</td>\n",
              "    </tr>\n",
              "    <tr>\n",
              "      <th>2</th>\n",
              "      <td>151603712</td>\n",
              "      <td>Fallout 4</td>\n",
              "      <td>purchase</td>\n",
              "      <td>1.0</td>\n",
              "      <td>0</td>\n",
              "    </tr>\n",
              "    <tr>\n",
              "      <th>3</th>\n",
              "      <td>151603712</td>\n",
              "      <td>Fallout 4</td>\n",
              "      <td>play</td>\n",
              "      <td>87.0</td>\n",
              "      <td>0</td>\n",
              "    </tr>\n",
              "    <tr>\n",
              "      <th>4</th>\n",
              "      <td>151603712</td>\n",
              "      <td>Spore</td>\n",
              "      <td>purchase</td>\n",
              "      <td>1.0</td>\n",
              "      <td>0</td>\n",
              "    </tr>\n",
              "  </tbody>\n",
              "</table>\n",
              "</div>"
            ],
            "text/plain": [
              "     user_id                       title  behavior  value  0\n",
              "0  151603712  The Elder Scrolls V Skyrim  purchase    1.0  0\n",
              "1  151603712  The Elder Scrolls V Skyrim      play  273.0  0\n",
              "2  151603712                   Fallout 4  purchase    1.0  0\n",
              "3  151603712                   Fallout 4      play   87.0  0\n",
              "4  151603712                       Spore  purchase    1.0  0"
            ]
          },
          "metadata": {
            "tags": []
          },
          "execution_count": 6
        }
      ]
    },
    {
      "cell_type": "markdown",
      "metadata": {
        "id": "E6Xd8WgCNpKj",
        "colab_type": "text"
      },
      "source": [
        "## Exploratory analysis and data cleaning"
      ]
    },
    {
      "cell_type": "markdown",
      "metadata": {
        "id": "2-f5ETE8xK7n",
        "colab_type": "text"
      },
      "source": [
        "### Reviews data"
      ]
    },
    {
      "cell_type": "code",
      "metadata": {
        "id": "kPIt9kGmN32R",
        "colab_type": "code",
        "outputId": "b55f8767-1754-4031-fffb-48aa2154a02c",
        "colab": {
          "base_uri": "https://localhost:8080/",
          "height": 170
        }
      },
      "source": [
        "# Starting with the reviews data\n",
        "\n",
        "# So, 1516 of the reviews don't have review text.  That is valid, users do not \n",
        "# have to type any review, only if they recommend it or not.\n",
        "reviews_df.isnull().sum()"
      ],
      "execution_count": 7,
      "outputs": [
        {
          "output_type": "execute_result",
          "data": {
            "text/plain": [
              "date_posted                  0\n",
              "funny                        0\n",
              "helpful                      0\n",
              "hour_played                  0\n",
              "is_early_access_review       0\n",
              "recommendation               0\n",
              "review                    1516\n",
              "title                        0\n",
              "dtype: int64"
            ]
          },
          "metadata": {
            "tags": []
          },
          "execution_count": 7
        }
      ]
    },
    {
      "cell_type": "code",
      "metadata": {
        "id": "Cvgi2HdRNuGc",
        "colab_type": "code",
        "outputId": "eb3073f7-3b8e-46e9-8b91-4d42bad21e4c",
        "colab": {
          "base_uri": "https://localhost:8080/",
          "height": 297
        }
      },
      "source": [
        "# Starting with reviews\n",
        "reviews_df.describe()"
      ],
      "execution_count": 8,
      "outputs": [
        {
          "output_type": "execute_result",
          "data": {
            "text/html": [
              "<div>\n",
              "<style scoped>\n",
              "    .dataframe tbody tr th:only-of-type {\n",
              "        vertical-align: middle;\n",
              "    }\n",
              "\n",
              "    .dataframe tbody tr th {\n",
              "        vertical-align: top;\n",
              "    }\n",
              "\n",
              "    .dataframe thead th {\n",
              "        text-align: right;\n",
              "    }\n",
              "</style>\n",
              "<table border=\"1\" class=\"dataframe\">\n",
              "  <thead>\n",
              "    <tr style=\"text-align: right;\">\n",
              "      <th></th>\n",
              "      <th>funny</th>\n",
              "      <th>helpful</th>\n",
              "      <th>hour_played</th>\n",
              "    </tr>\n",
              "  </thead>\n",
              "  <tbody>\n",
              "    <tr>\n",
              "      <th>count</th>\n",
              "      <td>4.348910e+05</td>\n",
              "      <td>434891.000000</td>\n",
              "      <td>434891.000000</td>\n",
              "    </tr>\n",
              "    <tr>\n",
              "      <th>mean</th>\n",
              "      <td>5.333024e+05</td>\n",
              "      <td>1.004114</td>\n",
              "      <td>364.130773</td>\n",
              "    </tr>\n",
              "    <tr>\n",
              "      <th>std</th>\n",
              "      <td>4.785640e+07</td>\n",
              "      <td>59.462935</td>\n",
              "      <td>545.961198</td>\n",
              "    </tr>\n",
              "    <tr>\n",
              "      <th>min</th>\n",
              "      <td>0.000000e+00</td>\n",
              "      <td>0.000000</td>\n",
              "      <td>0.000000</td>\n",
              "    </tr>\n",
              "    <tr>\n",
              "      <th>25%</th>\n",
              "      <td>0.000000e+00</td>\n",
              "      <td>0.000000</td>\n",
              "      <td>62.000000</td>\n",
              "    </tr>\n",
              "    <tr>\n",
              "      <th>50%</th>\n",
              "      <td>0.000000e+00</td>\n",
              "      <td>0.000000</td>\n",
              "      <td>190.000000</td>\n",
              "    </tr>\n",
              "    <tr>\n",
              "      <th>75%</th>\n",
              "      <td>0.000000e+00</td>\n",
              "      <td>0.000000</td>\n",
              "      <td>450.000000</td>\n",
              "    </tr>\n",
              "    <tr>\n",
              "      <th>max</th>\n",
              "      <td>4.294967e+09</td>\n",
              "      <td>28171.000000</td>\n",
              "      <td>31962.000000</td>\n",
              "    </tr>\n",
              "  </tbody>\n",
              "</table>\n",
              "</div>"
            ],
            "text/plain": [
              "              funny        helpful    hour_played\n",
              "count  4.348910e+05  434891.000000  434891.000000\n",
              "mean   5.333024e+05       1.004114     364.130773\n",
              "std    4.785640e+07      59.462935     545.961198\n",
              "min    0.000000e+00       0.000000       0.000000\n",
              "25%    0.000000e+00       0.000000      62.000000\n",
              "50%    0.000000e+00       0.000000     190.000000\n",
              "75%    0.000000e+00       0.000000     450.000000\n",
              "max    4.294967e+09   28171.000000   31962.000000"
            ]
          },
          "metadata": {
            "tags": []
          },
          "execution_count": 8
        }
      ]
    },
    {
      "cell_type": "markdown",
      "metadata": {
        "id": "ibJivZIAOcc9",
        "colab_type": "text"
      },
      "source": [
        "Ok, there's some outliers.  Some review(s) have 4,294,967,000 funny reactions?  What is this review and why has half of everyone on earth said it's funny?"
      ]
    },
    {
      "cell_type": "code",
      "metadata": {
        "id": "CWec0kqYN8Dy",
        "colab_type": "code",
        "outputId": "95343d77-1c4f-49cf-bf21-8862ade0f27e",
        "colab": {
          "base_uri": "https://localhost:8080/",
          "height": 221
        }
      },
      "source": [
        "reviews_df[reviews_df['funny'] > 10000].head()"
      ],
      "execution_count": 9,
      "outputs": [
        {
          "output_type": "execute_result",
          "data": {
            "text/html": [
              "<div>\n",
              "<style scoped>\n",
              "    .dataframe tbody tr th:only-of-type {\n",
              "        vertical-align: middle;\n",
              "    }\n",
              "\n",
              "    .dataframe tbody tr th {\n",
              "        vertical-align: top;\n",
              "    }\n",
              "\n",
              "    .dataframe thead th {\n",
              "        text-align: right;\n",
              "    }\n",
              "</style>\n",
              "<table border=\"1\" class=\"dataframe\">\n",
              "  <thead>\n",
              "    <tr style=\"text-align: right;\">\n",
              "      <th></th>\n",
              "      <th>date_posted</th>\n",
              "      <th>funny</th>\n",
              "      <th>helpful</th>\n",
              "      <th>hour_played</th>\n",
              "      <th>is_early_access_review</th>\n",
              "      <th>recommendation</th>\n",
              "      <th>review</th>\n",
              "      <th>title</th>\n",
              "    </tr>\n",
              "  </thead>\n",
              "  <tbody>\n",
              "    <tr>\n",
              "      <th>46494</th>\n",
              "      <td>2017-05-09</td>\n",
              "      <td>4294967295</td>\n",
              "      <td>1</td>\n",
              "      <td>95</td>\n",
              "      <td>False</td>\n",
              "      <td>Recommended</td>\n",
              "      <td>547tyt</td>\n",
              "      <td>Rocket League®</td>\n",
              "    </tr>\n",
              "    <tr>\n",
              "      <th>50161</th>\n",
              "      <td>2016-11-25</td>\n",
              "      <td>4294967295</td>\n",
              "      <td>1</td>\n",
              "      <td>821</td>\n",
              "      <td>False</td>\n",
              "      <td>Recommended</td>\n",
              "      <td>Rocket League. This game can be a fun and redi...</td>\n",
              "      <td>Rocket League®</td>\n",
              "    </tr>\n",
              "    <tr>\n",
              "      <th>51447</th>\n",
              "      <td>2017-02-20</td>\n",
              "      <td>4294967288</td>\n",
              "      <td>1</td>\n",
              "      <td>243</td>\n",
              "      <td>False</td>\n",
              "      <td>Recommended</td>\n",
              "      <td>p.u.r.e c.a.n.c.e.r</td>\n",
              "      <td>Rocket League®</td>\n",
              "    </tr>\n",
              "    <tr>\n",
              "      <th>51513</th>\n",
              "      <td>2017-08-30</td>\n",
              "      <td>4294967295</td>\n",
              "      <td>1</td>\n",
              "      <td>693</td>\n",
              "      <td>False</td>\n",
              "      <td>Recommended</td>\n",
              "      <td>Very addictive.</td>\n",
              "      <td>Rocket League®</td>\n",
              "    </tr>\n",
              "    <tr>\n",
              "      <th>52445</th>\n",
              "      <td>2017-04-10</td>\n",
              "      <td>4294967295</td>\n",
              "      <td>1</td>\n",
              "      <td>1387</td>\n",
              "      <td>False</td>\n",
              "      <td>Recommended</td>\n",
              "      <td>Best game in the history of the universe.Excep...</td>\n",
              "      <td>Rocket League®</td>\n",
              "    </tr>\n",
              "  </tbody>\n",
              "</table>\n",
              "</div>"
            ],
            "text/plain": [
              "      date_posted  ...           title\n",
              "46494  2017-05-09  ...  Rocket League®\n",
              "50161  2016-11-25  ...  Rocket League®\n",
              "51447  2017-02-20  ...  Rocket League®\n",
              "51513  2017-08-30  ...  Rocket League®\n",
              "52445  2017-04-10  ...  Rocket League®\n",
              "\n",
              "[5 rows x 8 columns]"
            ]
          },
          "metadata": {
            "tags": []
          },
          "execution_count": 9
        }
      ]
    },
    {
      "cell_type": "markdown",
      "metadata": {
        "id": "4Oy_fmEHPiV5",
        "colab_type": "text"
      },
      "source": [
        "Ok, so there are several.  Jokes aside, the maximum value of a 4 byte unsigned int happens to be 4294967295, so safe bet that these are incorrect values (storing negative numbers as unsigned ints will do that).  Let's replace them with the median funny score of 0."
      ]
    },
    {
      "cell_type": "code",
      "metadata": {
        "id": "Ox3DQoW4O43-",
        "colab_type": "code",
        "colab": {}
      },
      "source": [
        "def fix_funny_reviews(count):\n",
        "  # Could put a higher value here, but this is actually enough\n",
        "  if(count > 10000):\n",
        "    return 0\n",
        "  else:\n",
        "    return count\n",
        "\n",
        "reviews_df['funny'] = reviews_df['funny'].apply(fix_funny_reviews)"
      ],
      "execution_count": 0,
      "outputs": []
    },
    {
      "cell_type": "code",
      "metadata": {
        "id": "Piw7KjWeRMAZ",
        "colab_type": "code",
        "outputId": "d984a1b6-83ed-4584-894b-4bca42a2a9a7",
        "colab": {
          "base_uri": "https://localhost:8080/",
          "height": 170
        }
      },
      "source": [
        "# New max score is 7472, much more reasonable\n",
        "reviews_df['funny'].describe()"
      ],
      "execution_count": 11,
      "outputs": [
        {
          "output_type": "execute_result",
          "data": {
            "text/plain": [
              "count    434891.000000\n",
              "mean          0.374781\n",
              "std          21.015720\n",
              "min           0.000000\n",
              "25%           0.000000\n",
              "50%           0.000000\n",
              "75%           0.000000\n",
              "max        7472.000000\n",
              "Name: funny, dtype: float64"
            ]
          },
          "metadata": {
            "tags": []
          },
          "execution_count": 11
        }
      ]
    },
    {
      "cell_type": "code",
      "metadata": {
        "id": "Ja8Ax_HwogYv",
        "colab_type": "code",
        "outputId": "a56dbf0d-6a5b-43bd-829b-0faacd93315e",
        "colab": {
          "base_uri": "https://localhost:8080/",
          "height": 221
        }
      },
      "source": [
        "print(\"Number of reviews with 0 funny votes:\", len(reviews_df[reviews_df['funny'] == 0]))\n",
        "for i in range(0, 1100, 100):\n",
        "  print(\"Number of reviews with more than\", i, \"funny votes:\", len(reviews_df[reviews_df['funny'] > i]))"
      ],
      "execution_count": 12,
      "outputs": [
        {
          "output_type": "stream",
          "text": [
            "Number of reviews with 0 funny votes: 399710\n",
            "Number of reviews with more than 0 funny votes: 35181\n",
            "Number of reviews with more than 100 funny votes: 176\n",
            "Number of reviews with more than 200 funny votes: 100\n",
            "Number of reviews with more than 300 funny votes: 60\n",
            "Number of reviews with more than 400 funny votes: 43\n",
            "Number of reviews with more than 500 funny votes: 35\n",
            "Number of reviews with more than 600 funny votes: 28\n",
            "Number of reviews with more than 700 funny votes: 22\n",
            "Number of reviews with more than 800 funny votes: 18\n",
            "Number of reviews with more than 900 funny votes: 17\n",
            "Number of reviews with more than 1000 funny votes: 15\n"
          ],
          "name": "stdout"
        }
      ]
    },
    {
      "cell_type": "code",
      "metadata": {
        "id": "dam3jV7qp6kp",
        "colab_type": "code",
        "outputId": "75520462-a3aa-446b-aeb5-25976a067869",
        "colab": {
          "base_uri": "https://localhost:8080/",
          "height": 221
        }
      },
      "source": [
        "print(\"Number of reviews with 0 helpful votes:\", len(reviews_df[reviews_df['helpful'] == 0]))\n",
        "for i in range(0, 1100, 100):\n",
        "  print(\"Number of reviews with more than\", i, \"helpful votes:\", len(reviews_df[reviews_df['helpful'] > i]))"
      ],
      "execution_count": 13,
      "outputs": [
        {
          "output_type": "stream",
          "text": [
            "Number of reviews with 0 helpful votes: 399656\n",
            "Number of reviews with more than 0 helpful votes: 35235\n",
            "Number of reviews with more than 100 helpful votes: 472\n",
            "Number of reviews with more than 200 helpful votes: 311\n",
            "Number of reviews with more than 300 helpful votes: 228\n",
            "Number of reviews with more than 400 helpful votes: 187\n",
            "Number of reviews with more than 500 helpful votes: 155\n",
            "Number of reviews with more than 600 helpful votes: 121\n",
            "Number of reviews with more than 700 helpful votes: 107\n",
            "Number of reviews with more than 800 helpful votes: 93\n",
            "Number of reviews with more than 900 helpful votes: 84\n",
            "Number of reviews with more than 1000 helpful votes: 76\n"
          ],
          "name": "stdout"
        }
      ]
    },
    {
      "cell_type": "markdown",
      "metadata": {
        "id": "P_U7BFfPR2Mt",
        "colab_type": "text"
      },
      "source": [
        "So the vast majority of funny and useful votes are low, but we can probably still use it somewhere.\n",
        "\n",
        "Another outlier was hours played.  There are 8760 hours in a year, how many of these reviews claim to have played more than that?"
      ]
    },
    {
      "cell_type": "code",
      "metadata": {
        "id": "M5Z8pv0_ROnQ",
        "colab_type": "code",
        "outputId": "ced28133-51e5-494d-9c65-a9efd8cc2bfa",
        "colab": {
          "base_uri": "https://localhost:8080/",
          "height": 204
        }
      },
      "source": [
        "print(\"Number of reviews with 0 hours played:\", len(reviews_df[reviews_df['hour_played'] == 0]))\n",
        "for i in range(0,10000,1000):\n",
        "  print(\"Number of reviews with more than\", i, \"hours played:\", \n",
        "        len(reviews_df[reviews_df['hour_played'] >= i]))"
      ],
      "execution_count": 14,
      "outputs": [
        {
          "output_type": "stream",
          "text": [
            "Number of reviews with 0 hours played: 6258\n",
            "Number of reviews with more than 0 hours played: 434891\n",
            "Number of reviews with more than 1000 hours played: 35640\n",
            "Number of reviews with more than 2000 hours played: 8178\n",
            "Number of reviews with more than 3000 hours played: 2693\n",
            "Number of reviews with more than 4000 hours played: 1121\n",
            "Number of reviews with more than 5000 hours played: 494\n",
            "Number of reviews with more than 6000 hours played: 264\n",
            "Number of reviews with more than 7000 hours played: 146\n",
            "Number of reviews with more than 8000 hours played: 93\n",
            "Number of reviews with more than 9000 hours played: 63\n"
          ],
          "name": "stdout"
        }
      ]
    },
    {
      "cell_type": "markdown",
      "metadata": {
        "id": "gSopPI7lS-F_",
        "colab_type": "text"
      },
      "source": [
        "So this is harder to cut off.  While some of these numbers seem extreme, they are still believable (in the context that Steam isn't 100% accurate at tracking playtime).  For example, some users may have just left the game open on their computer, even if they were not playing.  And while I personally only have one game that is over 1000 hours (that's still a lot!), I know that on the extreme end some people really do put thousands of hours into games.\n",
        "\n",
        "I am making the decision to leave these values as-is.  This will also make any observations more easily applicable to uncleaned Steam data."
      ]
    },
    {
      "cell_type": "markdown",
      "metadata": {
        "id": "xBVtwXvaUfaE",
        "colab_type": "text"
      },
      "source": [
        "That should be enough for the numerical data, now for the categorical."
      ]
    },
    {
      "cell_type": "code",
      "metadata": {
        "id": "mA-alUJySIbJ",
        "colab_type": "code",
        "outputId": "3753c1c0-cccd-4126-a55b-3624b5c9ca79",
        "colab": {
          "base_uri": "https://localhost:8080/",
          "height": 136
        }
      },
      "source": [
        "# An easy, simple option is converting the date string to an actual datetime object\n",
        "reviews_df['date_posted'] = pd.to_datetime(reviews_df['date_posted'])\n",
        "reviews_df['date_posted'].describe()"
      ],
      "execution_count": 15,
      "outputs": [
        {
          "output_type": "execute_result",
          "data": {
            "text/plain": [
              "count                  434891\n",
              "unique                   1953\n",
              "top       2017-06-15 00:00:00\n",
              "freq                     7359\n",
              "first     2010-12-20 00:00:00\n",
              "last      2019-02-16 00:00:00\n",
              "Name: date_posted, dtype: object"
            ]
          },
          "metadata": {
            "tags": []
          },
          "execution_count": 15
        }
      ]
    },
    {
      "cell_type": "code",
      "metadata": {
        "id": "t1vhhM-neZ8a",
        "colab_type": "code",
        "outputId": "287209f8-2f96-4ca3-876b-98c25639ca52",
        "colab": {
          "base_uri": "https://localhost:8080/",
          "height": 68
        }
      },
      "source": [
        "# the early access boolean is fine\n",
        "reviews_df['is_early_access_review'].value_counts()"
      ],
      "execution_count": 16,
      "outputs": [
        {
          "output_type": "execute_result",
          "data": {
            "text/plain": [
              "False    307900\n",
              "True     126991\n",
              "Name: is_early_access_review, dtype: int64"
            ]
          },
          "metadata": {
            "tags": []
          },
          "execution_count": 16
        }
      ]
    },
    {
      "cell_type": "code",
      "metadata": {
        "id": "ZH7J9Yjgekqd",
        "colab_type": "code",
        "outputId": "237584f2-1178-4f33-b138-4ab21de9b80a",
        "colab": {
          "base_uri": "https://localhost:8080/",
          "height": 68
        }
      },
      "source": [
        "# but the recommendation string could be a boolean too\n",
        "reviews_df['recommendation'].value_counts()"
      ],
      "execution_count": 17,
      "outputs": [
        {
          "output_type": "execute_result",
          "data": {
            "text/plain": [
              "Recommended        303593\n",
              "Not Recommended    131298\n",
              "Name: recommendation, dtype: int64"
            ]
          },
          "metadata": {
            "tags": []
          },
          "execution_count": 17
        }
      ]
    },
    {
      "cell_type": "code",
      "metadata": {
        "id": "JCrYhT-YevZK",
        "colab_type": "code",
        "outputId": "7fda81e3-05c6-4680-a3d4-53d94f9e5b62",
        "colab": {
          "base_uri": "https://localhost:8080/",
          "height": 68
        }
      },
      "source": [
        "reviews_df['recommendation'] = reviews_df['recommendation'] == 'Recommended'\n",
        "reviews_df['recommendation'].value_counts()"
      ],
      "execution_count": 18,
      "outputs": [
        {
          "output_type": "execute_result",
          "data": {
            "text/plain": [
              "True     303593\n",
              "False    131298\n",
              "Name: recommendation, dtype: int64"
            ]
          },
          "metadata": {
            "tags": []
          },
          "execution_count": 18
        }
      ]
    },
    {
      "cell_type": "code",
      "metadata": {
        "id": "QnZODKyogAi3",
        "colab_type": "code",
        "outputId": "da9ec779-a066-48b4-9de9-bd04564068bb",
        "colab": {
          "base_uri": "https://localhost:8080/",
          "height": 204
        }
      },
      "source": [
        "# Review text is interesting to me as a person, but meaningless to most programs\n",
        "# Perhaps later I could try sentiment analysis on it, but for this post I will\n",
        "# drop it.  I will keep the review length as a new column though.\n",
        "\n",
        "# check memory usage for comparison in next cell\n",
        "memory_before = reviews_df.memory_usage(deep=True)\n",
        "\n",
        "# get a new column of review lengths\n",
        "reviews_df['review_length'] = pd.Series(len(str(review)) \n",
        "                                            for review in reviews_df['review'])\n",
        "\n",
        "# drop the review text\n",
        "reviews_df = reviews_df.drop('review', axis=1)\n",
        "\n",
        "reviews_df.head()"
      ],
      "execution_count": 19,
      "outputs": [
        {
          "output_type": "execute_result",
          "data": {
            "text/html": [
              "<div>\n",
              "<style scoped>\n",
              "    .dataframe tbody tr th:only-of-type {\n",
              "        vertical-align: middle;\n",
              "    }\n",
              "\n",
              "    .dataframe tbody tr th {\n",
              "        vertical-align: top;\n",
              "    }\n",
              "\n",
              "    .dataframe thead th {\n",
              "        text-align: right;\n",
              "    }\n",
              "</style>\n",
              "<table border=\"1\" class=\"dataframe\">\n",
              "  <thead>\n",
              "    <tr style=\"text-align: right;\">\n",
              "      <th></th>\n",
              "      <th>date_posted</th>\n",
              "      <th>funny</th>\n",
              "      <th>helpful</th>\n",
              "      <th>hour_played</th>\n",
              "      <th>is_early_access_review</th>\n",
              "      <th>recommendation</th>\n",
              "      <th>title</th>\n",
              "      <th>review_length</th>\n",
              "    </tr>\n",
              "  </thead>\n",
              "  <tbody>\n",
              "    <tr>\n",
              "      <th>0</th>\n",
              "      <td>2019-02-10</td>\n",
              "      <td>2</td>\n",
              "      <td>4</td>\n",
              "      <td>578</td>\n",
              "      <td>False</td>\n",
              "      <td>True</td>\n",
              "      <td>Expansion - Hearts of Iron IV: Man the Guns</td>\n",
              "      <td>195</td>\n",
              "    </tr>\n",
              "    <tr>\n",
              "      <th>1</th>\n",
              "      <td>2019-02-10</td>\n",
              "      <td>0</td>\n",
              "      <td>0</td>\n",
              "      <td>184</td>\n",
              "      <td>False</td>\n",
              "      <td>True</td>\n",
              "      <td>Expansion - Hearts of Iron IV: Man the Guns</td>\n",
              "      <td>4</td>\n",
              "    </tr>\n",
              "    <tr>\n",
              "      <th>2</th>\n",
              "      <td>2019-02-07</td>\n",
              "      <td>0</td>\n",
              "      <td>0</td>\n",
              "      <td>892</td>\n",
              "      <td>False</td>\n",
              "      <td>True</td>\n",
              "      <td>Expansion - Hearts of Iron IV: Man the Guns</td>\n",
              "      <td>171</td>\n",
              "    </tr>\n",
              "    <tr>\n",
              "      <th>3</th>\n",
              "      <td>2018-06-14</td>\n",
              "      <td>126</td>\n",
              "      <td>1086</td>\n",
              "      <td>676</td>\n",
              "      <td>False</td>\n",
              "      <td>True</td>\n",
              "      <td>Dead by Daylight</td>\n",
              "      <td>2094</td>\n",
              "    </tr>\n",
              "    <tr>\n",
              "      <th>4</th>\n",
              "      <td>2017-06-20</td>\n",
              "      <td>85</td>\n",
              "      <td>2139</td>\n",
              "      <td>612</td>\n",
              "      <td>False</td>\n",
              "      <td>True</td>\n",
              "      <td>Dead by Daylight</td>\n",
              "      <td>1397</td>\n",
              "    </tr>\n",
              "  </tbody>\n",
              "</table>\n",
              "</div>"
            ],
            "text/plain": [
              "  date_posted  ...  review_length\n",
              "0  2019-02-10  ...            195\n",
              "1  2019-02-10  ...              4\n",
              "2  2019-02-07  ...            171\n",
              "3  2018-06-14  ...           2094\n",
              "4  2017-06-20  ...           1397\n",
              "\n",
              "[5 rows x 8 columns]"
            ]
          },
          "metadata": {
            "tags": []
          },
          "execution_count": 19
        }
      ]
    },
    {
      "cell_type": "code",
      "metadata": {
        "id": "e-MMCKVviwtf",
        "colab_type": "code",
        "outputId": "bf063301-5e14-4b13-92ca-c63e97125bd8",
        "colab": {
          "base_uri": "https://localhost:8080/",
          "height": 408
        }
      },
      "source": [
        "# This also has the benefit of drastically reducing its memory usage\n",
        "# 120588277 bytes -> 3479128 bytes  or  120.5MB -> 3.4MB (for just that column)\n",
        "print(\"Before:\\n\",memory_before)\n",
        "print(\"\\nAfter:\\n\",reviews_df.memory_usage(deep=True))"
      ],
      "execution_count": 20,
      "outputs": [
        {
          "output_type": "stream",
          "text": [
            "Before:\n",
            " Index                           128\n",
            "date_posted                 3479128\n",
            "funny                       3479128\n",
            "helpful                     3479128\n",
            "hour_played                 3479128\n",
            "is_early_access_review       434891\n",
            "recommendation               434891\n",
            "review                    120588277\n",
            "title                      34654740\n",
            "dtype: int64\n",
            "\n",
            "After:\n",
            " Index                          128\n",
            "date_posted                3479128\n",
            "funny                      3479128\n",
            "helpful                    3479128\n",
            "hour_played                3479128\n",
            "is_early_access_review      434891\n",
            "recommendation              434891\n",
            "title                     34654740\n",
            "review_length              3479128\n",
            "dtype: int64\n"
          ],
          "name": "stdout"
        }
      ]
    },
    {
      "cell_type": "code",
      "metadata": {
        "id": "3vEjBnBnl53w",
        "colab_type": "code",
        "outputId": "1092b90b-a5e6-46f1-9f43-fe0d7804fb52",
        "colab": {
          "base_uri": "https://localhost:8080/",
          "height": 170
        }
      },
      "source": [
        "# what do these new review length values look like?\n",
        "reviews_df['review_length'].describe()"
      ],
      "execution_count": 21,
      "outputs": [
        {
          "output_type": "execute_result",
          "data": {
            "text/plain": [
              "count    434891.000000\n",
              "mean        217.409873\n",
              "std         472.760199\n",
              "min           1.000000\n",
              "25%          25.000000\n",
              "50%          71.000000\n",
              "75%         210.000000\n",
              "max       31949.000000\n",
              "Name: review_length, dtype: float64"
            ]
          },
          "metadata": {
            "tags": []
          },
          "execution_count": 21
        }
      ]
    },
    {
      "cell_type": "code",
      "metadata": {
        "id": "ghUkZAkzjPkQ",
        "colab_type": "code",
        "outputId": "640a0977-b055-43f5-bec2-d8ee9548e6f8",
        "colab": {
          "base_uri": "https://localhost:8080/",
          "height": 884
        }
      },
      "source": [
        "# Lastly, a quick look at titles\n",
        "# I'll save cleaning this until I see the other dataframe\n",
        "\n",
        "print(\"Number of games reviewed:\", len(reviews_df['title'].value_counts()))\n",
        "print(\"Number of reviews for each game:\")\n",
        "reviews_df['title'].value_counts()"
      ],
      "execution_count": 22,
      "outputs": [
        {
          "output_type": "stream",
          "text": [
            "Number of games reviewed: 48\n",
            "Number of reviews for each game:\n"
          ],
          "name": "stdout"
        },
        {
          "output_type": "execute_result",
          "data": {
            "text/plain": [
              "PLAYERUNKNOWN'S BATTLEGROUNDS                    145685\n",
              "Grand Theft Auto V                                99956\n",
              "Rust                                              71088\n",
              "Rocket League®                                    67907\n",
              "Dead by Daylight                                  22221\n",
              "MONSTER HUNTER: WORLD                             18412\n",
              "ASTRONEER                                          2661\n",
              "The Elder Scrolls V: Skyrim Special Edition        1473\n",
              "RESIDENT EVIL 2 / BIOHAZARD RE:2                   1385\n",
              "Sid Meier’s Civilization® VI                        522\n",
              "Euro Truck Simulator 2                              501\n",
              "Slay the Spire                                      260\n",
              "Terraria                                            260\n",
              "Subnautica                                          247\n",
              "Left 4 Dead 2                                       221\n",
              "Insurgency: Sandstorm                               220\n",
              "RimWorld                                            204\n",
              "Stardew Valley                                      202\n",
              "Garry's Mod                                         202\n",
              "ARK: Survival Evolved                               195\n",
              "Divinity: Original Sin 2 - Definitive Edition       190\n",
              "Human: Fall Flat                                    172\n",
              "Factorio                                            170\n",
              "Wallpaper Engine                                    170\n",
              "Don't Starve Together                               165\n",
              "Football Manager 2019                                10\n",
              "Battlefleet Gothic: Armada 2                         10\n",
              "Wargroove                                            10\n",
              "Tom Clancy's Rainbow Six® Siege                      10\n",
              "Warhammer 40,000: Mechanicus                         10\n",
              "Pathfinder: Kingmaker                                10\n",
              "NBA 2K19                                             10\n",
              "Beat Saber                                           10\n",
              "Tannenberg                                           10\n",
              "Cold Waters                                          10\n",
              "Farming Simulator 19                                 10\n",
              "ACE COMBAT™ 7: SKIES UNKNOWN                         10\n",
              "Foundation                                           10\n",
              "My Time At Portia                                    10\n",
              "GOD EATER 3                                          10\n",
              "Moonlighter                                          10\n",
              "Kenshi                                               10\n",
              "Subnautica: Below Zero                               10\n",
              "Overcooked! 2                                        10\n",
              "Survivor Pass: Vikendi                                3\n",
              "Expansion - Hearts of Iron IV: Man the Guns           3\n",
              "Sid Meier’s Civilization® VI: Rise and Fall           3\n",
              "Sid Meier's Civilization® VI: Gathering Storm         3\n",
              "Name: title, dtype: int64"
            ]
          },
          "metadata": {
            "tags": []
          },
          "execution_count": 22
        }
      ]
    },
    {
      "cell_type": "markdown",
      "metadata": {
        "id": "wIKfcVc9lm0x",
        "colab_type": "text"
      },
      "source": [
        "Some of the review counts for these games are pretty low, I might want to drop the low-count ones when doing statistical analysis, like the 10's and 3's.\n",
        "\n"
      ]
    },
    {
      "cell_type": "markdown",
      "metadata": {
        "id": "nQz5e9sRxPnX",
        "colab_type": "text"
      },
      "source": [
        "### Users data"
      ]
    },
    {
      "cell_type": "code",
      "metadata": {
        "id": "U-4coxIprezr",
        "colab_type": "code",
        "outputId": "82f5b0df-89b4-4fda-bea9-0ad3c21e3fd2",
        "colab": {
          "base_uri": "https://localhost:8080/",
          "height": 204
        }
      },
      "source": [
        "# Now for the users data\n",
        "users_df.head()"
      ],
      "execution_count": 23,
      "outputs": [
        {
          "output_type": "execute_result",
          "data": {
            "text/html": [
              "<div>\n",
              "<style scoped>\n",
              "    .dataframe tbody tr th:only-of-type {\n",
              "        vertical-align: middle;\n",
              "    }\n",
              "\n",
              "    .dataframe tbody tr th {\n",
              "        vertical-align: top;\n",
              "    }\n",
              "\n",
              "    .dataframe thead th {\n",
              "        text-align: right;\n",
              "    }\n",
              "</style>\n",
              "<table border=\"1\" class=\"dataframe\">\n",
              "  <thead>\n",
              "    <tr style=\"text-align: right;\">\n",
              "      <th></th>\n",
              "      <th>user_id</th>\n",
              "      <th>title</th>\n",
              "      <th>behavior</th>\n",
              "      <th>value</th>\n",
              "      <th>0</th>\n",
              "    </tr>\n",
              "  </thead>\n",
              "  <tbody>\n",
              "    <tr>\n",
              "      <th>0</th>\n",
              "      <td>151603712</td>\n",
              "      <td>The Elder Scrolls V Skyrim</td>\n",
              "      <td>purchase</td>\n",
              "      <td>1.0</td>\n",
              "      <td>0</td>\n",
              "    </tr>\n",
              "    <tr>\n",
              "      <th>1</th>\n",
              "      <td>151603712</td>\n",
              "      <td>The Elder Scrolls V Skyrim</td>\n",
              "      <td>play</td>\n",
              "      <td>273.0</td>\n",
              "      <td>0</td>\n",
              "    </tr>\n",
              "    <tr>\n",
              "      <th>2</th>\n",
              "      <td>151603712</td>\n",
              "      <td>Fallout 4</td>\n",
              "      <td>purchase</td>\n",
              "      <td>1.0</td>\n",
              "      <td>0</td>\n",
              "    </tr>\n",
              "    <tr>\n",
              "      <th>3</th>\n",
              "      <td>151603712</td>\n",
              "      <td>Fallout 4</td>\n",
              "      <td>play</td>\n",
              "      <td>87.0</td>\n",
              "      <td>0</td>\n",
              "    </tr>\n",
              "    <tr>\n",
              "      <th>4</th>\n",
              "      <td>151603712</td>\n",
              "      <td>Spore</td>\n",
              "      <td>purchase</td>\n",
              "      <td>1.0</td>\n",
              "      <td>0</td>\n",
              "    </tr>\n",
              "  </tbody>\n",
              "</table>\n",
              "</div>"
            ],
            "text/plain": [
              "     user_id                       title  behavior  value  0\n",
              "0  151603712  The Elder Scrolls V Skyrim  purchase    1.0  0\n",
              "1  151603712  The Elder Scrolls V Skyrim      play  273.0  0\n",
              "2  151603712                   Fallout 4  purchase    1.0  0\n",
              "3  151603712                   Fallout 4      play   87.0  0\n",
              "4  151603712                       Spore  purchase    1.0  0"
            ]
          },
          "metadata": {
            "tags": []
          },
          "execution_count": 23
        }
      ]
    },
    {
      "cell_type": "markdown",
      "metadata": {
        "id": "hrQvtj1CuvLT",
        "colab_type": "text"
      },
      "source": [
        "From the description on the source Kaggle page, I already know that if behavior is 'purchase', then value is 1.  And if behavior is 'play', then value is the number of hours played.  Not all users who purchase a game play it, so some game/user pairs only have a purchase row.  \n",
        "\n",
        "But there is no case of a user playing a game but not purchasing it."
      ]
    },
    {
      "cell_type": "code",
      "metadata": {
        "id": "XTVYzKfEsHaA",
        "colab_type": "code",
        "colab": {}
      },
      "source": [
        "# we don't need that 0 column\n",
        "users_df = users_df.drop('0', axis=1)"
      ],
      "execution_count": 0,
      "outputs": []
    },
    {
      "cell_type": "code",
      "metadata": {
        "id": "m2aWYFJirht_",
        "colab_type": "code",
        "outputId": "29411682-328f-4e5f-f118-21dd321140b5",
        "colab": {
          "base_uri": "https://localhost:8080/",
          "height": 102
        }
      },
      "source": [
        "# no missing data here\n",
        "users_df.isnull().sum()"
      ],
      "execution_count": 25,
      "outputs": [
        {
          "output_type": "execute_result",
          "data": {
            "text/plain": [
              "user_id     0\n",
              "title       0\n",
              "behavior    0\n",
              "value       0\n",
              "dtype: int64"
            ]
          },
          "metadata": {
            "tags": []
          },
          "execution_count": 25
        }
      ]
    },
    {
      "cell_type": "code",
      "metadata": {
        "id": "kOji6SWbsEWn",
        "colab_type": "code",
        "outputId": "11cfe14d-2a98-41bc-8a7a-d414ada0fbeb",
        "colab": {
          "base_uri": "https://localhost:8080/",
          "height": 204
        }
      },
      "source": [
        "# To combine the behavior data, I'll seperate by purchase and play then merge \n",
        "# back together\n",
        "purchase_df = users_df[users_df['behavior'] == 'purchase']\n",
        "\n",
        "# Every row in this dataframe indicates that a user owns a game, the behavior \n",
        "# column is no longer needed\n",
        "purchase_df = purchase_df.drop(['behavior', 'value'], axis=1)\n",
        "purchase_df.head()"
      ],
      "execution_count": 26,
      "outputs": [
        {
          "output_type": "execute_result",
          "data": {
            "text/html": [
              "<div>\n",
              "<style scoped>\n",
              "    .dataframe tbody tr th:only-of-type {\n",
              "        vertical-align: middle;\n",
              "    }\n",
              "\n",
              "    .dataframe tbody tr th {\n",
              "        vertical-align: top;\n",
              "    }\n",
              "\n",
              "    .dataframe thead th {\n",
              "        text-align: right;\n",
              "    }\n",
              "</style>\n",
              "<table border=\"1\" class=\"dataframe\">\n",
              "  <thead>\n",
              "    <tr style=\"text-align: right;\">\n",
              "      <th></th>\n",
              "      <th>user_id</th>\n",
              "      <th>title</th>\n",
              "    </tr>\n",
              "  </thead>\n",
              "  <tbody>\n",
              "    <tr>\n",
              "      <th>0</th>\n",
              "      <td>151603712</td>\n",
              "      <td>The Elder Scrolls V Skyrim</td>\n",
              "    </tr>\n",
              "    <tr>\n",
              "      <th>2</th>\n",
              "      <td>151603712</td>\n",
              "      <td>Fallout 4</td>\n",
              "    </tr>\n",
              "    <tr>\n",
              "      <th>4</th>\n",
              "      <td>151603712</td>\n",
              "      <td>Spore</td>\n",
              "    </tr>\n",
              "    <tr>\n",
              "      <th>6</th>\n",
              "      <td>151603712</td>\n",
              "      <td>Fallout New Vegas</td>\n",
              "    </tr>\n",
              "    <tr>\n",
              "      <th>8</th>\n",
              "      <td>151603712</td>\n",
              "      <td>Left 4 Dead 2</td>\n",
              "    </tr>\n",
              "  </tbody>\n",
              "</table>\n",
              "</div>"
            ],
            "text/plain": [
              "     user_id                       title\n",
              "0  151603712  The Elder Scrolls V Skyrim\n",
              "2  151603712                   Fallout 4\n",
              "4  151603712                       Spore\n",
              "6  151603712           Fallout New Vegas\n",
              "8  151603712               Left 4 Dead 2"
            ]
          },
          "metadata": {
            "tags": []
          },
          "execution_count": 26
        }
      ]
    },
    {
      "cell_type": "code",
      "metadata": {
        "id": "PI-e1M95s1Ov",
        "colab_type": "code",
        "outputId": "55a46dbc-3203-4c0d-ffb6-30d73e92e4a9",
        "colab": {
          "base_uri": "https://localhost:8080/",
          "height": 204
        }
      },
      "source": [
        "play_df = users_df[users_df['behavior'] == 'play']\n",
        "\n",
        "# We don't need behavior anymore, but value actually means something here\n",
        "play_df = play_df.drop('behavior', axis=1)\n",
        "play_df = play_df.rename({'value': 'hours_played'}, axis=1)\n",
        "play_df.head()"
      ],
      "execution_count": 27,
      "outputs": [
        {
          "output_type": "execute_result",
          "data": {
            "text/html": [
              "<div>\n",
              "<style scoped>\n",
              "    .dataframe tbody tr th:only-of-type {\n",
              "        vertical-align: middle;\n",
              "    }\n",
              "\n",
              "    .dataframe tbody tr th {\n",
              "        vertical-align: top;\n",
              "    }\n",
              "\n",
              "    .dataframe thead th {\n",
              "        text-align: right;\n",
              "    }\n",
              "</style>\n",
              "<table border=\"1\" class=\"dataframe\">\n",
              "  <thead>\n",
              "    <tr style=\"text-align: right;\">\n",
              "      <th></th>\n",
              "      <th>user_id</th>\n",
              "      <th>title</th>\n",
              "      <th>hours_played</th>\n",
              "    </tr>\n",
              "  </thead>\n",
              "  <tbody>\n",
              "    <tr>\n",
              "      <th>1</th>\n",
              "      <td>151603712</td>\n",
              "      <td>The Elder Scrolls V Skyrim</td>\n",
              "      <td>273.0</td>\n",
              "    </tr>\n",
              "    <tr>\n",
              "      <th>3</th>\n",
              "      <td>151603712</td>\n",
              "      <td>Fallout 4</td>\n",
              "      <td>87.0</td>\n",
              "    </tr>\n",
              "    <tr>\n",
              "      <th>5</th>\n",
              "      <td>151603712</td>\n",
              "      <td>Spore</td>\n",
              "      <td>14.9</td>\n",
              "    </tr>\n",
              "    <tr>\n",
              "      <th>7</th>\n",
              "      <td>151603712</td>\n",
              "      <td>Fallout New Vegas</td>\n",
              "      <td>12.1</td>\n",
              "    </tr>\n",
              "    <tr>\n",
              "      <th>9</th>\n",
              "      <td>151603712</td>\n",
              "      <td>Left 4 Dead 2</td>\n",
              "      <td>8.9</td>\n",
              "    </tr>\n",
              "  </tbody>\n",
              "</table>\n",
              "</div>"
            ],
            "text/plain": [
              "     user_id                       title  hours_played\n",
              "1  151603712  The Elder Scrolls V Skyrim         273.0\n",
              "3  151603712                   Fallout 4          87.0\n",
              "5  151603712                       Spore          14.9\n",
              "7  151603712           Fallout New Vegas          12.1\n",
              "9  151603712               Left 4 Dead 2           8.9"
            ]
          },
          "metadata": {
            "tags": []
          },
          "execution_count": 27
        }
      ]
    },
    {
      "cell_type": "code",
      "metadata": {
        "id": "jNaq_J6YvGXG",
        "colab_type": "code",
        "colab": {}
      },
      "source": [
        "# Left merge to take all rows in purchase_df, find rows where both user_id and \n",
        "# title match, then add the hours_played value column from play_df to them\n",
        "merged_users = pd.merge(purchase_df, play_df, how='left', \n",
        "                        on=['user_id', 'title'])"
      ],
      "execution_count": 0,
      "outputs": []
    },
    {
      "cell_type": "code",
      "metadata": {
        "id": "RHUrJf5Gwhe6",
        "colab_type": "code",
        "outputId": "1a171439-31e9-44a8-bf1a-1cdad845c467",
        "colab": {
          "base_uri": "https://localhost:8080/",
          "height": 85
        }
      },
      "source": [
        "# We're close now, but any rows where a user did not play the game now have NaN\n",
        "merged_users.isnull().sum()"
      ],
      "execution_count": 29,
      "outputs": [
        {
          "output_type": "execute_result",
          "data": {
            "text/plain": [
              "user_id             0\n",
              "title               0\n",
              "hours_played    58750\n",
              "dtype: int64"
            ]
          },
          "metadata": {
            "tags": []
          },
          "execution_count": 29
        }
      ]
    },
    {
      "cell_type": "code",
      "metadata": {
        "id": "ztN8zZ5cxfwv",
        "colab_type": "code",
        "outputId": "89b945b4-4f1b-4591-cb4b-731e1a509ad9",
        "colab": {
          "base_uri": "https://localhost:8080/",
          "height": 85
        }
      },
      "source": [
        "import numpy as np\n",
        "\n",
        "# Replace the NaN's with 0's to show those users played 0 hours\n",
        "merged_users = merged_users.replace(to_replace=np.nan, value=0)\n",
        "merged_users.isnull().sum()"
      ],
      "execution_count": 30,
      "outputs": [
        {
          "output_type": "execute_result",
          "data": {
            "text/plain": [
              "user_id         0\n",
              "title           0\n",
              "hours_played    0\n",
              "dtype: int64"
            ]
          },
          "metadata": {
            "tags": []
          },
          "execution_count": 30
        }
      ]
    },
    {
      "cell_type": "code",
      "metadata": {
        "id": "REZAyjBjx3JI",
        "colab_type": "code",
        "outputId": "98929e7d-967a-4630-c82a-2f26b1709595",
        "colab": {
          "base_uri": "https://localhost:8080/",
          "height": 221
        }
      },
      "source": [
        "# much better!\n",
        "print(merged_users.shape)\n",
        "merged_users.head()"
      ],
      "execution_count": 31,
      "outputs": [
        {
          "output_type": "stream",
          "text": [
            "(129535, 3)\n"
          ],
          "name": "stdout"
        },
        {
          "output_type": "execute_result",
          "data": {
            "text/html": [
              "<div>\n",
              "<style scoped>\n",
              "    .dataframe tbody tr th:only-of-type {\n",
              "        vertical-align: middle;\n",
              "    }\n",
              "\n",
              "    .dataframe tbody tr th {\n",
              "        vertical-align: top;\n",
              "    }\n",
              "\n",
              "    .dataframe thead th {\n",
              "        text-align: right;\n",
              "    }\n",
              "</style>\n",
              "<table border=\"1\" class=\"dataframe\">\n",
              "  <thead>\n",
              "    <tr style=\"text-align: right;\">\n",
              "      <th></th>\n",
              "      <th>user_id</th>\n",
              "      <th>title</th>\n",
              "      <th>hours_played</th>\n",
              "    </tr>\n",
              "  </thead>\n",
              "  <tbody>\n",
              "    <tr>\n",
              "      <th>0</th>\n",
              "      <td>151603712</td>\n",
              "      <td>The Elder Scrolls V Skyrim</td>\n",
              "      <td>273.0</td>\n",
              "    </tr>\n",
              "    <tr>\n",
              "      <th>1</th>\n",
              "      <td>151603712</td>\n",
              "      <td>Fallout 4</td>\n",
              "      <td>87.0</td>\n",
              "    </tr>\n",
              "    <tr>\n",
              "      <th>2</th>\n",
              "      <td>151603712</td>\n",
              "      <td>Spore</td>\n",
              "      <td>14.9</td>\n",
              "    </tr>\n",
              "    <tr>\n",
              "      <th>3</th>\n",
              "      <td>151603712</td>\n",
              "      <td>Fallout New Vegas</td>\n",
              "      <td>12.1</td>\n",
              "    </tr>\n",
              "    <tr>\n",
              "      <th>4</th>\n",
              "      <td>151603712</td>\n",
              "      <td>Left 4 Dead 2</td>\n",
              "      <td>8.9</td>\n",
              "    </tr>\n",
              "  </tbody>\n",
              "</table>\n",
              "</div>"
            ],
            "text/plain": [
              "     user_id                       title  hours_played\n",
              "0  151603712  The Elder Scrolls V Skyrim         273.0\n",
              "1  151603712                   Fallout 4          87.0\n",
              "2  151603712                       Spore          14.9\n",
              "3  151603712           Fallout New Vegas          12.1\n",
              "4  151603712               Left 4 Dead 2           8.9"
            ]
          },
          "metadata": {
            "tags": []
          },
          "execution_count": 31
        }
      ]
    },
    {
      "cell_type": "code",
      "metadata": {
        "id": "zrmbv1qJ0jmh",
        "colab_type": "code",
        "outputId": "5e46950b-af87-467b-9331-fc794d39c96c",
        "colab": {
          "base_uri": "https://localhost:8080/",
          "height": 170
        }
      },
      "source": [
        "# Now we can meaningfully check information\n",
        "merged_users.hours_played.describe()"
      ],
      "execution_count": 32,
      "outputs": [
        {
          "output_type": "execute_result",
          "data": {
            "text/plain": [
              "count    129535.000000\n",
              "mean         26.651008\n",
              "std         170.961280\n",
              "min           0.000000\n",
              "25%           0.000000\n",
              "50%           0.300000\n",
              "75%           5.700000\n",
              "max       11754.000000\n",
              "Name: hours_played, dtype: float64"
            ]
          },
          "metadata": {
            "tags": []
          },
          "execution_count": 32
        }
      ]
    },
    {
      "cell_type": "code",
      "metadata": {
        "id": "qlN_rA8Y0s9_",
        "colab_type": "code",
        "outputId": "67336a23-6592-4c0f-dbe2-04e9953d14b1",
        "colab": {
          "base_uri": "https://localhost:8080/",
          "height": 34
        }
      },
      "source": [
        "print(\"Number of times a user did not play a game they owned:\", \n",
        "      len(merged_users[merged_users['hours_played'] == 0]))"
      ],
      "execution_count": 33,
      "outputs": [
        {
          "output_type": "stream",
          "text": [
            "Number of times a user did not play a game they owned: 58750\n"
          ],
          "name": "stdout"
        }
      ]
    },
    {
      "cell_type": "code",
      "metadata": {
        "id": "uBOGf_q8yJ6y",
        "colab_type": "code",
        "outputId": "09e2effb-c35f-4487-fd9c-ab344efeeabb",
        "colab": {
          "base_uri": "https://localhost:8080/",
          "height": 34
        }
      },
      "source": [
        "# how many users?\n",
        "print(\"We have data for\", len(merged_users['user_id'].value_counts()), \"different users\")"
      ],
      "execution_count": 34,
      "outputs": [
        {
          "output_type": "stream",
          "text": [
            "We have data for 12393 different users\n"
          ],
          "name": "stdout"
        }
      ]
    },
    {
      "cell_type": "code",
      "metadata": {
        "id": "Sncc0sUX0cOn",
        "colab_type": "code",
        "outputId": "1c5dfdd9-806d-494f-a581-a51e64ff4863",
        "colab": {
          "base_uri": "https://localhost:8080/",
          "height": 238
        }
      },
      "source": [
        "# How many titles does each user own?\n",
        "merged_users.groupby(by='user_id').count()['title']"
      ],
      "execution_count": 35,
      "outputs": [
        {
          "output_type": "execute_result",
          "data": {
            "text/plain": [
              "user_id\n",
              "5250         21\n",
              "76767        36\n",
              "86540        82\n",
              "103360       10\n",
              "144736        8\n",
              "             ..\n",
              "309554670     1\n",
              "309626088     1\n",
              "309812026     2\n",
              "309824202     1\n",
              "309903146     1\n",
              "Name: title, Length: 12393, dtype: int64"
            ]
          },
          "metadata": {
            "tags": []
          },
          "execution_count": 35
        }
      ]
    },
    {
      "cell_type": "code",
      "metadata": {
        "id": "cF-tatF-1HLD",
        "colab_type": "code",
        "outputId": "ca15c572-3309-4455-bde4-085122dacb15",
        "colab": {
          "base_uri": "https://localhost:8080/",
          "height": 238
        }
      },
      "source": [
        "# How many users own each game?\n",
        "merged_users.groupby(by='title').count()['user_id']"
      ],
      "execution_count": 38,
      "outputs": [
        {
          "output_type": "execute_result",
          "data": {
            "text/plain": [
              "title\n",
              "007 Legends                                                     1\n",
              "0RBITALIS                                                       3\n",
              "1... 2... 3... KICK IT! (Drop That Beat Like an Ugly Baby)      7\n",
              "10 Second Ninja                                                 6\n",
              "10,000,000                                                      1\n",
              "                                                             ... \n",
              "sZone-Online                                                  102\n",
              "samurai_jazz                                                    1\n",
              "the static speaks my name                                      13\n",
              "theHunter                                                     248\n",
              "theHunter Primal                                                4\n",
              "Name: user_id, Length: 5155, dtype: int64"
            ]
          },
          "metadata": {
            "tags": []
          },
          "execution_count": 38
        }
      ]
    },
    {
      "cell_type": "markdown",
      "metadata": {
        "id": "b5Jyhlon6bR5",
        "colab_type": "text"
      },
      "source": [
        "# Answering Questions"
      ]
    },
    {
      "cell_type": "markdown",
      "metadata": {
        "id": "FfhUdjs6EkjJ",
        "colab_type": "text"
      },
      "source": [
        "## Reviews per game questions"
      ]
    },
    {
      "cell_type": "code",
      "metadata": {
        "id": "Vi_QvEbFBWW7",
        "colab_type": "code",
        "outputId": "22ae4657-2d8f-4fd8-c7a9-25d3d6f67e92",
        "colab": {
          "base_uri": "https://localhost:8080/",
          "height": 221
        }
      },
      "source": [
        "# Start a new dataframe where each row is a unique title\n",
        "reviewed_games = reviews_df.groupby('title').count()\n",
        "\n",
        "# drop extra columns, it has one for each numerical value in the original set\n",
        "# keep that as review_count\n",
        "reviewed_games = reviewed_games[['date_posted']]\n",
        "reviewed_games.columns = ['review_count']\n",
        "\n",
        "# get the recommendation_count column\n",
        "reviewed_games['recommendation_count'] = (reviews_df.groupby('title')\n",
        "                                                      .sum()['recommendation'])\n",
        "\n",
        "# calculate the recommendation_ratio\n",
        "reviewed_games['recommendation_ratio'] = (reviewed_games['recommendation_count'] \n",
        "                                          / reviewed_games['review_count'])\n",
        "\n",
        "# get average hours played per game\n",
        "reviewed_games['avg_playtime_reviews'] = (reviews_df.groupby('title')\n",
        "                        .sum()['hour_played'] / reviewed_games['review_count'])\n",
        "\n",
        "reviewed_games = reviewed_games.reset_index()\n",
        "print(reviewed_games.shape)\n",
        "reviewed_games.head()"
      ],
      "execution_count": 39,
      "outputs": [
        {
          "output_type": "stream",
          "text": [
            "(48, 5)\n"
          ],
          "name": "stdout"
        },
        {
          "output_type": "execute_result",
          "data": {
            "text/html": [
              "<div>\n",
              "<style scoped>\n",
              "    .dataframe tbody tr th:only-of-type {\n",
              "        vertical-align: middle;\n",
              "    }\n",
              "\n",
              "    .dataframe tbody tr th {\n",
              "        vertical-align: top;\n",
              "    }\n",
              "\n",
              "    .dataframe thead th {\n",
              "        text-align: right;\n",
              "    }\n",
              "</style>\n",
              "<table border=\"1\" class=\"dataframe\">\n",
              "  <thead>\n",
              "    <tr style=\"text-align: right;\">\n",
              "      <th></th>\n",
              "      <th>title</th>\n",
              "      <th>review_count</th>\n",
              "      <th>recommendation_count</th>\n",
              "      <th>recommendation_ratio</th>\n",
              "      <th>avg_playtime_reviews</th>\n",
              "    </tr>\n",
              "  </thead>\n",
              "  <tbody>\n",
              "    <tr>\n",
              "      <th>0</th>\n",
              "      <td>ACE COMBAT™ 7: SKIES UNKNOWN</td>\n",
              "      <td>10</td>\n",
              "      <td>10.0</td>\n",
              "      <td>1.000000</td>\n",
              "      <td>23.900000</td>\n",
              "    </tr>\n",
              "    <tr>\n",
              "      <th>1</th>\n",
              "      <td>ARK: Survival Evolved</td>\n",
              "      <td>195</td>\n",
              "      <td>33.0</td>\n",
              "      <td>0.169231</td>\n",
              "      <td>878.364103</td>\n",
              "    </tr>\n",
              "    <tr>\n",
              "      <th>2</th>\n",
              "      <td>ASTRONEER</td>\n",
              "      <td>2661</td>\n",
              "      <td>2573.0</td>\n",
              "      <td>0.966930</td>\n",
              "      <td>49.744081</td>\n",
              "    </tr>\n",
              "    <tr>\n",
              "      <th>3</th>\n",
              "      <td>Battlefleet Gothic: Armada 2</td>\n",
              "      <td>10</td>\n",
              "      <td>8.0</td>\n",
              "      <td>0.800000</td>\n",
              "      <td>59.100000</td>\n",
              "    </tr>\n",
              "    <tr>\n",
              "      <th>4</th>\n",
              "      <td>Beat Saber</td>\n",
              "      <td>10</td>\n",
              "      <td>10.0</td>\n",
              "      <td>1.000000</td>\n",
              "      <td>57.300000</td>\n",
              "    </tr>\n",
              "  </tbody>\n",
              "</table>\n",
              "</div>"
            ],
            "text/plain": [
              "                          title  ...  avg_playtime_reviews\n",
              "0  ACE COMBAT™ 7: SKIES UNKNOWN  ...             23.900000\n",
              "1         ARK: Survival Evolved  ...            878.364103\n",
              "2                     ASTRONEER  ...             49.744081\n",
              "3  Battlefleet Gothic: Armada 2  ...             59.100000\n",
              "4                    Beat Saber  ...             57.300000\n",
              "\n",
              "[5 rows x 5 columns]"
            ]
          },
          "metadata": {
            "tags": []
          },
          "execution_count": 39
        }
      ]
    },
    {
      "cell_type": "code",
      "metadata": {
        "id": "8A3FgoDTM2vf",
        "colab_type": "code",
        "colab": {}
      },
      "source": [
        "# Creating a function to get ranked lists easier\n",
        "def sort_games(by, ascending=False, min_review_count=None):\n",
        "  \"\"\"\n",
        "  returns the reviewed games sorted by the given column\n",
        "\n",
        "  by: column to sort by\n",
        "\n",
        "  ascending: sort by ascending or decending\n",
        "\n",
        "  min_review_count: minimum number of reviews a game needs to be included,\n",
        "                    all games are kept by default\n",
        "  \"\"\"\n",
        "  if min_review_count == None:\n",
        "    return reviewed_games.sort_values(by=by, ascending=ascending)\n",
        "  else:\n",
        "    return (reviewed_games[reviewed_games['review_count'] >= min_review_count]\n",
        "                                      .sort_values(by=by, ascending=ascending))"
      ],
      "execution_count": 0,
      "outputs": []
    },
    {
      "cell_type": "markdown",
      "metadata": {
        "id": "Gjwfy5fuBskI",
        "colab_type": "text"
      },
      "source": [
        "### Which games had the highest percentage of recommendations?"
      ]
    },
    {
      "cell_type": "code",
      "metadata": {
        "id": "F_TiPVczNwYy",
        "colab_type": "code",
        "outputId": "857ab0db-5541-4ab4-ae30-d88cd38cf89d",
        "colab": {
          "base_uri": "https://localhost:8080/",
          "height": 204
        }
      },
      "source": [
        "# Which games had the highest percentage of recommendations?\n",
        "sort_games(by='recommendation_ratio').head()"
      ],
      "execution_count": 41,
      "outputs": [
        {
          "output_type": "execute_result",
          "data": {
            "text/html": [
              "<div>\n",
              "<style scoped>\n",
              "    .dataframe tbody tr th:only-of-type {\n",
              "        vertical-align: middle;\n",
              "    }\n",
              "\n",
              "    .dataframe tbody tr th {\n",
              "        vertical-align: top;\n",
              "    }\n",
              "\n",
              "    .dataframe thead th {\n",
              "        text-align: right;\n",
              "    }\n",
              "</style>\n",
              "<table border=\"1\" class=\"dataframe\">\n",
              "  <thead>\n",
              "    <tr style=\"text-align: right;\">\n",
              "      <th></th>\n",
              "      <th>title</th>\n",
              "      <th>review_count</th>\n",
              "      <th>recommendation_count</th>\n",
              "      <th>recommendation_ratio</th>\n",
              "      <th>avg_playtime_reviews</th>\n",
              "    </tr>\n",
              "  </thead>\n",
              "  <tbody>\n",
              "    <tr>\n",
              "      <th>0</th>\n",
              "      <td>ACE COMBAT™ 7: SKIES UNKNOWN</td>\n",
              "      <td>10</td>\n",
              "      <td>10.0</td>\n",
              "      <td>1.0</td>\n",
              "      <td>23.900000</td>\n",
              "    </tr>\n",
              "    <tr>\n",
              "      <th>11</th>\n",
              "      <td>Factorio</td>\n",
              "      <td>170</td>\n",
              "      <td>170.0</td>\n",
              "      <td>1.0</td>\n",
              "      <td>375.223529</td>\n",
              "    </tr>\n",
              "    <tr>\n",
              "      <th>45</th>\n",
              "      <td>Wallpaper Engine</td>\n",
              "      <td>170</td>\n",
              "      <td>170.0</td>\n",
              "      <td>1.0</td>\n",
              "      <td>76.982353</td>\n",
              "    </tr>\n",
              "    <tr>\n",
              "      <th>44</th>\n",
              "      <td>Tom Clancy's Rainbow Six® Siege</td>\n",
              "      <td>10</td>\n",
              "      <td>10.0</td>\n",
              "      <td>1.0</td>\n",
              "      <td>867.900000</td>\n",
              "    </tr>\n",
              "    <tr>\n",
              "      <th>41</th>\n",
              "      <td>Tannenberg</td>\n",
              "      <td>10</td>\n",
              "      <td>10.0</td>\n",
              "      <td>1.0</td>\n",
              "      <td>14.800000</td>\n",
              "    </tr>\n",
              "  </tbody>\n",
              "</table>\n",
              "</div>"
            ],
            "text/plain": [
              "                              title  ...  avg_playtime_reviews\n",
              "0      ACE COMBAT™ 7: SKIES UNKNOWN  ...             23.900000\n",
              "11                         Factorio  ...            375.223529\n",
              "45                 Wallpaper Engine  ...             76.982353\n",
              "44  Tom Clancy's Rainbow Six® Siege  ...            867.900000\n",
              "41                       Tannenberg  ...             14.800000\n",
              "\n",
              "[5 rows x 5 columns]"
            ]
          },
          "metadata": {
            "tags": []
          },
          "execution_count": 41
        }
      ]
    },
    {
      "cell_type": "code",
      "metadata": {
        "id": "j7A8hshL3rnM",
        "colab_type": "code",
        "colab": {
          "base_uri": "https://localhost:8080/",
          "height": 359
        },
        "outputId": "894938df-ea5c-4b4b-b190-82c6e6cd1412"
      },
      "source": [
        "sort_games(by='recommendation_ratio', min_review_count=11).head(10)[['title', 'review_count', 'recommendation_ratio', 'avg_playtime_reviews']]"
      ],
      "execution_count": 63,
      "outputs": [
        {
          "output_type": "execute_result",
          "data": {
            "text/html": [
              "<div>\n",
              "<style scoped>\n",
              "    .dataframe tbody tr th:only-of-type {\n",
              "        vertical-align: middle;\n",
              "    }\n",
              "\n",
              "    .dataframe tbody tr th {\n",
              "        vertical-align: top;\n",
              "    }\n",
              "\n",
              "    .dataframe thead th {\n",
              "        text-align: right;\n",
              "    }\n",
              "</style>\n",
              "<table border=\"1\" class=\"dataframe\">\n",
              "  <thead>\n",
              "    <tr style=\"text-align: right;\">\n",
              "      <th></th>\n",
              "      <th>title</th>\n",
              "      <th>review_count</th>\n",
              "      <th>recommendation_ratio</th>\n",
              "      <th>avg_playtime_reviews</th>\n",
              "    </tr>\n",
              "  </thead>\n",
              "  <tbody>\n",
              "    <tr>\n",
              "      <th>45</th>\n",
              "      <td>Wallpaper Engine</td>\n",
              "      <td>170</td>\n",
              "      <td>1.000000</td>\n",
              "      <td>76.982353</td>\n",
              "    </tr>\n",
              "    <tr>\n",
              "      <th>37</th>\n",
              "      <td>Stardew Valley</td>\n",
              "      <td>202</td>\n",
              "      <td>1.000000</td>\n",
              "      <td>131.009901</td>\n",
              "    </tr>\n",
              "    <tr>\n",
              "      <th>30</th>\n",
              "      <td>RimWorld</td>\n",
              "      <td>204</td>\n",
              "      <td>1.000000</td>\n",
              "      <td>251.647059</td>\n",
              "    </tr>\n",
              "    <tr>\n",
              "      <th>8</th>\n",
              "      <td>Don't Starve Together</td>\n",
              "      <td>165</td>\n",
              "      <td>1.000000</td>\n",
              "      <td>165.933333</td>\n",
              "    </tr>\n",
              "    <tr>\n",
              "      <th>9</th>\n",
              "      <td>Euro Truck Simulator 2</td>\n",
              "      <td>501</td>\n",
              "      <td>1.000000</td>\n",
              "      <td>206.554890</td>\n",
              "    </tr>\n",
              "    <tr>\n",
              "      <th>11</th>\n",
              "      <td>Factorio</td>\n",
              "      <td>170</td>\n",
              "      <td>1.000000</td>\n",
              "      <td>375.223529</td>\n",
              "    </tr>\n",
              "    <tr>\n",
              "      <th>38</th>\n",
              "      <td>Subnautica</td>\n",
              "      <td>247</td>\n",
              "      <td>1.000000</td>\n",
              "      <td>91.149798</td>\n",
              "    </tr>\n",
              "    <tr>\n",
              "      <th>42</th>\n",
              "      <td>Terraria</td>\n",
              "      <td>260</td>\n",
              "      <td>0.996154</td>\n",
              "      <td>421.723077</td>\n",
              "    </tr>\n",
              "    <tr>\n",
              "      <th>21</th>\n",
              "      <td>Left 4 Dead 2</td>\n",
              "      <td>221</td>\n",
              "      <td>0.995475</td>\n",
              "      <td>320.072398</td>\n",
              "    </tr>\n",
              "    <tr>\n",
              "      <th>29</th>\n",
              "      <td>RESIDENT EVIL 2 / BIOHAZARD RE:2</td>\n",
              "      <td>1385</td>\n",
              "      <td>0.994224</td>\n",
              "      <td>28.093141</td>\n",
              "    </tr>\n",
              "  </tbody>\n",
              "</table>\n",
              "</div>"
            ],
            "text/plain": [
              "                               title  ...  avg_playtime_reviews\n",
              "45                  Wallpaper Engine  ...             76.982353\n",
              "37                    Stardew Valley  ...            131.009901\n",
              "30                          RimWorld  ...            251.647059\n",
              "8              Don't Starve Together  ...            165.933333\n",
              "9             Euro Truck Simulator 2  ...            206.554890\n",
              "11                          Factorio  ...            375.223529\n",
              "38                        Subnautica  ...             91.149798\n",
              "42                          Terraria  ...            421.723077\n",
              "21                     Left 4 Dead 2  ...            320.072398\n",
              "29  RESIDENT EVIL 2 / BIOHAZARD RE:2  ...             28.093141\n",
              "\n",
              "[10 rows x 4 columns]"
            ]
          },
          "metadata": {
            "tags": []
          },
          "execution_count": 63
        }
      ]
    },
    {
      "cell_type": "code",
      "metadata": {
        "id": "LIwzcUtAODL5",
        "colab_type": "code",
        "outputId": "91ee2b5b-43fe-4b7b-f05d-8bbe32bf6910",
        "colab": {
          "base_uri": "https://localhost:8080/",
          "height": 204
        }
      },
      "source": [
        "sort_games(by='recommendation_ratio', min_review_count=11).head()"
      ],
      "execution_count": 42,
      "outputs": [
        {
          "output_type": "execute_result",
          "data": {
            "text/html": [
              "<div>\n",
              "<style scoped>\n",
              "    .dataframe tbody tr th:only-of-type {\n",
              "        vertical-align: middle;\n",
              "    }\n",
              "\n",
              "    .dataframe tbody tr th {\n",
              "        vertical-align: top;\n",
              "    }\n",
              "\n",
              "    .dataframe thead th {\n",
              "        text-align: right;\n",
              "    }\n",
              "</style>\n",
              "<table border=\"1\" class=\"dataframe\">\n",
              "  <thead>\n",
              "    <tr style=\"text-align: right;\">\n",
              "      <th></th>\n",
              "      <th>title</th>\n",
              "      <th>review_count</th>\n",
              "      <th>recommendation_count</th>\n",
              "      <th>recommendation_ratio</th>\n",
              "      <th>avg_playtime_reviews</th>\n",
              "    </tr>\n",
              "  </thead>\n",
              "  <tbody>\n",
              "    <tr>\n",
              "      <th>45</th>\n",
              "      <td>Wallpaper Engine</td>\n",
              "      <td>170</td>\n",
              "      <td>170.0</td>\n",
              "      <td>1.0</td>\n",
              "      <td>76.982353</td>\n",
              "    </tr>\n",
              "    <tr>\n",
              "      <th>37</th>\n",
              "      <td>Stardew Valley</td>\n",
              "      <td>202</td>\n",
              "      <td>202.0</td>\n",
              "      <td>1.0</td>\n",
              "      <td>131.009901</td>\n",
              "    </tr>\n",
              "    <tr>\n",
              "      <th>30</th>\n",
              "      <td>RimWorld</td>\n",
              "      <td>204</td>\n",
              "      <td>204.0</td>\n",
              "      <td>1.0</td>\n",
              "      <td>251.647059</td>\n",
              "    </tr>\n",
              "    <tr>\n",
              "      <th>8</th>\n",
              "      <td>Don't Starve Together</td>\n",
              "      <td>165</td>\n",
              "      <td>165.0</td>\n",
              "      <td>1.0</td>\n",
              "      <td>165.933333</td>\n",
              "    </tr>\n",
              "    <tr>\n",
              "      <th>9</th>\n",
              "      <td>Euro Truck Simulator 2</td>\n",
              "      <td>501</td>\n",
              "      <td>501.0</td>\n",
              "      <td>1.0</td>\n",
              "      <td>206.554890</td>\n",
              "    </tr>\n",
              "  </tbody>\n",
              "</table>\n",
              "</div>"
            ],
            "text/plain": [
              "                     title  ...  avg_playtime_reviews\n",
              "45        Wallpaper Engine  ...             76.982353\n",
              "37          Stardew Valley  ...            131.009901\n",
              "30                RimWorld  ...            251.647059\n",
              "8    Don't Starve Together  ...            165.933333\n",
              "9   Euro Truck Simulator 2  ...            206.554890\n",
              "\n",
              "[5 rows x 5 columns]"
            ]
          },
          "metadata": {
            "tags": []
          },
          "execution_count": 42
        }
      ]
    },
    {
      "cell_type": "markdown",
      "metadata": {
        "id": "E6IYOLQVBy8R",
        "colab_type": "text"
      },
      "source": [
        "### Which games had the most hours played on average by reviewers?"
      ]
    },
    {
      "cell_type": "code",
      "metadata": {
        "id": "L4wn88s2EUSa",
        "colab_type": "code",
        "outputId": "186bfe27-44a0-4f79-8290-a8172269f979",
        "colab": {
          "base_uri": "https://localhost:8080/",
          "height": 204
        }
      },
      "source": [
        "# Which games had the most hours played on average by reviewers?\n",
        "sort_games(by='avg_playtime_reviews').head()"
      ],
      "execution_count": 43,
      "outputs": [
        {
          "output_type": "execute_result",
          "data": {
            "text/html": [
              "<div>\n",
              "<style scoped>\n",
              "    .dataframe tbody tr th:only-of-type {\n",
              "        vertical-align: middle;\n",
              "    }\n",
              "\n",
              "    .dataframe tbody tr th {\n",
              "        vertical-align: top;\n",
              "    }\n",
              "\n",
              "    .dataframe thead th {\n",
              "        text-align: right;\n",
              "    }\n",
              "</style>\n",
              "<table border=\"1\" class=\"dataframe\">\n",
              "  <thead>\n",
              "    <tr style=\"text-align: right;\">\n",
              "      <th></th>\n",
              "      <th>title</th>\n",
              "      <th>review_count</th>\n",
              "      <th>recommendation_count</th>\n",
              "      <th>recommendation_ratio</th>\n",
              "      <th>avg_playtime_reviews</th>\n",
              "    </tr>\n",
              "  </thead>\n",
              "  <tbody>\n",
              "    <tr>\n",
              "      <th>16</th>\n",
              "      <td>Garry's Mod</td>\n",
              "      <td>202</td>\n",
              "      <td>196.0</td>\n",
              "      <td>0.970297</td>\n",
              "      <td>1283.688119</td>\n",
              "    </tr>\n",
              "    <tr>\n",
              "      <th>1</th>\n",
              "      <td>ARK: Survival Evolved</td>\n",
              "      <td>195</td>\n",
              "      <td>33.0</td>\n",
              "      <td>0.169231</td>\n",
              "      <td>878.364103</td>\n",
              "    </tr>\n",
              "    <tr>\n",
              "      <th>44</th>\n",
              "      <td>Tom Clancy's Rainbow Six® Siege</td>\n",
              "      <td>10</td>\n",
              "      <td>10.0</td>\n",
              "      <td>1.000000</td>\n",
              "      <td>867.900000</td>\n",
              "    </tr>\n",
              "    <tr>\n",
              "      <th>10</th>\n",
              "      <td>Expansion - Hearts of Iron IV: Man the Guns</td>\n",
              "      <td>3</td>\n",
              "      <td>3.0</td>\n",
              "      <td>1.000000</td>\n",
              "      <td>551.333333</td>\n",
              "    </tr>\n",
              "    <tr>\n",
              "      <th>20</th>\n",
              "      <td>Kenshi</td>\n",
              "      <td>10</td>\n",
              "      <td>10.0</td>\n",
              "      <td>1.000000</td>\n",
              "      <td>542.000000</td>\n",
              "    </tr>\n",
              "  </tbody>\n",
              "</table>\n",
              "</div>"
            ],
            "text/plain": [
              "                                          title  ...  avg_playtime_reviews\n",
              "16                                  Garry's Mod  ...           1283.688119\n",
              "1                         ARK: Survival Evolved  ...            878.364103\n",
              "44              Tom Clancy's Rainbow Six® Siege  ...            867.900000\n",
              "10  Expansion - Hearts of Iron IV: Man the Guns  ...            551.333333\n",
              "20                                       Kenshi  ...            542.000000\n",
              "\n",
              "[5 rows x 5 columns]"
            ]
          },
          "metadata": {
            "tags": []
          },
          "execution_count": 43
        }
      ]
    },
    {
      "cell_type": "code",
      "metadata": {
        "id": "0DXW6zRUOGqj",
        "colab_type": "code",
        "outputId": "fa00bd1d-331c-44c6-bd4a-55b431da84a3",
        "colab": {
          "base_uri": "https://localhost:8080/",
          "height": 204
        }
      },
      "source": [
        "# Lowest hours played?\n",
        "sort_games(by='avg_playtime_reviews', ascending=True).head()"
      ],
      "execution_count": 44,
      "outputs": [
        {
          "output_type": "execute_result",
          "data": {
            "text/html": [
              "<div>\n",
              "<style scoped>\n",
              "    .dataframe tbody tr th:only-of-type {\n",
              "        vertical-align: middle;\n",
              "    }\n",
              "\n",
              "    .dataframe tbody tr th {\n",
              "        vertical-align: top;\n",
              "    }\n",
              "\n",
              "    .dataframe thead th {\n",
              "        text-align: right;\n",
              "    }\n",
              "</style>\n",
              "<table border=\"1\" class=\"dataframe\">\n",
              "  <thead>\n",
              "    <tr style=\"text-align: right;\">\n",
              "      <th></th>\n",
              "      <th>title</th>\n",
              "      <th>review_count</th>\n",
              "      <th>recommendation_count</th>\n",
              "      <th>recommendation_ratio</th>\n",
              "      <th>avg_playtime_reviews</th>\n",
              "    </tr>\n",
              "  </thead>\n",
              "  <tbody>\n",
              "    <tr>\n",
              "      <th>39</th>\n",
              "      <td>Subnautica: Below Zero</td>\n",
              "      <td>10</td>\n",
              "      <td>10.0</td>\n",
              "      <td>1.000000</td>\n",
              "      <td>8.300000</td>\n",
              "    </tr>\n",
              "    <tr>\n",
              "      <th>18</th>\n",
              "      <td>Human: Fall Flat</td>\n",
              "      <td>172</td>\n",
              "      <td>164.0</td>\n",
              "      <td>0.953488</td>\n",
              "      <td>13.877907</td>\n",
              "    </tr>\n",
              "    <tr>\n",
              "      <th>23</th>\n",
              "      <td>Moonlighter</td>\n",
              "      <td>10</td>\n",
              "      <td>5.0</td>\n",
              "      <td>0.500000</td>\n",
              "      <td>14.400000</td>\n",
              "    </tr>\n",
              "    <tr>\n",
              "      <th>41</th>\n",
              "      <td>Tannenberg</td>\n",
              "      <td>10</td>\n",
              "      <td>10.0</td>\n",
              "      <td>1.000000</td>\n",
              "      <td>14.800000</td>\n",
              "    </tr>\n",
              "    <tr>\n",
              "      <th>14</th>\n",
              "      <td>Foundation</td>\n",
              "      <td>10</td>\n",
              "      <td>8.0</td>\n",
              "      <td>0.800000</td>\n",
              "      <td>16.700000</td>\n",
              "    </tr>\n",
              "  </tbody>\n",
              "</table>\n",
              "</div>"
            ],
            "text/plain": [
              "                     title  ...  avg_playtime_reviews\n",
              "39  Subnautica: Below Zero  ...              8.300000\n",
              "18        Human: Fall Flat  ...             13.877907\n",
              "23             Moonlighter  ...             14.400000\n",
              "41              Tannenberg  ...             14.800000\n",
              "14              Foundation  ...             16.700000\n",
              "\n",
              "[5 rows x 5 columns]"
            ]
          },
          "metadata": {
            "tags": []
          },
          "execution_count": 44
        }
      ]
    },
    {
      "cell_type": "markdown",
      "metadata": {
        "id": "j9vPLWAmB4Nv",
        "colab_type": "text"
      },
      "source": [
        "### Is there a relationship between hours played and recommended ratio?"
      ]
    },
    {
      "cell_type": "code",
      "metadata": {
        "id": "ayricWWmLLc5",
        "colab_type": "code",
        "colab": {}
      },
      "source": [
        "# Import graphing libraries and set some universal style settings\n",
        "import matplotlib.pyplot as plt\n",
        "import matplotlib.patches as mpatches\n",
        "import seaborn as sns\n",
        "\n",
        "# Start with this as a base\n",
        "plt.style.use('seaborn-whitegrid')\n",
        "\n",
        "# Customize some defaults myself\n",
        "# run this to see all rc values: plt.rcParams\n",
        "plt.rc('font', size=12)\n",
        "plt.rc('axes', edgecolor='darkgray', titlesize='x-large')\n",
        "plt.rc('legend', frameon=True, fontsize='medium')\n",
        "\n",
        "# Color values I want to use\n",
        "my_blue = '#3477A8'\n",
        "my_orange = '#E88E40'\n",
        "my_red = '#992C2C'\n",
        "my_green = '#447537'"
      ],
      "execution_count": 0,
      "outputs": []
    },
    {
      "cell_type": "code",
      "metadata": {
        "id": "j5-rT1W_NRqf",
        "colab_type": "code",
        "colab": {
          "base_uri": "https://localhost:8080/",
          "height": 298
        },
        "outputId": "a1024164-4126-43fb-8457-0cb8d2d04344"
      },
      "source": [
        "# Answer: not a strong correlation, though there are very few games with both \n",
        "#         high average hours and low review scores\n",
        "df = reviewed_games[reviewed_games['review_count'] > 10]\n",
        "p1 = plt.scatter(x=df['avg_playtime_reviews'], y=df['recommendation_ratio']*100, \n",
        "                 color=my_blue)\n",
        "\n",
        "df = reviewed_games[reviewed_games['review_count'] <= 10]\n",
        "p2 = plt.scatter(x=df['avg_playtime_reviews'], y=df['recommendation_ratio']*100, \n",
        "                 color=my_orange)\n",
        "\n",
        "plt.title('Hours vs Recommendations per Game')\n",
        "plt.xlabel('Average Hours Played')\n",
        "plt.yticks(ticks=[0,20,40,60,80,100], labels=[0,20,40,60,80,'100%'])\n",
        "plt.ylabel('Percent Recommended')\n",
        "\n",
        "plt.legend(handles=[p1, p2], labels=['Over 10 reviews', '10 or fewer reviews'], \n",
        "           bbox_to_anchor=(1, 1));"
      ],
      "execution_count": 64,
      "outputs": [
        {
          "output_type": "display_data",
          "data": {
            "image/png": "[encoded data removed]",
            "text/plain": [
              "<Figure size 432x288 with 1 Axes>"
            ]
          },
          "metadata": {
            "tags": []
          }
        }
      ]
    },
    {
      "cell_type": "code",
      "metadata": {
        "id": "DrYQ6dm3Ol6u",
        "colab_type": "code",
        "outputId": "7fd92925-45c7-4615-b303-1b37445bfb29",
        "colab": {
          "base_uri": "https://localhost:8080/",
          "height": 51
        }
      },
      "source": [
        "# The correlation is much higher when only including games with more than 10 \n",
        "# reviews, but still not very strong\n",
        "correlation = np.corrcoef([reviewed_games['avg_playtime_reviews'], \n",
        "                           reviewed_games['recommendation_ratio']])\n",
        "print(\"Correlation coefficient with all games:\", correlation[0][1])\n",
        "\n",
        "high_games = reviewed_games[reviewed_games['review_count'] > 10]\n",
        "correlation = np.corrcoef([high_games['avg_playtime_reviews'], \n",
        "                           high_games['recommendation_ratio']])\n",
        "print(\"Correlation coefficient with highly reviewed games:\", correlation[0][1])"
      ],
      "execution_count": 47,
      "outputs": [
        {
          "output_type": "stream",
          "text": [
            "Correlation coefficient with all games: -0.06919160004845161\n",
            "Correlation coefficient with highly reviewed games: -0.35314266037972164\n"
          ],
          "name": "stdout"
        }
      ]
    },
    {
      "cell_type": "code",
      "metadata": {
        "id": "4nW8rXQisMf9",
        "colab_type": "code",
        "colab": {
          "base_uri": "https://localhost:8080/",
          "height": 298
        },
        "outputId": "72dcdd08-de78-4629-fe32-986fdceb7a16"
      },
      "source": [
        "# Graphing this from the original set\n",
        "sns.scatterplot(x=reviews_df['hour_played'], y=reviews_df['recommendation'], alpha=.5)\n",
        "plt.title('All reviews and hours played')\n",
        "plt.xlabel('Hours played')\n",
        "plt.ylabel('Recommended')\n",
        "plt.yticks(ticks=[0, 1], labels=['no', 'yes']);\n",
        "\n",
        "plt.savefig('all-reviews-hrs-played.png')"
      ],
      "execution_count": 48,
      "outputs": [
        {
          "output_type": "display_data",
          "data": {
            "image/png": "[encoded data removed]",
            "text/plain": [
              "<Figure size 432x288 with 1 Axes>"
            ]
          },
          "metadata": {
            "tags": []
          }
        }
      ]
    },
    {
      "cell_type": "code",
      "metadata": {
        "id": "DSOw8pG_3dm_",
        "colab_type": "code",
        "colab": {
          "base_uri": "https://localhost:8080/",
          "height": 733
        },
        "outputId": "1b951bc8-14c0-49fb-a0f2-25b403896263"
      },
      "source": [
        "# Graph of each game's hours played, shaded by recommendation\n",
        "sorted_games = sort_games(by='avg_playtime_reviews', ascending=True)\n",
        "\n",
        "fig, ax = plt.subplots()\n",
        "fig.set_size_inches(10,12)\n",
        "\n",
        "good_review_heights = (sorted_games['avg_playtime_reviews'] * \n",
        "                       sorted_games['recommendation_ratio'])\n",
        "bad_review_heights = sorted_games['avg_playtime_reviews'] - good_review_heights\n",
        "\n",
        "p1 = plt.barh(y=sorted_games['title'], width=good_review_heights, \n",
        "              color=my_green)\n",
        "p2 = plt.barh(y=sorted_games['title'], width=bad_review_heights, \n",
        "              left=good_review_heights, color=my_red)\n",
        "\n",
        "plt.title('Average playtime of each reviewed game')\n",
        "plt.xlabel('Average hours played')\n",
        "plt.legend([p1, p2], ['Recommended', 'Not Recommended'], loc='lower right');\n",
        "\n",
        "#plt.savefig('avg-playtime-all-games.png')"
      ],
      "execution_count": 49,
      "outputs": [
        {
          "output_type": "display_data",
          "data": {
            "image/png": "[encoded data removed]",
            "text/plain": [
              "<Figure size 720x864 with 1 Axes>"
            ]
          },
          "metadata": {
            "tags": []
          }
        }
      ]
    },
    {
      "cell_type": "code",
      "metadata": {
        "id": "hJ4z4r7Z8PPV",
        "colab_type": "code",
        "colab": {
          "base_uri": "https://localhost:8080/",
          "height": 515
        },
        "outputId": "438955ab-791d-4807-a7df-f2e2e650fd73"
      },
      "source": [
        "# Same graph, but only including games over 10 reviews\n",
        "sorted_games = sort_games(by='avg_playtime_reviews', ascending=True, \n",
        "                          min_review_count=11)\n",
        "\n",
        "fig, ax = plt.subplots()\n",
        "fig.set_size_inches(10,8)\n",
        "\n",
        "good_review_heights = (sorted_games['avg_playtime_reviews'] * \n",
        "                       sorted_games['recommendation_ratio'])\n",
        "bad_review_heights = sorted_games['avg_playtime_reviews'] - good_review_heights\n",
        "\n",
        "p1 = plt.barh(y=sorted_games['title'], width=good_review_heights, \n",
        "              color=my_green)\n",
        "p2 = plt.barh(y=sorted_games['title'], width=bad_review_heights, \n",
        "              left=good_review_heights, color=my_red)\n",
        "\n",
        "plt.title('Average playtime of each reviewed game')\n",
        "plt.xlabel('Average hours played')\n",
        "plt.legend([p1, p2], ['Recommended', 'Not Recommended'], loc='lower right');\n",
        "\n",
        "#plt.savefig('avg-playtime-reviewed-games.png')"
      ],
      "execution_count": 50,
      "outputs": [
        {
          "output_type": "display_data",
          "data": {
            "image/png": "[encoded data removed]",
            "text/plain": [
              "<Figure size 720x576 with 1 Axes>"
            ]
          },
          "metadata": {
            "tags": []
          }
        }
      ]
    },
    {
      "cell_type": "markdown",
      "metadata": {
        "id": "mmtFA_LOJh42",
        "colab_type": "text"
      },
      "source": [
        "## Review questions"
      ]
    },
    {
      "cell_type": "markdown",
      "metadata": {
        "id": "dN16mTTdBWlX",
        "colab_type": "text"
      },
      "source": [
        "### How common is it to play many hours yet not recommend a game?"
      ]
    },
    {
      "cell_type": "code",
      "metadata": {
        "id": "BDXMmSaJVdhq",
        "colab_type": "code",
        "outputId": "ce72aa64-ab31-44dc-b06e-ee6f028dd3f8",
        "colab": {
          "base_uri": "https://localhost:8080/",
          "height": 170
        }
      },
      "source": [
        "# what is the mean/median hours played?\n",
        "reviews_df['hour_played'].describe()"
      ],
      "execution_count": 51,
      "outputs": [
        {
          "output_type": "execute_result",
          "data": {
            "text/plain": [
              "count    434891.000000\n",
              "mean        364.130773\n",
              "std         545.961198\n",
              "min           0.000000\n",
              "25%          62.000000\n",
              "50%         190.000000\n",
              "75%         450.000000\n",
              "max       31962.000000\n",
              "Name: hour_played, dtype: float64"
            ]
          },
          "metadata": {
            "tags": []
          },
          "execution_count": 51
        }
      ]
    },
    {
      "cell_type": "code",
      "metadata": {
        "id": "XdHE-c94WNeF",
        "colab_type": "code",
        "outputId": "2daff3cf-1b20-4172-c02c-d5edc11237b7",
        "colab": {
          "base_uri": "https://localhost:8080/",
          "height": 298
        }
      },
      "source": [
        "sns.distplot(reviews_df['hour_played'], color=my_blue)\n",
        "plt.title('Distribution of all reviews');"
      ],
      "execution_count": 52,
      "outputs": [
        {
          "output_type": "display_data",
          "data": {
            "image/png": "[encoded data removed]",
            "text/plain": [
              "<Figure size 432x288 with 1 Axes>"
            ]
          },
          "metadata": {
            "tags": []
          }
        }
      ]
    },
    {
      "cell_type": "code",
      "metadata": {
        "id": "GKfs34eo1D0V",
        "colab_type": "code",
        "colab": {
          "base_uri": "https://localhost:8080/",
          "height": 281
        },
        "outputId": "5f7502b0-a063-41c5-b6ab-c83a1f377e11"
      },
      "source": [
        ""
      ],
      "execution_count": 54,
      "outputs": [
        {
          "output_type": "execute_result",
          "data": {
            "text/plain": [
              "<matplotlib.axes._subplots.AxesSubplot at 0x7f8a01cc9b00>"
            ]
          },
          "metadata": {
            "tags": []
          },
          "execution_count": 54
        },
        {
          "output_type": "display_data",
          "data": {
            "image/png": "[encoded data removed]",
            "text/plain": [
              "<Figure size 432x288 with 1 Axes>"
            ]
          },
          "metadata": {
            "tags": []
          }
        }
      ]
    },
    {
      "cell_type": "code",
      "metadata": {
        "id": "GtKsL4YNWlWs",
        "colab_type": "code",
        "outputId": "5912d3c1-3229-40fa-9e49-9393f43c4a8e",
        "colab": {
          "base_uri": "https://localhost:8080/",
          "height": 298
        }
      },
      "source": [
        "# The vast majority of games is between 0 and 1000 hours\n",
        "recommended = reviews_df[reviews_df['recommendation']]\n",
        "not_recommended = reviews_df[~reviews_df['recommendation']]\n",
        "\n",
        "sns.distplot(recommended[recommended['hour_played'] <= 1000]['hour_played'], \n",
        "             color=my_green)\n",
        "sns.distplot(not_recommended[not_recommended['hour_played'] <= 1000]['hour_played'], \n",
        "             color=my_red)\n",
        "plt.title('Distribution of hours played under 1000');"
      ],
      "execution_count": 66,
      "outputs": [
        {
          "output_type": "display_data",
          "data": {
            "image/png": "[encoded data removed]",
            "text/plain": [
              "<Figure size 432x288 with 1 Axes>"
            ]
          },
          "metadata": {
            "tags": []
          }
        }
      ]
    },
    {
      "cell_type": "code",
      "metadata": {
        "id": "0GqwV8mrXQ2Y",
        "colab_type": "code",
        "outputId": "f70c1203-c027-4945-b86f-93fcf5ab067e",
        "colab": {
          "base_uri": "https://localhost:8080/",
          "height": 298
        }
      },
      "source": [
        "sns.distplot(recommended[recommended['hour_played'] > 1000]['hour_played'], \n",
        "             color=my_green)\n",
        "sns.distplot(not_recommended[not_recommended['hour_played'] > 1000]['hour_played'], \n",
        "             color=my_red)\n",
        "plt.title('Distribution of hours played over 1000');"
      ],
      "execution_count": 67,
      "outputs": [
        {
          "output_type": "display_data",
          "data": {
            "image/png": "[encoded data removed]",
            "text/plain": [
              "<Figure size 432x288 with 1 Axes>"
            ]
          },
          "metadata": {
            "tags": []
          }
        }
      ]
    },
    {
      "cell_type": "code",
      "metadata": {
        "id": "bqKhK8x7Jd8K",
        "colab_type": "code",
        "colab": {
          "base_uri": "https://localhost:8080/",
          "height": 51
        },
        "outputId": "eb1c7b7e-f03e-44dc-9b94-4aa3dc6ca4a1"
      },
      "source": [
        "# If I arbitrarily define \"many hours\" as...\n",
        "# median = 190, mean = 364\n",
        "hours = 190\n",
        "\n",
        "count = len(reviews_df[reviews_df['hour_played'] >= hours])\n",
        "ratio = (reviews_df[reviews_df['hour_played'] >= hours]['recommendation'].sum() \n",
        "          / count)\n",
        "print(count, 'reviewers have played over', hours, \n",
        "      'hours, and they recommend the game', round(ratio*100,2), '% of the time')\n",
        "\n",
        "count = len(reviews_df[reviews_df['hour_played'] < hours])\n",
        "ratio = (reviews_df[reviews_df['hour_played'] < hours]['recommendation'].sum() \n",
        "          / count)\n",
        "print(count, 'reviewers have played under', hours, \n",
        "      'hours, and they recommend the game', round(ratio*100,2), '% of the time')"
      ],
      "execution_count": 68,
      "outputs": [
        {
          "output_type": "stream",
          "text": [
            "217720 reviewers have played over 190 hours, and they recommend the game 73.23 % of the time\n",
            "217171 reviewers have played under 190 hours, and they recommend the game 66.38 % of the time\n"
          ],
          "name": "stdout"
        }
      ]
    },
    {
      "cell_type": "markdown",
      "metadata": {
        "id": "9XWbUeU2csyB",
        "colab_type": "text"
      },
      "source": [
        "So players who have played more than the median of 190 hours recommend their games about 7% more often.  Is that signifigant?\n",
        "\n",
        "T test for signifigance:\n",
        "\n",
        "$H_0:$ The average amount of recommendations is the same between players who play more than the average of 364 hours and those that play less.\n",
        "\n",
        "$H_1:$ The average amount of recommendations between those groups is different.\n",
        "\n",
        "Confidence Level: 95%"
      ]
    },
    {
      "cell_type": "code",
      "metadata": {
        "id": "_sDPZtDZbUaJ",
        "colab_type": "code",
        "colab": {
          "base_uri": "https://localhost:8080/",
          "height": 34
        },
        "outputId": "0a88b75a-25f7-480e-8549-a6fbf0339f80"
      },
      "source": [
        "from scipy.stats import ttest_ind\n",
        "\n",
        "ttest_ind(reviews_df[reviews_df['hour_played'] >= hours]['recommendation'],\n",
        "          reviews_df[reviews_df['hour_played'] < hours]['recommendation'])"
      ],
      "execution_count": 69,
      "outputs": [
        {
          "output_type": "execute_result",
          "data": {
            "text/plain": [
              "Ttest_indResult(statistic=49.3455169311061, pvalue=0.0)"
            ]
          },
          "metadata": {
            "tags": []
          },
          "execution_count": 69
        }
      ]
    },
    {
      "cell_type": "markdown",
      "metadata": {
        "id": "fEMoP7n5dyWE",
        "colab_type": "text"
      },
      "source": [
        "Due to a p-value of 0, I reject the null hypothesis that the means are the same and suggest they are different.\n",
        "\n",
        "Or in plain English: I can confirm that, statistically, players who play their games more than the average of 364 hours recommend the games more often on average than those that play fewer hours."
      ]
    },
    {
      "cell_type": "markdown",
      "metadata": {
        "id": "SYwiruxAiHUm",
        "colab_type": "text"
      },
      "source": [
        "### How many reviewers did not play the game they reviewed?"
      ]
    },
    {
      "cell_type": "code",
      "metadata": {
        "id": "YUUNKloLiKeA",
        "colab_type": "code",
        "colab": {
          "base_uri": "https://localhost:8080/",
          "height": 34
        },
        "outputId": "c9033c2d-0e63-4c63-d4ea-5aa0569bf185"
      },
      "source": [
        "print(len(reviews_df[reviews_df['hour_played'] == 0]), \n",
        "      'reviewers have 0 hours recorded actually playing the game')"
      ],
      "execution_count": 70,
      "outputs": [
        {
          "output_type": "stream",
          "text": [
            "6258 reviewers have 0 hours recorded actually playing the game\n"
          ],
          "name": "stdout"
        }
      ]
    },
    {
      "cell_type": "markdown",
      "metadata": {
        "id": "974h4aVVBgWi",
        "colab_type": "text"
      },
      "source": [
        "### Are reviews longer when recommending a game, or not?"
      ]
    },
    {
      "cell_type": "code",
      "metadata": {
        "id": "JN3hGIdCARtj",
        "colab_type": "code",
        "colab": {
          "base_uri": "https://localhost:8080/",
          "height": 282
        },
        "outputId": "a9cda388-8533-476d-8621-3c7cfe998f59"
      },
      "source": [
        "# Average review lengths\n",
        "plt.bar(x=0, height=recommended['review_length'].mean(), color=my_blue)\n",
        "plt.bar(x=1, height=not_recommended['review_length'].mean(), color=my_orange)\n",
        "plt.title('Average review length')\n",
        "plt.ylabel('Review length (# of characters)')\n",
        "plt.xticks(ticks=[0, 1], labels=['Recommended', 'Not recommended']);\n",
        "\n",
        "plt.savefig('avg-review-length-bar.png')"
      ],
      "execution_count": 71,
      "outputs": [
        {
          "output_type": "display_data",
          "data": {
            "image/png": "[encoded data removed]",
            "text/plain": [
              "<Figure size 432x288 with 1 Axes>"
            ]
          },
          "metadata": {
            "tags": []
          }
        }
      ]
    },
    {
      "cell_type": "code",
      "metadata": {
        "id": "mUL2YcB1BM3z",
        "colab_type": "code",
        "colab": {
          "base_uri": "https://localhost:8080/",
          "height": 51
        },
        "outputId": "71679d5c-4bd3-40a2-b85c-f08d3f2772d0"
      },
      "source": [
        "print(\"Positive reviews had an average length of\", \n",
        "      recommended['review_length'].mean())\n",
        "print(\"Negative reviews had an average length of\", \n",
        "      not_recommended['review_length'].mean())"
      ],
      "execution_count": 110,
      "outputs": [
        {
          "output_type": "stream",
          "text": [
            "Positive reviews had an average length of 183.97512788503028\n",
            "Negative reviews had an average length of 294.7191579460464\n"
          ],
          "name": "stdout"
        }
      ]
    },
    {
      "cell_type": "markdown",
      "metadata": {
        "id": "xTl0sc0vBPuW",
        "colab_type": "text"
      },
      "source": [
        "### Are early access reviews recommended more often than not?"
      ]
    },
    {
      "cell_type": "code",
      "metadata": {
        "id": "hDhDAmW1Ychd",
        "colab_type": "code",
        "outputId": "81eca202-8ae3-4c83-97c7-c389f02920db",
        "colab": {
          "base_uri": "https://localhost:8080/",
          "height": 34
        }
      },
      "source": [
        "# Are early access reviews recommended more often than not?\n",
        "# Answer: maybe a small difference?  Try a T-test\n",
        "early_count = reviews_df['is_early_access_review'].sum()\n",
        "print(early_count, \"out of\", len(reviews_df), \"reviews were in early access\")"
      ],
      "execution_count": 72,
      "outputs": [
        {
          "output_type": "stream",
          "text": [
            "126991 out of 434891 reviews were in early access\n"
          ],
          "name": "stdout"
        }
      ]
    },
    {
      "cell_type": "code",
      "metadata": {
        "id": "Tv0RxiPyZAUI",
        "colab_type": "code",
        "outputId": "d889e170-55fd-4888-e8d5-903ff216e6d1",
        "colab": {
          "base_uri": "https://localhost:8080/",
          "height": 51
        }
      },
      "source": [
        "early_recommended = reviews_df[reviews_df['is_early_access_review']]['recommendation'].sum()\n",
        "print(str(((early_recommended/early_count)*100).round(2))+\n",
        "      \"% of early access reviews were recommended\")\n",
        "\n",
        "late_count = len(reviews_df) - early_count\n",
        "late_recommended = reviews_df[~reviews_df['is_early_access_review']]['recommendation'].sum()\n",
        "print(str(((late_recommended/late_count)*100).round(2))+\n",
        "      \"% of non-early access reviews were recommended\")"
      ],
      "execution_count": 73,
      "outputs": [
        {
          "output_type": "stream",
          "text": [
            "76.45% of early access reviews were recommended\n",
            "67.07% of non-early access reviews were recommended\n"
          ],
          "name": "stdout"
        }
      ]
    },
    {
      "cell_type": "markdown",
      "metadata": {
        "id": "sG2coRcdiyQG",
        "colab_type": "text"
      },
      "source": [
        "Again, this is only a difference of about 9%.  Let's try another t-test to be sure:\n",
        "\n",
        "$H_0:$ The average amount of recommendations is the same between players who played during early access and those who did not.\n",
        "\n",
        "$H_1:$ The average amount of recommendations between those groups is different.\n",
        "\n",
        "Confidence Level: 95%"
      ]
    },
    {
      "cell_type": "code",
      "metadata": {
        "id": "aSmcaV31iyyd",
        "colab_type": "code",
        "colab": {
          "base_uri": "https://localhost:8080/",
          "height": 34
        },
        "outputId": "e05b0d6c-e7b8-4616-f17a-16a7101d9568"
      },
      "source": [
        "ttest_ind(reviews_df[reviews_df['is_early_access_review']]['recommendation'],\n",
        "          reviews_df[~reviews_df['is_early_access_review']]['recommendation'])"
      ],
      "execution_count": 74,
      "outputs": [
        {
          "output_type": "execute_result",
          "data": {
            "text/plain": [
              "Ttest_indResult(statistic=61.48949641301186, pvalue=0.0)"
            ]
          },
          "metadata": {
            "tags": []
          },
          "execution_count": 74
        }
      ]
    },
    {
      "cell_type": "markdown",
      "metadata": {
        "id": "alPJ9-42jfpV",
        "colab_type": "text"
      },
      "source": [
        "Due to a p-value of 0, I can reject the null hypothesis that the means are the same and instead suggest they are different.\n",
        "\n",
        "So we can statistically show that overall, games that were in early access while being reviewed are reviewed slightly more favorably."
      ]
    },
    {
      "cell_type": "markdown",
      "metadata": {
        "id": "2qnBQsG1BTVB",
        "colab_type": "text"
      },
      "source": [
        "### Is there a relationship between length of the review and if it was found funny or helpful?"
      ]
    },
    {
      "cell_type": "code",
      "metadata": {
        "id": "gEbFaRVtcB7C",
        "colab_type": "code",
        "outputId": "2fa5bef4-94d9-4791-cccd-1072f4334194",
        "colab": {
          "base_uri": "https://localhost:8080/",
          "height": 280
        }
      },
      "source": [
        "# Is there a relationship between length of the review and if it was found funny or helpful?\n",
        "# Answer: doesn't look like it\n",
        "sns.scatterplot(x=reviews_df['review_length'], y=reviews_df['funny'], color=my_blue);"
      ],
      "execution_count": 75,
      "outputs": [
        {
          "output_type": "display_data",
          "data": {
            "image/png": "[encoded data removed]",
            "text/plain": [
              "<Figure size 432x288 with 1 Axes>"
            ]
          },
          "metadata": {
            "tags": []
          }
        }
      ]
    },
    {
      "cell_type": "code",
      "metadata": {
        "id": "RP1HumGLcdJJ",
        "colab_type": "code",
        "outputId": "c8073b24-02c7-4bf9-eb84-6878041be033",
        "colab": {
          "base_uri": "https://localhost:8080/",
          "height": 280
        }
      },
      "source": [
        "sns.scatterplot(x=reviews_df['review_length'], y=reviews_df['helpful'], color=my_orange);"
      ],
      "execution_count": 76,
      "outputs": [
        {
          "output_type": "display_data",
          "data": {
            "image/png": "[encoded data removed]",
            "text/plain": [
              "<Figure size 432x288 with 1 Axes>"
            ]
          },
          "metadata": {
            "tags": []
          }
        }
      ]
    },
    {
      "cell_type": "code",
      "metadata": {
        "id": "4lER1PKVcpON",
        "colab_type": "code",
        "outputId": "41caf5c4-31fa-448c-d134-e2dce652760a",
        "colab": {
          "base_uri": "https://localhost:8080/",
          "height": 68
        }
      },
      "source": [
        "#excluding outliers\n",
        "trimmed_reviews = reviews_df[reviews_df['review_length'] < 10000]\n",
        "print(len(reviews_df) - len(trimmed_reviews), 'reviews removed by review length')\n",
        "\n",
        "count = len(trimmed_reviews)\n",
        "trimmed_reviews = trimmed_reviews[trimmed_reviews['helpful'] < 10000]\n",
        "print(count - len(trimmed_reviews), 'reviews removed by helpful count')\n",
        "\n",
        "count = len(trimmed_reviews)\n",
        "trimmed_reviews = trimmed_reviews[trimmed_reviews['funny'] < 4000]\n",
        "print(count - len(trimmed_reviews), 'reviews removed by funny count')"
      ],
      "execution_count": 77,
      "outputs": [
        {
          "output_type": "stream",
          "text": [
            "2 reviews removed by review length\n",
            "3 reviews removed by helpful count\n",
            "4 reviews removed by funny count\n"
          ],
          "name": "stdout"
        }
      ]
    },
    {
      "cell_type": "code",
      "metadata": {
        "id": "jAclyxfOde1m",
        "colab_type": "code",
        "outputId": "b9b550bb-b74d-436d-ec44-15da15db41fb",
        "colab": {
          "base_uri": "https://localhost:8080/",
          "height": 298
        }
      },
      "source": [
        "sns.scatterplot(x=trimmed_reviews['review_length'], y=trimmed_reviews['funny'], \n",
        "                alpha=.7, color=my_blue)\n",
        "plt.title('Review Length vs Funny Votes')\n",
        "plt.xlabel('Review length')\n",
        "plt.ylabel('Funny votes');\n",
        "\n",
        "plt.savefig('review-length-funny-scatter.png')"
      ],
      "execution_count": 78,
      "outputs": [
        {
          "output_type": "display_data",
          "data": {
            "image/png": "[encoded data removed]",
            "text/plain": [
              "<Figure size 432x288 with 1 Axes>"
            ]
          },
          "metadata": {
            "tags": []
          }
        }
      ]
    },
    {
      "cell_type": "code",
      "metadata": {
        "id": "BWI_CWmxYryv",
        "colab_type": "code",
        "colab": {
          "base_uri": "https://localhost:8080/",
          "height": 298
        },
        "outputId": "8c6c7f07-c6f7-4323-fd62-df06659bcb29"
      },
      "source": [
        "sns.scatterplot(x=trimmed_reviews['review_length'], y=trimmed_reviews['helpful'], \n",
        "                alpha=.7, color=my_orange)\n",
        "plt.title('Review Length vs Helpful Votes')\n",
        "plt.xlabel('Review length')\n",
        "plt.ylabel('Helpful votes');\n",
        "\n",
        "plt.savefig('review-length-helpful-scatter.png')"
      ],
      "execution_count": 79,
      "outputs": [
        {
          "output_type": "display_data",
          "data": {
            "image/png": "[encoded data removed]",
            "text/plain": [
              "<Figure size 432x288 with 1 Axes>"
            ]
          },
          "metadata": {
            "tags": []
          }
        }
      ]
    },
    {
      "cell_type": "code",
      "metadata": {
        "id": "EDdTox5Wfy07",
        "colab_type": "code",
        "outputId": "e18ebe69-fb3a-40cf-b7e8-342c0e4ada6f",
        "colab": {
          "base_uri": "https://localhost:8080/",
          "height": 51
        }
      },
      "source": [
        "# Pretty low correlation, even after removing outliers\n",
        "correlation = np.corrcoef([trimmed_reviews['review_length'], \n",
        "                           trimmed_reviews['funny']])\n",
        "print(\"Correlation coefficient of length to funny:\", correlation[0][1])\n",
        "\n",
        "correlation = np.corrcoef([trimmed_reviews['review_length'], \n",
        "                           trimmed_reviews['helpful']])\n",
        "print(\"Correlation coefficient with length to helpful:\", correlation[0][1])"
      ],
      "execution_count": 80,
      "outputs": [
        {
          "output_type": "stream",
          "text": [
            "Correlation coefficient of length to funny: 0.0336179188683173\n",
            "Correlation coefficient with length to helpful: 0.0627425086570904\n"
          ],
          "name": "stdout"
        }
      ]
    },
    {
      "cell_type": "markdown",
      "metadata": {
        "id": "JY1ziaMPsNWG",
        "colab_type": "text"
      },
      "source": [
        "### Is there a relationship between reviews that recommended the game, and were found either funny or helpful?"
      ]
    },
    {
      "cell_type": "code",
      "metadata": {
        "id": "OQqLcdzew5Aa",
        "colab_type": "code",
        "colab": {
          "base_uri": "https://localhost:8080/",
          "height": 142
        },
        "outputId": "94e5f197-46b6-40e0-d2d0-d0c941265b64"
      },
      "source": [
        "# Average funny and helpful scores, grouped by recommendation\n",
        "reviews_df.groupby(by='recommendation').mean()[['funny', 'helpful']]"
      ],
      "execution_count": 81,
      "outputs": [
        {
          "output_type": "execute_result",
          "data": {
            "text/html": [
              "<div>\n",
              "<style scoped>\n",
              "    .dataframe tbody tr th:only-of-type {\n",
              "        vertical-align: middle;\n",
              "    }\n",
              "\n",
              "    .dataframe tbody tr th {\n",
              "        vertical-align: top;\n",
              "    }\n",
              "\n",
              "    .dataframe thead th {\n",
              "        text-align: right;\n",
              "    }\n",
              "</style>\n",
              "<table border=\"1\" class=\"dataframe\">\n",
              "  <thead>\n",
              "    <tr style=\"text-align: right;\">\n",
              "      <th></th>\n",
              "      <th>funny</th>\n",
              "      <th>helpful</th>\n",
              "    </tr>\n",
              "    <tr>\n",
              "      <th>recommendation</th>\n",
              "      <th></th>\n",
              "      <th></th>\n",
              "    </tr>\n",
              "  </thead>\n",
              "  <tbody>\n",
              "    <tr>\n",
              "      <th>False</th>\n",
              "      <td>0.304917</td>\n",
              "      <td>0.943289</td>\n",
              "    </tr>\n",
              "    <tr>\n",
              "      <th>True</th>\n",
              "      <td>0.404996</td>\n",
              "      <td>1.030419</td>\n",
              "    </tr>\n",
              "  </tbody>\n",
              "</table>\n",
              "</div>"
            ],
            "text/plain": [
              "                   funny   helpful\n",
              "recommendation                    \n",
              "False           0.304917  0.943289\n",
              "True            0.404996  1.030419"
            ]
          },
          "metadata": {
            "tags": []
          },
          "execution_count": 81
        }
      ]
    },
    {
      "cell_type": "markdown",
      "metadata": {
        "id": "xFeFUkntgUFt",
        "colab_type": "text"
      },
      "source": [
        "## Ownership questions"
      ]
    },
    {
      "cell_type": "code",
      "metadata": {
        "id": "DCyY2Tguhr4V",
        "colab_type": "code",
        "outputId": "ad315afc-3b8e-4a52-f66b-64a64eb6e833",
        "colab": {
          "base_uri": "https://localhost:8080/",
          "height": 204
        }
      },
      "source": [
        "merged_users.head()"
      ],
      "execution_count": 82,
      "outputs": [
        {
          "output_type": "execute_result",
          "data": {
            "text/html": [
              "<div>\n",
              "<style scoped>\n",
              "    .dataframe tbody tr th:only-of-type {\n",
              "        vertical-align: middle;\n",
              "    }\n",
              "\n",
              "    .dataframe tbody tr th {\n",
              "        vertical-align: top;\n",
              "    }\n",
              "\n",
              "    .dataframe thead th {\n",
              "        text-align: right;\n",
              "    }\n",
              "</style>\n",
              "<table border=\"1\" class=\"dataframe\">\n",
              "  <thead>\n",
              "    <tr style=\"text-align: right;\">\n",
              "      <th></th>\n",
              "      <th>user_id</th>\n",
              "      <th>title</th>\n",
              "      <th>hours_played</th>\n",
              "    </tr>\n",
              "  </thead>\n",
              "  <tbody>\n",
              "    <tr>\n",
              "      <th>0</th>\n",
              "      <td>151603712</td>\n",
              "      <td>The Elder Scrolls V Skyrim</td>\n",
              "      <td>273.0</td>\n",
              "    </tr>\n",
              "    <tr>\n",
              "      <th>1</th>\n",
              "      <td>151603712</td>\n",
              "      <td>Fallout 4</td>\n",
              "      <td>87.0</td>\n",
              "    </tr>\n",
              "    <tr>\n",
              "      <th>2</th>\n",
              "      <td>151603712</td>\n",
              "      <td>Spore</td>\n",
              "      <td>14.9</td>\n",
              "    </tr>\n",
              "    <tr>\n",
              "      <th>3</th>\n",
              "      <td>151603712</td>\n",
              "      <td>Fallout New Vegas</td>\n",
              "      <td>12.1</td>\n",
              "    </tr>\n",
              "    <tr>\n",
              "      <th>4</th>\n",
              "      <td>151603712</td>\n",
              "      <td>Left 4 Dead 2</td>\n",
              "      <td>8.9</td>\n",
              "    </tr>\n",
              "  </tbody>\n",
              "</table>\n",
              "</div>"
            ],
            "text/plain": [
              "     user_id                       title  hours_played\n",
              "0  151603712  The Elder Scrolls V Skyrim         273.0\n",
              "1  151603712                   Fallout 4          87.0\n",
              "2  151603712                       Spore          14.9\n",
              "3  151603712           Fallout New Vegas          12.1\n",
              "4  151603712               Left 4 Dead 2           8.9"
            ]
          },
          "metadata": {
            "tags": []
          },
          "execution_count": 82
        }
      ]
    },
    {
      "cell_type": "markdown",
      "metadata": {
        "id": "v2_Gs-WzCJaR",
        "colab_type": "text"
      },
      "source": [
        "### How many games on average does each user own?"
      ]
    },
    {
      "cell_type": "code",
      "metadata": {
        "id": "AVYJKfEohwiP",
        "colab_type": "code",
        "outputId": "89343579-21b6-4552-bafa-6e3649ebddde",
        "colab": {
          "base_uri": "https://localhost:8080/",
          "height": 34
        }
      },
      "source": [
        "print('On average, each user in this set owns', \n",
        "      round(merged_users['user_id'].value_counts().mean(), 2), 'games')"
      ],
      "execution_count": 83,
      "outputs": [
        {
          "output_type": "stream",
          "text": [
            "On average, each user in this set owns 10.45 games\n"
          ],
          "name": "stdout"
        }
      ]
    },
    {
      "cell_type": "code",
      "metadata": {
        "id": "9UOs5qVjE8JC",
        "colab_type": "code",
        "colab": {
          "base_uri": "https://localhost:8080/",
          "height": 170
        },
        "outputId": "7e91d6a0-291c-4eb6-b725-fb5add2cdaf3"
      },
      "source": [
        "merged_users['user_id'].value_counts().describe()"
      ],
      "execution_count": 114,
      "outputs": [
        {
          "output_type": "execute_result",
          "data": {
            "text/plain": [
              "count    12393.000000\n",
              "mean        10.452271\n",
              "std         35.872321\n",
              "min          1.000000\n",
              "25%          1.000000\n",
              "50%          2.000000\n",
              "75%          6.000000\n",
              "max       1075.000000\n",
              "Name: user_id, dtype: float64"
            ]
          },
          "metadata": {
            "tags": []
          },
          "execution_count": 114
        }
      ]
    },
    {
      "cell_type": "markdown",
      "metadata": {
        "id": "iP7hmHWcCMaL",
        "colab_type": "text"
      },
      "source": [
        "### How many of their games does each user play?"
      ]
    },
    {
      "cell_type": "code",
      "metadata": {
        "id": "SbETn-vriXZG",
        "colab_type": "code",
        "outputId": "a3832b0f-9bd2-4d31-9ea6-9e57fb5d0394",
        "colab": {
          "base_uri": "https://localhost:8080/",
          "height": 204
        }
      },
      "source": [
        "# need to reshape data to get that\n",
        "users = merged_users['user_id'].value_counts().reset_index()\n",
        "users.columns = ['user_id', 'games_owned']\n",
        "users.head()"
      ],
      "execution_count": 84,
      "outputs": [
        {
          "output_type": "execute_result",
          "data": {
            "text/html": [
              "<div>\n",
              "<style scoped>\n",
              "    .dataframe tbody tr th:only-of-type {\n",
              "        vertical-align: middle;\n",
              "    }\n",
              "\n",
              "    .dataframe tbody tr th {\n",
              "        vertical-align: top;\n",
              "    }\n",
              "\n",
              "    .dataframe thead th {\n",
              "        text-align: right;\n",
              "    }\n",
              "</style>\n",
              "<table border=\"1\" class=\"dataframe\">\n",
              "  <thead>\n",
              "    <tr style=\"text-align: right;\">\n",
              "      <th></th>\n",
              "      <th>user_id</th>\n",
              "      <th>games_owned</th>\n",
              "    </tr>\n",
              "  </thead>\n",
              "  <tbody>\n",
              "    <tr>\n",
              "      <th>0</th>\n",
              "      <td>62990992</td>\n",
              "      <td>1075</td>\n",
              "    </tr>\n",
              "    <tr>\n",
              "      <th>1</th>\n",
              "      <td>33865373</td>\n",
              "      <td>785</td>\n",
              "    </tr>\n",
              "    <tr>\n",
              "      <th>2</th>\n",
              "      <td>30246419</td>\n",
              "      <td>766</td>\n",
              "    </tr>\n",
              "    <tr>\n",
              "      <th>3</th>\n",
              "      <td>58345543</td>\n",
              "      <td>667</td>\n",
              "    </tr>\n",
              "    <tr>\n",
              "      <th>4</th>\n",
              "      <td>76892907</td>\n",
              "      <td>597</td>\n",
              "    </tr>\n",
              "  </tbody>\n",
              "</table>\n",
              "</div>"
            ],
            "text/plain": [
              "    user_id  games_owned\n",
              "0  62990992         1075\n",
              "1  33865373          785\n",
              "2  30246419          766\n",
              "3  58345543          667\n",
              "4  76892907          597"
            ]
          },
          "metadata": {
            "tags": []
          },
          "execution_count": 84
        }
      ]
    },
    {
      "cell_type": "code",
      "metadata": {
        "id": "9ppays_rjIAt",
        "colab_type": "code",
        "outputId": "f4810e02-d1b1-4b94-9c44-686c8d0141cd",
        "colab": {
          "base_uri": "https://localhost:8080/",
          "height": 204
        }
      },
      "source": [
        "# For each user, sum up the hours played on all games\n",
        "# This takes about 30 seconds to run!\n",
        "new_col = []\n",
        "for user in users['user_id']:\n",
        "  condition = ((merged_users['user_id'] == user) & \n",
        "              (merged_users['hours_played'] == 0))\n",
        "  new_col.append(len(merged_users[condition]))\n",
        "\n",
        "users['unplayed_count'] = new_col\n",
        "users.head()"
      ],
      "execution_count": 85,
      "outputs": [
        {
          "output_type": "execute_result",
          "data": {
            "text/html": [
              "<div>\n",
              "<style scoped>\n",
              "    .dataframe tbody tr th:only-of-type {\n",
              "        vertical-align: middle;\n",
              "    }\n",
              "\n",
              "    .dataframe tbody tr th {\n",
              "        vertical-align: top;\n",
              "    }\n",
              "\n",
              "    .dataframe thead th {\n",
              "        text-align: right;\n",
              "    }\n",
              "</style>\n",
              "<table border=\"1\" class=\"dataframe\">\n",
              "  <thead>\n",
              "    <tr style=\"text-align: right;\">\n",
              "      <th></th>\n",
              "      <th>user_id</th>\n",
              "      <th>games_owned</th>\n",
              "      <th>unplayed_count</th>\n",
              "    </tr>\n",
              "  </thead>\n",
              "  <tbody>\n",
              "    <tr>\n",
              "      <th>0</th>\n",
              "      <td>62990992</td>\n",
              "      <td>1075</td>\n",
              "      <td>577</td>\n",
              "    </tr>\n",
              "    <tr>\n",
              "      <th>1</th>\n",
              "      <td>33865373</td>\n",
              "      <td>785</td>\n",
              "      <td>614</td>\n",
              "    </tr>\n",
              "    <tr>\n",
              "      <th>2</th>\n",
              "      <td>30246419</td>\n",
              "      <td>766</td>\n",
              "      <td>631</td>\n",
              "    </tr>\n",
              "    <tr>\n",
              "      <th>3</th>\n",
              "      <td>58345543</td>\n",
              "      <td>667</td>\n",
              "      <td>501</td>\n",
              "    </tr>\n",
              "    <tr>\n",
              "      <th>4</th>\n",
              "      <td>76892907</td>\n",
              "      <td>597</td>\n",
              "      <td>499</td>\n",
              "    </tr>\n",
              "  </tbody>\n",
              "</table>\n",
              "</div>"
            ],
            "text/plain": [
              "    user_id  games_owned  unplayed_count\n",
              "0  62990992         1075             577\n",
              "1  33865373          785             614\n",
              "2  30246419          766             631\n",
              "3  58345543          667             501\n",
              "4  76892907          597             499"
            ]
          },
          "metadata": {
            "tags": []
          },
          "execution_count": 85
        }
      ]
    },
    {
      "cell_type": "code",
      "metadata": {
        "id": "lg-DrQeclZ6F",
        "colab_type": "code",
        "outputId": "7fdaa946-9dec-4782-c5e4-4dbc9b480920",
        "colab": {
          "base_uri": "https://localhost:8080/",
          "height": 204
        }
      },
      "source": [
        "# check a random user to make sure I did that right\n",
        "print(users.loc[[2600]])\n",
        "print(merged_users[merged_users['user_id'] == users['user_id'][2600]])"
      ],
      "execution_count": 86,
      "outputs": [
        {
          "output_type": "stream",
          "text": [
            "        user_id  games_owned  unplayed_count\n",
            "2600  181966419            8               2\n",
            "         user_id                            title  hours_played\n",
            "58308  181966419                           Dota 2         282.0\n",
            "58309  181966419       The Elder Scrolls V Skyrim          18.6\n",
            "58310  181966419                         BioShock           2.4\n",
            "58311  181966419  Counter-Strike Global Offensive           1.7\n",
            "58312  181966419                            SMITE           1.6\n",
            "58313  181966419    Middle-earth Shadow of Mordor           0.7\n",
            "58314  181966419                       BioShock 2           0.0\n",
            "58315  181966419                BioShock Infinite           0.0\n"
          ],
          "name": "stdout"
        }
      ]
    },
    {
      "cell_type": "code",
      "metadata": {
        "id": "JlCYOrtQzFwS",
        "colab_type": "code",
        "outputId": "78ca7aeb-24dd-47cb-b64c-4482f5976282",
        "colab": {
          "base_uri": "https://localhost:8080/",
          "height": 34
        }
      },
      "source": [
        "# actual answer:\n",
        "avg = 1 - (users['unplayed_count'] / users['games_owned']).mean()\n",
        "print('On average, each user plays', round(avg * 100, 2), \n",
        "      '% of the games they buy')"
      ],
      "execution_count": 87,
      "outputs": [
        {
          "output_type": "stream",
          "text": [
            "On average, each user plays 72.68 % of the games they buy\n"
          ],
          "name": "stdout"
        }
      ]
    },
    {
      "cell_type": "code",
      "metadata": {
        "id": "XE1fPUGuHVrW",
        "colab_type": "code",
        "colab": {
          "base_uri": "https://localhost:8080/",
          "height": 298
        },
        "outputId": "e2e19f2a-2f19-4fdb-e64c-c05bf741e866"
      },
      "source": [
        "plt.scatter(x=users['games_owned'], y=users['unplayed_count'], alpha=.6)\n",
        "plt.title('Number of games left unplayed')\n",
        "plt.xlabel('Games owned')\n",
        "plt.ylabel('Games unplayed');\n",
        "\n",
        "plt.savefig('games-unplayed-scatter.png')"
      ],
      "execution_count": 127,
      "outputs": [
        {
          "output_type": "display_data",
          "data": {
            "image/png": "[encoded data removed]",
            "text/plain": [
              "<Figure size 432x288 with 1 Axes>"
            ]
          },
          "metadata": {
            "tags": []
          }
        }
      ]
    },
    {
      "cell_type": "markdown",
      "metadata": {
        "id": "JBjz_2xHzwOE",
        "colab_type": "text"
      },
      "source": [
        "Personal note - I'm well below that average thanks to sales and humble bundles"
      ]
    },
    {
      "cell_type": "markdown",
      "metadata": {
        "id": "Dnt7Qu66CVks",
        "colab_type": "text"
      },
      "source": [
        "### How many hours, on average, has each user played in total?"
      ]
    },
    {
      "cell_type": "code",
      "metadata": {
        "id": "yp6yeC-Fzvle",
        "colab_type": "code",
        "outputId": "cc105acd-395e-4ff4-f00f-60b753a52dff",
        "colab": {
          "base_uri": "https://localhost:8080/",
          "height": 204
        }
      },
      "source": [
        "# Get that data the same way we got unplayed_count\n",
        "new_col = []\n",
        "for user in users['user_id']:\n",
        "  condition = (merged_users['user_id'] == user)\n",
        "  new_col.append(merged_users[condition]['hours_played'].sum())\n",
        "\n",
        "users['hours_played'] = new_col\n",
        "users.head()"
      ],
      "execution_count": 88,
      "outputs": [
        {
          "output_type": "execute_result",
          "data": {
            "text/html": [
              "<div>\n",
              "<style scoped>\n",
              "    .dataframe tbody tr th:only-of-type {\n",
              "        vertical-align: middle;\n",
              "    }\n",
              "\n",
              "    .dataframe tbody tr th {\n",
              "        vertical-align: top;\n",
              "    }\n",
              "\n",
              "    .dataframe thead th {\n",
              "        text-align: right;\n",
              "    }\n",
              "</style>\n",
              "<table border=\"1\" class=\"dataframe\">\n",
              "  <thead>\n",
              "    <tr style=\"text-align: right;\">\n",
              "      <th></th>\n",
              "      <th>user_id</th>\n",
              "      <th>games_owned</th>\n",
              "      <th>unplayed_count</th>\n",
              "      <th>hours_played</th>\n",
              "    </tr>\n",
              "  </thead>\n",
              "  <tbody>\n",
              "    <tr>\n",
              "      <th>0</th>\n",
              "      <td>62990992</td>\n",
              "      <td>1075</td>\n",
              "      <td>577</td>\n",
              "      <td>5724.8</td>\n",
              "    </tr>\n",
              "    <tr>\n",
              "      <th>1</th>\n",
              "      <td>33865373</td>\n",
              "      <td>785</td>\n",
              "      <td>614</td>\n",
              "      <td>2438.8</td>\n",
              "    </tr>\n",
              "    <tr>\n",
              "      <th>2</th>\n",
              "      <td>30246419</td>\n",
              "      <td>766</td>\n",
              "      <td>631</td>\n",
              "      <td>1219.7</td>\n",
              "    </tr>\n",
              "    <tr>\n",
              "      <th>3</th>\n",
              "      <td>58345543</td>\n",
              "      <td>667</td>\n",
              "      <td>501</td>\n",
              "      <td>1374.9</td>\n",
              "    </tr>\n",
              "    <tr>\n",
              "      <th>4</th>\n",
              "      <td>76892907</td>\n",
              "      <td>597</td>\n",
              "      <td>499</td>\n",
              "      <td>2731.3</td>\n",
              "    </tr>\n",
              "  </tbody>\n",
              "</table>\n",
              "</div>"
            ],
            "text/plain": [
              "    user_id  games_owned  unplayed_count  hours_played\n",
              "0  62990992         1075             577        5724.8\n",
              "1  33865373          785             614        2438.8\n",
              "2  30246419          766             631        1219.7\n",
              "3  58345543          667             501        1374.9\n",
              "4  76892907          597             499        2731.3"
            ]
          },
          "metadata": {
            "tags": []
          },
          "execution_count": 88
        }
      ]
    },
    {
      "cell_type": "code",
      "metadata": {
        "id": "ygjKEFQF1sCK",
        "colab_type": "code",
        "outputId": "968ef31b-876b-4e6a-a47c-565f1dea9721",
        "colab": {
          "base_uri": "https://localhost:8080/",
          "height": 204
        }
      },
      "source": [
        "# again, check results\n",
        "print(users.loc[[2600]])\n",
        "print(merged_users[merged_users['user_id'] == users['user_id'][2600]])"
      ],
      "execution_count": 89,
      "outputs": [
        {
          "output_type": "stream",
          "text": [
            "        user_id  games_owned  unplayed_count  hours_played\n",
            "2600  181966419            8               2         307.0\n",
            "         user_id                            title  hours_played\n",
            "58308  181966419                           Dota 2         282.0\n",
            "58309  181966419       The Elder Scrolls V Skyrim          18.6\n",
            "58310  181966419                         BioShock           2.4\n",
            "58311  181966419  Counter-Strike Global Offensive           1.7\n",
            "58312  181966419                            SMITE           1.6\n",
            "58313  181966419    Middle-earth Shadow of Mordor           0.7\n",
            "58314  181966419                       BioShock 2           0.0\n",
            "58315  181966419                BioShock Infinite           0.0\n"
          ],
          "name": "stdout"
        }
      ]
    },
    {
      "cell_type": "code",
      "metadata": {
        "id": "hyg3oWcd2RMo",
        "colab_type": "code",
        "outputId": "d033b290-ca5d-4181-e7a8-077ebfb01082",
        "colab": {
          "base_uri": "https://localhost:8080/",
          "height": 170
        }
      },
      "source": [
        "users['hours_played'].describe()"
      ],
      "execution_count": 90,
      "outputs": [
        {
          "output_type": "execute_result",
          "data": {
            "text/plain": [
              "count    12393.000000\n",
              "mean       278.563568\n",
              "std        761.469827\n",
              "min          0.000000\n",
              "25%          1.300000\n",
              "50%         13.500000\n",
              "75%        156.400000\n",
              "max      11754.000000\n",
              "Name: hours_played, dtype: float64"
            ]
          },
          "metadata": {
            "tags": []
          },
          "execution_count": 90
        }
      ]
    },
    {
      "cell_type": "code",
      "metadata": {
        "id": "TJtDs6Su17nR",
        "colab_type": "code",
        "outputId": "bfebda2b-b297-4209-fa3d-e6a79801d8d1",
        "colab": {
          "base_uri": "https://localhost:8080/",
          "height": 34
        }
      },
      "source": [
        "# answer: \n",
        "print(\"The average playtime across all users and all games is\", \n",
        "      round(users['hours_played'].mean(), 2), \"hours\")"
      ],
      "execution_count": 91,
      "outputs": [
        {
          "output_type": "stream",
          "text": [
            "The average playtime across all users and all games is 278.56 hours\n"
          ],
          "name": "stdout"
        }
      ]
    },
    {
      "cell_type": "code",
      "metadata": {
        "id": "yV-MMMfdYv7p",
        "colab_type": "code",
        "colab": {
          "base_uri": "https://localhost:8080/",
          "height": 34
        },
        "outputId": "e5544cb2-f8bf-4ed7-cb9e-defb85eef9d6"
      },
      "source": [
        "print(len(users[users['hours_played'] == 0]), \n",
        "      'users in this data have not played any games, but still own some')"
      ],
      "execution_count": 92,
      "outputs": [
        {
          "output_type": "stream",
          "text": [
            "1043 users in this data have not played any games, but still own some\n"
          ],
          "name": "stdout"
        }
      ]
    },
    {
      "cell_type": "code",
      "metadata": {
        "id": "vuG1TCRCJ9n7",
        "colab_type": "code",
        "colab": {
          "base_uri": "https://localhost:8080/",
          "height": 298
        },
        "outputId": "893be8ce-ab46-4d78-c02a-51cac104f8a6"
      },
      "source": [
        "plt.scatter(x=users['games_owned'], y=users['hours_played'], alpha=.6)\n",
        "plt.title('Games owned vs Total hours played')\n",
        "plt.xlabel('Games owned')\n",
        "plt.ylabel('Hours played');"
      ],
      "execution_count": 132,
      "outputs": [
        {
          "output_type": "display_data",
          "data": {
            "image/png": "[encoded data removed]",
            "text/plain": [
              "<Figure size 432x288 with 1 Axes>"
            ]
          },
          "metadata": {
            "tags": []
          }
        }
      ]
    },
    {
      "cell_type": "markdown",
      "metadata": {
        "id": "GBgoh1-vhUPq",
        "colab_type": "text"
      },
      "source": [
        "## Per game ownership questions"
      ]
    },
    {
      "cell_type": "markdown",
      "metadata": {
        "id": "pOon5HerCoEx",
        "colab_type": "text"
      },
      "source": [
        "### What games are more often bought and not played?"
      ]
    },
    {
      "cell_type": "code",
      "metadata": {
        "id": "VSRyX15c2aJf",
        "colab_type": "code",
        "outputId": "069cb059-b649-4421-f205-aec1c77c0abd",
        "colab": {
          "base_uri": "https://localhost:8080/",
          "height": 204
        }
      },
      "source": [
        "# I will need to group the data similarly to how I grouped the reviews per game\n",
        "owned_games = merged_users.groupby('title').count()\n",
        "\n",
        "owned_games = owned_games.drop('hours_played', axis=1)\n",
        "owned_games.columns = ['owned_count']\n",
        "\n",
        "# Add the sum of hours_played for each title in merged_users\n",
        "owned_games['total_hours_played'] = (merged_users.groupby(by='title')\n",
        "                                                        .sum()['hours_played'])\n",
        "\n",
        "# average hours played\n",
        "owned_games['avg_playtime_users'] = (owned_games['total_hours_played'] / \n",
        "                               owned_games['owned_count'])\n",
        "\n",
        "owned_games = owned_games.reset_index()\n",
        "owned_games.head()"
      ],
      "execution_count": 93,
      "outputs": [
        {
          "output_type": "execute_result",
          "data": {
            "text/html": [
              "<div>\n",
              "<style scoped>\n",
              "    .dataframe tbody tr th:only-of-type {\n",
              "        vertical-align: middle;\n",
              "    }\n",
              "\n",
              "    .dataframe tbody tr th {\n",
              "        vertical-align: top;\n",
              "    }\n",
              "\n",
              "    .dataframe thead th {\n",
              "        text-align: right;\n",
              "    }\n",
              "</style>\n",
              "<table border=\"1\" class=\"dataframe\">\n",
              "  <thead>\n",
              "    <tr style=\"text-align: right;\">\n",
              "      <th></th>\n",
              "      <th>title</th>\n",
              "      <th>owned_count</th>\n",
              "      <th>total_hours_played</th>\n",
              "      <th>avg_playtime_users</th>\n",
              "    </tr>\n",
              "  </thead>\n",
              "  <tbody>\n",
              "    <tr>\n",
              "      <th>0</th>\n",
              "      <td>007 Legends</td>\n",
              "      <td>1</td>\n",
              "      <td>0.7</td>\n",
              "      <td>0.700000</td>\n",
              "    </tr>\n",
              "    <tr>\n",
              "      <th>1</th>\n",
              "      <td>0RBITALIS</td>\n",
              "      <td>3</td>\n",
              "      <td>1.2</td>\n",
              "      <td>0.400000</td>\n",
              "    </tr>\n",
              "    <tr>\n",
              "      <th>2</th>\n",
              "      <td>1... 2... 3... KICK IT! (Drop That Beat Like a...</td>\n",
              "      <td>7</td>\n",
              "      <td>20.0</td>\n",
              "      <td>2.857143</td>\n",
              "    </tr>\n",
              "    <tr>\n",
              "      <th>3</th>\n",
              "      <td>10 Second Ninja</td>\n",
              "      <td>6</td>\n",
              "      <td>5.9</td>\n",
              "      <td>0.983333</td>\n",
              "    </tr>\n",
              "    <tr>\n",
              "      <th>4</th>\n",
              "      <td>10,000,000</td>\n",
              "      <td>1</td>\n",
              "      <td>3.6</td>\n",
              "      <td>3.600000</td>\n",
              "    </tr>\n",
              "  </tbody>\n",
              "</table>\n",
              "</div>"
            ],
            "text/plain": [
              "                                               title  ...  avg_playtime_users\n",
              "0                                        007 Legends  ...            0.700000\n",
              "1                                          0RBITALIS  ...            0.400000\n",
              "2  1... 2... 3... KICK IT! (Drop That Beat Like a...  ...            2.857143\n",
              "3                                    10 Second Ninja  ...            0.983333\n",
              "4                                         10,000,000  ...            3.600000\n",
              "\n",
              "[5 rows x 4 columns]"
            ]
          },
          "metadata": {
            "tags": []
          },
          "execution_count": 93
        }
      ]
    },
    {
      "cell_type": "markdown",
      "metadata": {
        "id": "-iREk6BCCyDS",
        "colab_type": "text"
      },
      "source": [
        "### What games are more often bought and not played?"
      ]
    },
    {
      "cell_type": "code",
      "metadata": {
        "id": "a4YRY0zK3p43",
        "colab_type": "code",
        "outputId": "a466dbc2-6026-434c-c58b-c6eb77e33694",
        "colab": {
          "base_uri": "https://localhost:8080/",
          "height": 419
        }
      },
      "source": [
        "# all games never played\n",
        "owned_games[owned_games['total_hours_played'] == 0]"
      ],
      "execution_count": 94,
      "outputs": [
        {
          "output_type": "execute_result",
          "data": {
            "text/html": [
              "<div>\n",
              "<style scoped>\n",
              "    .dataframe tbody tr th:only-of-type {\n",
              "        vertical-align: middle;\n",
              "    }\n",
              "\n",
              "    .dataframe tbody tr th {\n",
              "        vertical-align: top;\n",
              "    }\n",
              "\n",
              "    .dataframe thead th {\n",
              "        text-align: right;\n",
              "    }\n",
              "</style>\n",
              "<table border=\"1\" class=\"dataframe\">\n",
              "  <thead>\n",
              "    <tr style=\"text-align: right;\">\n",
              "      <th></th>\n",
              "      <th>title</th>\n",
              "      <th>owned_count</th>\n",
              "      <th>total_hours_played</th>\n",
              "      <th>avg_playtime_users</th>\n",
              "    </tr>\n",
              "  </thead>\n",
              "  <tbody>\n",
              "    <tr>\n",
              "      <th>12</th>\n",
              "      <td>16 Bit Arena</td>\n",
              "      <td>7</td>\n",
              "      <td>0.0</td>\n",
              "      <td>0.0</td>\n",
              "    </tr>\n",
              "    <tr>\n",
              "      <th>14</th>\n",
              "      <td>1701 A.D. Gold Edition</td>\n",
              "      <td>1</td>\n",
              "      <td>0.0</td>\n",
              "      <td>0.0</td>\n",
              "    </tr>\n",
              "    <tr>\n",
              "      <th>17</th>\n",
              "      <td>1953 - KGB Unleashed</td>\n",
              "      <td>4</td>\n",
              "      <td>0.0</td>\n",
              "      <td>0.0</td>\n",
              "    </tr>\n",
              "    <tr>\n",
              "      <th>19</th>\n",
              "      <td>1954 Alcatraz</td>\n",
              "      <td>3</td>\n",
              "      <td>0.0</td>\n",
              "      <td>0.0</td>\n",
              "    </tr>\n",
              "    <tr>\n",
              "      <th>20</th>\n",
              "      <td>1Heart</td>\n",
              "      <td>1</td>\n",
              "      <td>0.0</td>\n",
              "      <td>0.0</td>\n",
              "    </tr>\n",
              "    <tr>\n",
              "      <th>...</th>\n",
              "      <td>...</td>\n",
              "      <td>...</td>\n",
              "      <td>...</td>\n",
              "      <td>...</td>\n",
              "    </tr>\n",
              "    <tr>\n",
              "      <th>5126</th>\n",
              "      <td>eXceed 2nd - Vampire REX</td>\n",
              "      <td>2</td>\n",
              "      <td>0.0</td>\n",
              "      <td>0.0</td>\n",
              "    </tr>\n",
              "    <tr>\n",
              "      <th>5127</th>\n",
              "      <td>eXceed 3rd - Jade Penetrate Black Package</td>\n",
              "      <td>2</td>\n",
              "      <td>0.0</td>\n",
              "      <td>0.0</td>\n",
              "    </tr>\n",
              "    <tr>\n",
              "      <th>5137</th>\n",
              "      <td>iRacing</td>\n",
              "      <td>1</td>\n",
              "      <td>0.0</td>\n",
              "      <td>0.0</td>\n",
              "    </tr>\n",
              "    <tr>\n",
              "      <th>5139</th>\n",
              "      <td>in Space</td>\n",
              "      <td>1</td>\n",
              "      <td>0.0</td>\n",
              "      <td>0.0</td>\n",
              "    </tr>\n",
              "    <tr>\n",
              "      <th>5151</th>\n",
              "      <td>samurai_jazz</td>\n",
              "      <td>1</td>\n",
              "      <td>0.0</td>\n",
              "      <td>0.0</td>\n",
              "    </tr>\n",
              "  </tbody>\n",
              "</table>\n",
              "<p>1555 rows × 4 columns</p>\n",
              "</div>"
            ],
            "text/plain": [
              "                                          title  ...  avg_playtime_users\n",
              "12                                 16 Bit Arena  ...                 0.0\n",
              "14                       1701 A.D. Gold Edition  ...                 0.0\n",
              "17                         1953 - KGB Unleashed  ...                 0.0\n",
              "19                                1954 Alcatraz  ...                 0.0\n",
              "20                                       1Heart  ...                 0.0\n",
              "...                                         ...  ...                 ...\n",
              "5126                   eXceed 2nd - Vampire REX  ...                 0.0\n",
              "5127  eXceed 3rd - Jade Penetrate Black Package  ...                 0.0\n",
              "5137                                    iRacing  ...                 0.0\n",
              "5139                                   in Space  ...                 0.0\n",
              "5151                               samurai_jazz  ...                 0.0\n",
              "\n",
              "[1555 rows x 4 columns]"
            ]
          },
          "metadata": {
            "tags": []
          },
          "execution_count": 94
        }
      ]
    },
    {
      "cell_type": "code",
      "metadata": {
        "id": "aLwOcFHm6MKk",
        "colab_type": "code",
        "outputId": "82761a12-8d68-45c6-85de-2cfc58c6baee",
        "colab": {
          "base_uri": "https://localhost:8080/",
          "height": 359
        }
      },
      "source": [
        "# top 10 games played the least, but still played at least some\n",
        "owned_games[owned_games['total_hours_played'] > 0].sort_values('total_hours_played').head(10)"
      ],
      "execution_count": 95,
      "outputs": [
        {
          "output_type": "execute_result",
          "data": {
            "text/html": [
              "<div>\n",
              "<style scoped>\n",
              "    .dataframe tbody tr th:only-of-type {\n",
              "        vertical-align: middle;\n",
              "    }\n",
              "\n",
              "    .dataframe tbody tr th {\n",
              "        vertical-align: top;\n",
              "    }\n",
              "\n",
              "    .dataframe thead th {\n",
              "        text-align: right;\n",
              "    }\n",
              "</style>\n",
              "<table border=\"1\" class=\"dataframe\">\n",
              "  <thead>\n",
              "    <tr style=\"text-align: right;\">\n",
              "      <th></th>\n",
              "      <th>title</th>\n",
              "      <th>owned_count</th>\n",
              "      <th>total_hours_played</th>\n",
              "      <th>avg_playtime_users</th>\n",
              "    </tr>\n",
              "  </thead>\n",
              "  <tbody>\n",
              "    <tr>\n",
              "      <th>2017</th>\n",
              "      <td>Guardians of Orion</td>\n",
              "      <td>2</td>\n",
              "      <td>0.1</td>\n",
              "      <td>0.050000</td>\n",
              "    </tr>\n",
              "    <tr>\n",
              "      <th>1270</th>\n",
              "      <td>Diamond Dan</td>\n",
              "      <td>1</td>\n",
              "      <td>0.1</td>\n",
              "      <td>0.100000</td>\n",
              "    </tr>\n",
              "    <tr>\n",
              "      <th>2203</th>\n",
              "      <td>Hyper Fighters</td>\n",
              "      <td>16</td>\n",
              "      <td>0.1</td>\n",
              "      <td>0.006250</td>\n",
              "    </tr>\n",
              "    <tr>\n",
              "      <th>3776</th>\n",
              "      <td>Shan Gui</td>\n",
              "      <td>2</td>\n",
              "      <td>0.1</td>\n",
              "      <td>0.050000</td>\n",
              "    </tr>\n",
              "    <tr>\n",
              "      <th>68</th>\n",
              "      <td>A-Train 8</td>\n",
              "      <td>3</td>\n",
              "      <td>0.1</td>\n",
              "      <td>0.033333</td>\n",
              "    </tr>\n",
              "    <tr>\n",
              "      <th>224</th>\n",
              "      <td>Alien Shooter Revisited</td>\n",
              "      <td>1</td>\n",
              "      <td>0.1</td>\n",
              "      <td>0.100000</td>\n",
              "    </tr>\n",
              "    <tr>\n",
              "      <th>4774</th>\n",
              "      <td>Unity of Command</td>\n",
              "      <td>2</td>\n",
              "      <td>0.1</td>\n",
              "      <td>0.050000</td>\n",
              "    </tr>\n",
              "    <tr>\n",
              "      <th>4972</th>\n",
              "      <td>Wildlife Park 2 - Marine World</td>\n",
              "      <td>2</td>\n",
              "      <td>0.1</td>\n",
              "      <td>0.050000</td>\n",
              "    </tr>\n",
              "    <tr>\n",
              "      <th>2271</th>\n",
              "      <td>Inside a Star-filled Sky</td>\n",
              "      <td>1</td>\n",
              "      <td>0.1</td>\n",
              "      <td>0.100000</td>\n",
              "    </tr>\n",
              "    <tr>\n",
              "      <th>1627</th>\n",
              "      <td>FLOCK!</td>\n",
              "      <td>1</td>\n",
              "      <td>0.1</td>\n",
              "      <td>0.100000</td>\n",
              "    </tr>\n",
              "  </tbody>\n",
              "</table>\n",
              "</div>"
            ],
            "text/plain": [
              "                               title  ...  avg_playtime_users\n",
              "2017              Guardians of Orion  ...            0.050000\n",
              "1270                     Diamond Dan  ...            0.100000\n",
              "2203                  Hyper Fighters  ...            0.006250\n",
              "3776                        Shan Gui  ...            0.050000\n",
              "68                         A-Train 8  ...            0.033333\n",
              "224          Alien Shooter Revisited  ...            0.100000\n",
              "4774                Unity of Command  ...            0.050000\n",
              "4972  Wildlife Park 2 - Marine World  ...            0.050000\n",
              "2271       Inside a Star-filled Sky   ...            0.100000\n",
              "1627                          FLOCK!  ...            0.100000\n",
              "\n",
              "[10 rows x 4 columns]"
            ]
          },
          "metadata": {
            "tags": []
          },
          "execution_count": 95
        }
      ]
    },
    {
      "cell_type": "code",
      "metadata": {
        "id": "vNQXy6xE7ALg",
        "colab_type": "code",
        "outputId": "9309b0c4-9420-4b6c-e28b-f960bef49ecf",
        "colab": {
          "base_uri": "https://localhost:8080/",
          "height": 359
        }
      },
      "source": [
        "# top 10 games played the least, but still played at least 1 hour\n",
        "owned_games[owned_games['total_hours_played'] >= 1].sort_values('total_hours_played').head(10)"
      ],
      "execution_count": 96,
      "outputs": [
        {
          "output_type": "execute_result",
          "data": {
            "text/html": [
              "<div>\n",
              "<style scoped>\n",
              "    .dataframe tbody tr th:only-of-type {\n",
              "        vertical-align: middle;\n",
              "    }\n",
              "\n",
              "    .dataframe tbody tr th {\n",
              "        vertical-align: top;\n",
              "    }\n",
              "\n",
              "    .dataframe thead th {\n",
              "        text-align: right;\n",
              "    }\n",
              "</style>\n",
              "<table border=\"1\" class=\"dataframe\">\n",
              "  <thead>\n",
              "    <tr style=\"text-align: right;\">\n",
              "      <th></th>\n",
              "      <th>title</th>\n",
              "      <th>owned_count</th>\n",
              "      <th>total_hours_played</th>\n",
              "      <th>avg_playtime_users</th>\n",
              "    </tr>\n",
              "  </thead>\n",
              "  <tbody>\n",
              "    <tr>\n",
              "      <th>2981</th>\n",
              "      <td>Obscure 2</td>\n",
              "      <td>1</td>\n",
              "      <td>1.0</td>\n",
              "      <td>1.000000</td>\n",
              "    </tr>\n",
              "    <tr>\n",
              "      <th>1088</th>\n",
              "      <td>Damnation City of Death</td>\n",
              "      <td>1</td>\n",
              "      <td>1.0</td>\n",
              "      <td>1.000000</td>\n",
              "    </tr>\n",
              "    <tr>\n",
              "      <th>515</th>\n",
              "      <td>Big Brain Wolf</td>\n",
              "      <td>2</td>\n",
              "      <td>1.0</td>\n",
              "      <td>0.500000</td>\n",
              "    </tr>\n",
              "    <tr>\n",
              "      <th>3235</th>\n",
              "      <td>Potatoman Seeks the Troof</td>\n",
              "      <td>2</td>\n",
              "      <td>1.0</td>\n",
              "      <td>0.500000</td>\n",
              "    </tr>\n",
              "    <tr>\n",
              "      <th>5136</th>\n",
              "      <td>iO</td>\n",
              "      <td>2</td>\n",
              "      <td>1.0</td>\n",
              "      <td>0.500000</td>\n",
              "    </tr>\n",
              "    <tr>\n",
              "      <th>497</th>\n",
              "      <td>Bejeweled Deluxe</td>\n",
              "      <td>1</td>\n",
              "      <td>1.0</td>\n",
              "      <td>1.000000</td>\n",
              "    </tr>\n",
              "    <tr>\n",
              "      <th>4940</th>\n",
              "      <td>Wasteland Angel</td>\n",
              "      <td>5</td>\n",
              "      <td>1.0</td>\n",
              "      <td>0.200000</td>\n",
              "    </tr>\n",
              "    <tr>\n",
              "      <th>798</th>\n",
              "      <td>Castlevania Lords of Shadow  Mirror of Fate HD</td>\n",
              "      <td>4</td>\n",
              "      <td>1.0</td>\n",
              "      <td>0.250000</td>\n",
              "    </tr>\n",
              "    <tr>\n",
              "      <th>1113</th>\n",
              "      <td>Darkout</td>\n",
              "      <td>3</td>\n",
              "      <td>1.0</td>\n",
              "      <td>0.333333</td>\n",
              "    </tr>\n",
              "    <tr>\n",
              "      <th>1295</th>\n",
              "      <td>Distant Star Revenant Fleet</td>\n",
              "      <td>2</td>\n",
              "      <td>1.0</td>\n",
              "      <td>0.500000</td>\n",
              "    </tr>\n",
              "  </tbody>\n",
              "</table>\n",
              "</div>"
            ],
            "text/plain": [
              "                                               title  ...  avg_playtime_users\n",
              "2981                                       Obscure 2  ...            1.000000\n",
              "1088                         Damnation City of Death  ...            1.000000\n",
              "515                                   Big Brain Wolf  ...            0.500000\n",
              "3235                       Potatoman Seeks the Troof  ...            0.500000\n",
              "5136                                              iO  ...            0.500000\n",
              "497                                 Bejeweled Deluxe  ...            1.000000\n",
              "4940                                 Wasteland Angel  ...            0.200000\n",
              "798   Castlevania Lords of Shadow  Mirror of Fate HD  ...            0.250000\n",
              "1113                                         Darkout  ...            0.333333\n",
              "1295                     Distant Star Revenant Fleet  ...            0.500000\n",
              "\n",
              "[10 rows x 4 columns]"
            ]
          },
          "metadata": {
            "tags": []
          },
          "execution_count": 96
        }
      ]
    },
    {
      "cell_type": "markdown",
      "metadata": {
        "id": "JVRgGPfzCtXT",
        "colab_type": "text"
      },
      "source": [
        "### Which games are played the most?"
      ]
    },
    {
      "cell_type": "code",
      "metadata": {
        "id": "ubRmcEjS6cRS",
        "colab_type": "code",
        "outputId": "16c31106-f4af-437d-81fd-6364c5b3d160",
        "colab": {
          "base_uri": "https://localhost:8080/",
          "height": 359
        }
      },
      "source": [
        "# top 10 games played the most\n",
        "owned_games.sort_values('total_hours_played', ascending=False).head(10)"
      ],
      "execution_count": 141,
      "outputs": [
        {
          "output_type": "execute_result",
          "data": {
            "text/html": [
              "<div>\n",
              "<style scoped>\n",
              "    .dataframe tbody tr th:only-of-type {\n",
              "        vertical-align: middle;\n",
              "    }\n",
              "\n",
              "    .dataframe tbody tr th {\n",
              "        vertical-align: top;\n",
              "    }\n",
              "\n",
              "    .dataframe thead th {\n",
              "        text-align: right;\n",
              "    }\n",
              "</style>\n",
              "<table border=\"1\" class=\"dataframe\">\n",
              "  <thead>\n",
              "    <tr style=\"text-align: right;\">\n",
              "      <th></th>\n",
              "      <th>title</th>\n",
              "      <th>owned_count</th>\n",
              "      <th>total_hours_played</th>\n",
              "      <th>avg_playtime_users</th>\n",
              "    </tr>\n",
              "  </thead>\n",
              "  <tbody>\n",
              "    <tr>\n",
              "      <th>1336</th>\n",
              "      <td>Dota 2</td>\n",
              "      <td>4841</td>\n",
              "      <td>981684.6</td>\n",
              "      <td>202.785499</td>\n",
              "    </tr>\n",
              "    <tr>\n",
              "      <th>981</th>\n",
              "      <td>Counter-Strike Global Offensive</td>\n",
              "      <td>1412</td>\n",
              "      <td>322771.6</td>\n",
              "      <td>228.591785</td>\n",
              "    </tr>\n",
              "    <tr>\n",
              "      <th>4257</th>\n",
              "      <td>Team Fortress 2</td>\n",
              "      <td>2323</td>\n",
              "      <td>173673.3</td>\n",
              "      <td>74.762505</td>\n",
              "    </tr>\n",
              "    <tr>\n",
              "      <th>978</th>\n",
              "      <td>Counter-Strike</td>\n",
              "      <td>856</td>\n",
              "      <td>134261.1</td>\n",
              "      <td>156.847079</td>\n",
              "    </tr>\n",
              "    <tr>\n",
              "      <th>3825</th>\n",
              "      <td>Sid Meier's Civilization V</td>\n",
              "      <td>596</td>\n",
              "      <td>99821.3</td>\n",
              "      <td>167.485403</td>\n",
              "    </tr>\n",
              "    <tr>\n",
              "      <th>984</th>\n",
              "      <td>Counter-Strike Source</td>\n",
              "      <td>978</td>\n",
              "      <td>96075.5</td>\n",
              "      <td>98.236708</td>\n",
              "    </tr>\n",
              "    <tr>\n",
              "      <th>4364</th>\n",
              "      <td>The Elder Scrolls V Skyrim</td>\n",
              "      <td>717</td>\n",
              "      <td>70889.3</td>\n",
              "      <td>98.869317</td>\n",
              "    </tr>\n",
              "    <tr>\n",
              "      <th>1894</th>\n",
              "      <td>Garry's Mod</td>\n",
              "      <td>731</td>\n",
              "      <td>49725.3</td>\n",
              "      <td>68.023666</td>\n",
              "    </tr>\n",
              "    <tr>\n",
              "      <th>737</th>\n",
              "      <td>Call of Duty Modern Warfare 2 - Multiplayer</td>\n",
              "      <td>343</td>\n",
              "      <td>42009.9</td>\n",
              "      <td>122.477843</td>\n",
              "    </tr>\n",
              "    <tr>\n",
              "      <th>2475</th>\n",
              "      <td>Left 4 Dead 2</td>\n",
              "      <td>951</td>\n",
              "      <td>33596.7</td>\n",
              "      <td>35.327760</td>\n",
              "    </tr>\n",
              "  </tbody>\n",
              "</table>\n",
              "</div>"
            ],
            "text/plain": [
              "                                            title  ...  avg_playtime_users\n",
              "1336                                       Dota 2  ...          202.785499\n",
              "981               Counter-Strike Global Offensive  ...          228.591785\n",
              "4257                              Team Fortress 2  ...           74.762505\n",
              "978                                Counter-Strike  ...          156.847079\n",
              "3825                   Sid Meier's Civilization V  ...          167.485403\n",
              "984                         Counter-Strike Source  ...           98.236708\n",
              "4364                   The Elder Scrolls V Skyrim  ...           98.869317\n",
              "1894                                  Garry's Mod  ...           68.023666\n",
              "737   Call of Duty Modern Warfare 2 - Multiplayer  ...          122.477843\n",
              "2475                                Left 4 Dead 2  ...           35.327760\n",
              "\n",
              "[10 rows x 4 columns]"
            ]
          },
          "metadata": {
            "tags": []
          },
          "execution_count": 141
        }
      ]
    },
    {
      "cell_type": "code",
      "metadata": {
        "id": "TAVSBRFIOVTz",
        "colab_type": "code",
        "colab": {
          "base_uri": "https://localhost:8080/",
          "height": 359
        },
        "outputId": "92ccb5e4-14d3-4e8c-9076-ebe356491cab"
      },
      "source": [
        "# top 10 most owned games\n",
        "owned_games.sort_values('owned_count', ascending=False).head(10)"
      ],
      "execution_count": 98,
      "outputs": [
        {
          "output_type": "execute_result",
          "data": {
            "text/html": [
              "<div>\n",
              "<style scoped>\n",
              "    .dataframe tbody tr th:only-of-type {\n",
              "        vertical-align: middle;\n",
              "    }\n",
              "\n",
              "    .dataframe tbody tr th {\n",
              "        vertical-align: top;\n",
              "    }\n",
              "\n",
              "    .dataframe thead th {\n",
              "        text-align: right;\n",
              "    }\n",
              "</style>\n",
              "<table border=\"1\" class=\"dataframe\">\n",
              "  <thead>\n",
              "    <tr style=\"text-align: right;\">\n",
              "      <th></th>\n",
              "      <th>title</th>\n",
              "      <th>owned_count</th>\n",
              "      <th>total_hours_played</th>\n",
              "      <th>avg_playtime_users</th>\n",
              "    </tr>\n",
              "  </thead>\n",
              "  <tbody>\n",
              "    <tr>\n",
              "      <th>1336</th>\n",
              "      <td>Dota 2</td>\n",
              "      <td>4841</td>\n",
              "      <td>981684.6</td>\n",
              "      <td>202.785499</td>\n",
              "    </tr>\n",
              "    <tr>\n",
              "      <th>4257</th>\n",
              "      <td>Team Fortress 2</td>\n",
              "      <td>2323</td>\n",
              "      <td>173673.3</td>\n",
              "      <td>74.762505</td>\n",
              "    </tr>\n",
              "    <tr>\n",
              "      <th>4788</th>\n",
              "      <td>Unturned</td>\n",
              "      <td>1563</td>\n",
              "      <td>16096.4</td>\n",
              "      <td>10.298401</td>\n",
              "    </tr>\n",
              "    <tr>\n",
              "      <th>981</th>\n",
              "      <td>Counter-Strike Global Offensive</td>\n",
              "      <td>1412</td>\n",
              "      <td>322771.6</td>\n",
              "      <td>228.591785</td>\n",
              "    </tr>\n",
              "    <tr>\n",
              "      <th>2074</th>\n",
              "      <td>Half-Life 2 Lost Coast</td>\n",
              "      <td>981</td>\n",
              "      <td>184.4</td>\n",
              "      <td>0.187971</td>\n",
              "    </tr>\n",
              "    <tr>\n",
              "      <th>984</th>\n",
              "      <td>Counter-Strike Source</td>\n",
              "      <td>978</td>\n",
              "      <td>96075.5</td>\n",
              "      <td>98.236708</td>\n",
              "    </tr>\n",
              "    <tr>\n",
              "      <th>2475</th>\n",
              "      <td>Left 4 Dead 2</td>\n",
              "      <td>951</td>\n",
              "      <td>33596.7</td>\n",
              "      <td>35.327760</td>\n",
              "    </tr>\n",
              "    <tr>\n",
              "      <th>978</th>\n",
              "      <td>Counter-Strike</td>\n",
              "      <td>856</td>\n",
              "      <td>134261.1</td>\n",
              "      <td>156.847079</td>\n",
              "    </tr>\n",
              "    <tr>\n",
              "      <th>4899</th>\n",
              "      <td>Warframe</td>\n",
              "      <td>847</td>\n",
              "      <td>27074.6</td>\n",
              "      <td>31.965289</td>\n",
              "    </tr>\n",
              "    <tr>\n",
              "      <th>2071</th>\n",
              "      <td>Half-Life 2 Deathmatch</td>\n",
              "      <td>823</td>\n",
              "      <td>3712.9</td>\n",
              "      <td>4.511422</td>\n",
              "    </tr>\n",
              "  </tbody>\n",
              "</table>\n",
              "</div>"
            ],
            "text/plain": [
              "                                title  ...  avg_playtime_users\n",
              "1336                           Dota 2  ...          202.785499\n",
              "4257                  Team Fortress 2  ...           74.762505\n",
              "4788                         Unturned  ...           10.298401\n",
              "981   Counter-Strike Global Offensive  ...          228.591785\n",
              "2074           Half-Life 2 Lost Coast  ...            0.187971\n",
              "984             Counter-Strike Source  ...           98.236708\n",
              "2475                    Left 4 Dead 2  ...           35.327760\n",
              "978                    Counter-Strike  ...          156.847079\n",
              "4899                         Warframe  ...           31.965289\n",
              "2071           Half-Life 2 Deathmatch  ...            4.511422\n",
              "\n",
              "[10 rows x 4 columns]"
            ]
          },
          "metadata": {
            "tags": []
          },
          "execution_count": 98
        }
      ]
    },
    {
      "cell_type": "code",
      "metadata": {
        "id": "ru8Q5Zj2OJfE",
        "colab_type": "code",
        "colab": {
          "base_uri": "https://localhost:8080/",
          "height": 359
        },
        "outputId": "b20569b4-b044-4200-fd14-bf8ac1ea3781"
      },
      "source": [
        "# top 10 games with highest average playtime\n",
        "owned_games.sort_values('avg_playtime_users', ascending=False).head(10)"
      ],
      "execution_count": 99,
      "outputs": [
        {
          "output_type": "execute_result",
          "data": {
            "text/html": [
              "<div>\n",
              "<style scoped>\n",
              "    .dataframe tbody tr th:only-of-type {\n",
              "        vertical-align: middle;\n",
              "    }\n",
              "\n",
              "    .dataframe tbody tr th {\n",
              "        vertical-align: top;\n",
              "    }\n",
              "\n",
              "    .dataframe thead th {\n",
              "        text-align: right;\n",
              "    }\n",
              "</style>\n",
              "<table border=\"1\" class=\"dataframe\">\n",
              "  <thead>\n",
              "    <tr style=\"text-align: right;\">\n",
              "      <th></th>\n",
              "      <th>title</th>\n",
              "      <th>owned_count</th>\n",
              "      <th>total_hours_played</th>\n",
              "      <th>avg_playtime_users</th>\n",
              "    </tr>\n",
              "  </thead>\n",
              "  <tbody>\n",
              "    <tr>\n",
              "      <th>1458</th>\n",
              "      <td>Eastside Hockey Manager</td>\n",
              "      <td>1</td>\n",
              "      <td>1295.0</td>\n",
              "      <td>1295.000000</td>\n",
              "    </tr>\n",
              "    <tr>\n",
              "      <th>1606</th>\n",
              "      <td>FIFA Manager 09</td>\n",
              "      <td>1</td>\n",
              "      <td>411.0</td>\n",
              "      <td>411.000000</td>\n",
              "    </tr>\n",
              "    <tr>\n",
              "      <th>3130</th>\n",
              "      <td>Perpetuum</td>\n",
              "      <td>4</td>\n",
              "      <td>1603.9</td>\n",
              "      <td>400.975000</td>\n",
              "    </tr>\n",
              "    <tr>\n",
              "      <th>1762</th>\n",
              "      <td>Football Manager 2012</td>\n",
              "      <td>80</td>\n",
              "      <td>30845.8</td>\n",
              "      <td>385.572500</td>\n",
              "    </tr>\n",
              "    <tr>\n",
              "      <th>1764</th>\n",
              "      <td>Football Manager 2014</td>\n",
              "      <td>80</td>\n",
              "      <td>30574.8</td>\n",
              "      <td>382.185000</td>\n",
              "    </tr>\n",
              "    <tr>\n",
              "      <th>1760</th>\n",
              "      <td>Football Manager 2010</td>\n",
              "      <td>38</td>\n",
              "      <td>13126.7</td>\n",
              "      <td>345.439474</td>\n",
              "    </tr>\n",
              "    <tr>\n",
              "      <th>1761</th>\n",
              "      <td>Football Manager 2011</td>\n",
              "      <td>34</td>\n",
              "      <td>11336.8</td>\n",
              "      <td>333.435294</td>\n",
              "    </tr>\n",
              "    <tr>\n",
              "      <th>3045</th>\n",
              "      <td>Out of the Park Baseball 16</td>\n",
              "      <td>2</td>\n",
              "      <td>660.8</td>\n",
              "      <td>330.400000</td>\n",
              "    </tr>\n",
              "    <tr>\n",
              "      <th>1763</th>\n",
              "      <td>Football Manager 2013</td>\n",
              "      <td>104</td>\n",
              "      <td>32308.6</td>\n",
              "      <td>310.659615</td>\n",
              "    </tr>\n",
              "    <tr>\n",
              "      <th>1765</th>\n",
              "      <td>Football Manager 2015</td>\n",
              "      <td>79</td>\n",
              "      <td>24283.1</td>\n",
              "      <td>307.381013</td>\n",
              "    </tr>\n",
              "  </tbody>\n",
              "</table>\n",
              "</div>"
            ],
            "text/plain": [
              "                            title  ...  avg_playtime_users\n",
              "1458      Eastside Hockey Manager  ...         1295.000000\n",
              "1606              FIFA Manager 09  ...          411.000000\n",
              "3130                    Perpetuum  ...          400.975000\n",
              "1762        Football Manager 2012  ...          385.572500\n",
              "1764        Football Manager 2014  ...          382.185000\n",
              "1760        Football Manager 2010  ...          345.439474\n",
              "1761        Football Manager 2011  ...          333.435294\n",
              "3045  Out of the Park Baseball 16  ...          330.400000\n",
              "1763        Football Manager 2013  ...          310.659615\n",
              "1765        Football Manager 2015  ...          307.381013\n",
              "\n",
              "[10 rows x 4 columns]"
            ]
          },
          "metadata": {
            "tags": []
          },
          "execution_count": 99
        }
      ]
    },
    {
      "cell_type": "code",
      "metadata": {
        "id": "LImxK4kQKogk",
        "colab_type": "code",
        "colab": {
          "base_uri": "https://localhost:8080/",
          "height": 34
        },
        "outputId": "745c25a4-ecad-4e94-dab3-8f37d6195f10"
      },
      "source": [
        "print('The average total hours played among all games is', \n",
        "      owned_games.total_hours_played.mean())"
      ],
      "execution_count": 136,
      "outputs": [
        {
          "output_type": "stream",
          "text": [
            "The average total hours played among all games is 669.6873520853528\n"
          ],
          "name": "stdout"
        }
      ]
    },
    {
      "cell_type": "code",
      "metadata": {
        "id": "doeIY2K9LPYl",
        "colab_type": "code",
        "colab": {
          "base_uri": "https://localhost:8080/",
          "height": 34
        },
        "outputId": "1faaa44d-5fa0-426b-9573-b5f79793e0ed"
      },
      "source": [
        "print('The average amount of owners for each game is',\n",
        "      owned_games['owned_count'].mean())"
      ],
      "execution_count": 138,
      "outputs": [
        {
          "output_type": "stream",
          "text": [
            "The average amount of owners for each game is 25.128031037827352\n"
          ],
          "name": "stdout"
        }
      ]
    },
    {
      "cell_type": "code",
      "metadata": {
        "id": "eR-y1j5WMArI",
        "colab_type": "code",
        "colab": {
          "base_uri": "https://localhost:8080/",
          "height": 34
        },
        "outputId": "a4a7f969-aeb4-42bd-9389-af4d790a8098"
      },
      "source": [
        "print('The average amount of hours played per user is',\n",
        "      owned_games['avg_playtime_users'].mean())"
      ],
      "execution_count": 139,
      "outputs": [
        {
          "output_type": "stream",
          "text": [
            "The average amount of hours played per user is 6.749563375455631\n"
          ],
          "name": "stdout"
        }
      ]
    },
    {
      "cell_type": "markdown",
      "metadata": {
        "id": "ntW-zEua2AN_",
        "colab_type": "text"
      },
      "source": [
        "## Combining datasets questions"
      ]
    },
    {
      "cell_type": "code",
      "metadata": {
        "id": "W3zZT9vz2ml3",
        "colab_type": "code",
        "outputId": "a540a6d0-7662-4e36-c071-17df91ec78fd",
        "colab": {
          "base_uri": "https://localhost:8080/",
          "height": 331
        }
      },
      "source": [
        "# What games are in both datasets?\n",
        "merged_games = pd.merge(reviewed_games, owned_games, how='inner', on='title')\n",
        "merged_games"
      ],
      "execution_count": 100,
      "outputs": [
        {
          "output_type": "execute_result",
          "data": {
            "text/html": [
              "<div>\n",
              "<style scoped>\n",
              "    .dataframe tbody tr th:only-of-type {\n",
              "        vertical-align: middle;\n",
              "    }\n",
              "\n",
              "    .dataframe tbody tr th {\n",
              "        vertical-align: top;\n",
              "    }\n",
              "\n",
              "    .dataframe thead th {\n",
              "        text-align: right;\n",
              "    }\n",
              "</style>\n",
              "<table border=\"1\" class=\"dataframe\">\n",
              "  <thead>\n",
              "    <tr style=\"text-align: right;\">\n",
              "      <th></th>\n",
              "      <th>title</th>\n",
              "      <th>review_count</th>\n",
              "      <th>recommendation_count</th>\n",
              "      <th>recommendation_ratio</th>\n",
              "      <th>avg_playtime_reviews</th>\n",
              "      <th>owned_count</th>\n",
              "      <th>total_hours_played</th>\n",
              "      <th>avg_playtime_users</th>\n",
              "    </tr>\n",
              "  </thead>\n",
              "  <tbody>\n",
              "    <tr>\n",
              "      <th>0</th>\n",
              "      <td>Euro Truck Simulator 2</td>\n",
              "      <td>501</td>\n",
              "      <td>501.0</td>\n",
              "      <td>1.000000</td>\n",
              "      <td>206.554890</td>\n",
              "      <td>187</td>\n",
              "      <td>7226.9</td>\n",
              "      <td>38.646524</td>\n",
              "    </tr>\n",
              "    <tr>\n",
              "      <th>1</th>\n",
              "      <td>Garry's Mod</td>\n",
              "      <td>202</td>\n",
              "      <td>196.0</td>\n",
              "      <td>0.970297</td>\n",
              "      <td>1283.688119</td>\n",
              "      <td>731</td>\n",
              "      <td>49725.3</td>\n",
              "      <td>68.023666</td>\n",
              "    </tr>\n",
              "    <tr>\n",
              "      <th>2</th>\n",
              "      <td>Grand Theft Auto V</td>\n",
              "      <td>99956</td>\n",
              "      <td>58989.0</td>\n",
              "      <td>0.590150</td>\n",
              "      <td>294.905078</td>\n",
              "      <td>273</td>\n",
              "      <td>22956.7</td>\n",
              "      <td>84.090476</td>\n",
              "    </tr>\n",
              "    <tr>\n",
              "      <th>3</th>\n",
              "      <td>Kenshi</td>\n",
              "      <td>10</td>\n",
              "      <td>10.0</td>\n",
              "      <td>1.000000</td>\n",
              "      <td>542.000000</td>\n",
              "      <td>5</td>\n",
              "      <td>266.7</td>\n",
              "      <td>53.340000</td>\n",
              "    </tr>\n",
              "    <tr>\n",
              "      <th>4</th>\n",
              "      <td>Left 4 Dead 2</td>\n",
              "      <td>221</td>\n",
              "      <td>220.0</td>\n",
              "      <td>0.995475</td>\n",
              "      <td>320.072398</td>\n",
              "      <td>951</td>\n",
              "      <td>33596.7</td>\n",
              "      <td>35.327760</td>\n",
              "    </tr>\n",
              "    <tr>\n",
              "      <th>5</th>\n",
              "      <td>Rust</td>\n",
              "      <td>71088</td>\n",
              "      <td>55785.0</td>\n",
              "      <td>0.784732</td>\n",
              "      <td>519.191073</td>\n",
              "      <td>214</td>\n",
              "      <td>15275.3</td>\n",
              "      <td>71.379907</td>\n",
              "    </tr>\n",
              "    <tr>\n",
              "      <th>6</th>\n",
              "      <td>Subnautica</td>\n",
              "      <td>247</td>\n",
              "      <td>247.0</td>\n",
              "      <td>1.000000</td>\n",
              "      <td>91.149798</td>\n",
              "      <td>14</td>\n",
              "      <td>128.9</td>\n",
              "      <td>9.207143</td>\n",
              "    </tr>\n",
              "    <tr>\n",
              "      <th>7</th>\n",
              "      <td>Terraria</td>\n",
              "      <td>260</td>\n",
              "      <td>259.0</td>\n",
              "      <td>0.996154</td>\n",
              "      <td>421.723077</td>\n",
              "      <td>496</td>\n",
              "      <td>29951.8</td>\n",
              "      <td>60.386694</td>\n",
              "    </tr>\n",
              "  </tbody>\n",
              "</table>\n",
              "</div>"
            ],
            "text/plain": [
              "                    title  review_count  ...  total_hours_played  avg_playtime_users\n",
              "0  Euro Truck Simulator 2           501  ...              7226.9           38.646524\n",
              "1             Garry's Mod           202  ...             49725.3           68.023666\n",
              "2      Grand Theft Auto V         99956  ...             22956.7           84.090476\n",
              "3                  Kenshi            10  ...               266.7           53.340000\n",
              "4           Left 4 Dead 2           221  ...             33596.7           35.327760\n",
              "5                    Rust         71088  ...             15275.3           71.379907\n",
              "6              Subnautica           247  ...               128.9            9.207143\n",
              "7                Terraria           260  ...             29951.8           60.386694\n",
              "\n",
              "[8 rows x 8 columns]"
            ]
          },
          "metadata": {
            "tags": []
          },
          "execution_count": 100
        }
      ]
    },
    {
      "cell_type": "code",
      "metadata": {
        "id": "XQfM8ZEBQGmr",
        "colab_type": "code",
        "colab": {
          "base_uri": "https://localhost:8080/",
          "height": 224
        },
        "outputId": "0a084d25-a7e8-4b06-d0e1-8f24d3860aa9"
      },
      "source": [
        "# Only 8?  Out of 48 in one and 5155 in the other, let's see if we can find more\n",
        "\n",
        "# I looked for how to compare string similarity and found Levenshtein Distance\n",
        "# This measures the number of single-character edits needed to convert one \n",
        "# string to another\n",
        "pip install python-Levenshtein"
      ],
      "execution_count": 101,
      "outputs": [
        {
          "output_type": "stream",
          "text": [
            "Collecting python-Levenshtein\n",
            "\u001b[?25l  Downloading https://files.pythonhosted.org/packages/42/a9/d1785c85ebf9b7dfacd08938dd028209c34a0ea3b1bcdb895208bd40a67d/python-Levenshtein-0.12.0.tar.gz (48kB)\n",
            "\r\u001b[K     |██████▊                         | 10kB 12.1MB/s eta 0:00:01\r\u001b[K     |█████████████▌                  | 20kB 1.8MB/s eta 0:00:01\r\u001b[K     |████████████████████▏           | 30kB 2.4MB/s eta 0:00:01\r\u001b[K     |███████████████████████████     | 40kB 1.7MB/s eta 0:00:01\r\u001b[K     |████████████████████████████████| 51kB 1.7MB/s \n",
            "\u001b[?25hRequirement already satisfied: setuptools in /usr/local/lib/python3.6/dist-packages (from python-Levenshtein) (45.1.0)\n",
            "Building wheels for collected packages: python-Levenshtein\n",
            "  Building wheel for python-Levenshtein (setup.py) ... \u001b[?25l\u001b[?25hdone\n",
            "  Created wheel for python-Levenshtein: filename=python_Levenshtein-0.12.0-cp36-cp36m-linux_x86_64.whl size=144674 sha256=3ac0023fafb0e4b01546b09cab03ba2be32e5a5daeb48c13f4278046e0493d11\n",
            "  Stored in directory: /root/.cache/pip/wheels/de/c2/93/660fd5f7559049268ad2dc6d81c4e39e9e36518766eaf7e342\n",
            "Successfully built python-Levenshtein\n",
            "Installing collected packages: python-Levenshtein\n",
            "Successfully installed python-Levenshtein-0.12.0\n"
          ],
          "name": "stdout"
        }
      ]
    },
    {
      "cell_type": "code",
      "metadata": {
        "id": "Zon4JhvBQf72",
        "colab_type": "code",
        "colab": {
          "base_uri": "https://localhost:8080/",
          "height": 34
        },
        "outputId": "fa7db3c7-a7df-44df-c996-d6e64c494a52"
      },
      "source": [
        "import Levenshtein\n",
        "\n",
        "lev_matches = []\n",
        "for t1 in reviewed_games['title']:  # 48 of these\n",
        "  for t2 in owned_games['title']:   # 5155 of these\n",
        "    dist = Levenshtein.distance(t1, t2)\n",
        "    if dist <= 5 and dist > 0:  # if not an exact match, or under threshold\n",
        "      lev_matches.append({t1: t2})\n",
        "\n",
        "print('Matches found: ', len(lev_matches))"
      ],
      "execution_count": 102,
      "outputs": [
        {
          "output_type": "stream",
          "text": [
            "Matches found:  431\n"
          ],
          "name": "stdout"
        }
      ]
    },
    {
      "cell_type": "code",
      "metadata": {
        "id": "UUgQWrGtRyim",
        "colab_type": "code",
        "colab": {}
      },
      "source": [
        "# Some good finds here, but most still don't match.  It matches sequels, and \n",
        "# also any two words that are shorter than 5 characters\n",
        "\n",
        "# I've hidden the output to keep things shorter, but it is interesting to see \n",
        "# what got matched.  Uncomment the print line below to see it\n",
        "# print(np.array(lev_matches))"
      ],
      "execution_count": 0,
      "outputs": []
    },
    {
      "cell_type": "code",
      "metadata": {
        "id": "o59LLKwVS4K9",
        "colab_type": "code",
        "colab": {
          "base_uri": "https://localhost:8080/",
          "height": 523
        },
        "outputId": "153a1444-2911-444f-dca7-2eb8b9d6c8f9"
      },
      "source": [
        "# For this dataset I went through the list manually, here are the good matches\n",
        "matches = {'ARK: Survival Evolved': 'ARK Survival Evolved',\n",
        "           \"Don't Starve Together\": \"Don't Starve Together Beta\",\n",
        "           'Rocket League®': 'Rocket League',\n",
        "           \"Tom Clancy's Rainbow Six® Siege\": \"Tom Clancy's Rainbow Six Siege\"}\n",
        "\n",
        "# As an additional note, the owned games dataset source did not list a time \n",
        "# period the data was taken from.  Seeing this list, and examples such as \n",
        "# 'Football Manager 2019' matching with all the Football Manager games from \n",
        "# 2009-2016, it is now abundantly clear the two sets are from different times.  \n",
        "# There are many sequels this method found, but those are not valid matches.\n",
        "\n",
        "# convert titles in one of the sets\n",
        "reviewed_games = reviewed_games.replace({'title': matches})\n",
        "\n",
        "# re-do the merge, now we have 12 games instead of 8\n",
        "merged_games = pd.merge(reviewed_games, owned_games, how='inner', on='title')\n",
        "merged_games.round(2)"
      ],
      "execution_count": 104,
      "outputs": [
        {
          "output_type": "execute_result",
          "data": {
            "text/html": [
              "<div>\n",
              "<style scoped>\n",
              "    .dataframe tbody tr th:only-of-type {\n",
              "        vertical-align: middle;\n",
              "    }\n",
              "\n",
              "    .dataframe tbody tr th {\n",
              "        vertical-align: top;\n",
              "    }\n",
              "\n",
              "    .dataframe thead th {\n",
              "        text-align: right;\n",
              "    }\n",
              "</style>\n",
              "<table border=\"1\" class=\"dataframe\">\n",
              "  <thead>\n",
              "    <tr style=\"text-align: right;\">\n",
              "      <th></th>\n",
              "      <th>title</th>\n",
              "      <th>review_count</th>\n",
              "      <th>recommendation_count</th>\n",
              "      <th>recommendation_ratio</th>\n",
              "      <th>avg_playtime_reviews</th>\n",
              "      <th>owned_count</th>\n",
              "      <th>total_hours_played</th>\n",
              "      <th>avg_playtime_users</th>\n",
              "    </tr>\n",
              "  </thead>\n",
              "  <tbody>\n",
              "    <tr>\n",
              "      <th>0</th>\n",
              "      <td>ARK Survival Evolved</td>\n",
              "      <td>195</td>\n",
              "      <td>33.0</td>\n",
              "      <td>0.17</td>\n",
              "      <td>878.36</td>\n",
              "      <td>163</td>\n",
              "      <td>13593.1</td>\n",
              "      <td>83.39</td>\n",
              "    </tr>\n",
              "    <tr>\n",
              "      <th>1</th>\n",
              "      <td>Don't Starve Together Beta</td>\n",
              "      <td>165</td>\n",
              "      <td>165.0</td>\n",
              "      <td>1.00</td>\n",
              "      <td>165.93</td>\n",
              "      <td>256</td>\n",
              "      <td>2031.9</td>\n",
              "      <td>7.94</td>\n",
              "    </tr>\n",
              "    <tr>\n",
              "      <th>2</th>\n",
              "      <td>Euro Truck Simulator 2</td>\n",
              "      <td>501</td>\n",
              "      <td>501.0</td>\n",
              "      <td>1.00</td>\n",
              "      <td>206.55</td>\n",
              "      <td>187</td>\n",
              "      <td>7226.9</td>\n",
              "      <td>38.65</td>\n",
              "    </tr>\n",
              "    <tr>\n",
              "      <th>3</th>\n",
              "      <td>Garry's Mod</td>\n",
              "      <td>202</td>\n",
              "      <td>196.0</td>\n",
              "      <td>0.97</td>\n",
              "      <td>1283.69</td>\n",
              "      <td>731</td>\n",
              "      <td>49725.3</td>\n",
              "      <td>68.02</td>\n",
              "    </tr>\n",
              "    <tr>\n",
              "      <th>4</th>\n",
              "      <td>Grand Theft Auto V</td>\n",
              "      <td>99956</td>\n",
              "      <td>58989.0</td>\n",
              "      <td>0.59</td>\n",
              "      <td>294.91</td>\n",
              "      <td>273</td>\n",
              "      <td>22956.7</td>\n",
              "      <td>84.09</td>\n",
              "    </tr>\n",
              "    <tr>\n",
              "      <th>5</th>\n",
              "      <td>Kenshi</td>\n",
              "      <td>10</td>\n",
              "      <td>10.0</td>\n",
              "      <td>1.00</td>\n",
              "      <td>542.00</td>\n",
              "      <td>5</td>\n",
              "      <td>266.7</td>\n",
              "      <td>53.34</td>\n",
              "    </tr>\n",
              "    <tr>\n",
              "      <th>6</th>\n",
              "      <td>Left 4 Dead 2</td>\n",
              "      <td>221</td>\n",
              "      <td>220.0</td>\n",
              "      <td>1.00</td>\n",
              "      <td>320.07</td>\n",
              "      <td>951</td>\n",
              "      <td>33596.7</td>\n",
              "      <td>35.33</td>\n",
              "    </tr>\n",
              "    <tr>\n",
              "      <th>7</th>\n",
              "      <td>Rocket League</td>\n",
              "      <td>67907</td>\n",
              "      <td>61743.0</td>\n",
              "      <td>0.91</td>\n",
              "      <td>424.55</td>\n",
              "      <td>157</td>\n",
              "      <td>7827.2</td>\n",
              "      <td>49.85</td>\n",
              "    </tr>\n",
              "    <tr>\n",
              "      <th>8</th>\n",
              "      <td>Rust</td>\n",
              "      <td>71088</td>\n",
              "      <td>55785.0</td>\n",
              "      <td>0.78</td>\n",
              "      <td>519.19</td>\n",
              "      <td>214</td>\n",
              "      <td>15275.3</td>\n",
              "      <td>71.38</td>\n",
              "    </tr>\n",
              "    <tr>\n",
              "      <th>9</th>\n",
              "      <td>Subnautica</td>\n",
              "      <td>247</td>\n",
              "      <td>247.0</td>\n",
              "      <td>1.00</td>\n",
              "      <td>91.15</td>\n",
              "      <td>14</td>\n",
              "      <td>128.9</td>\n",
              "      <td>9.21</td>\n",
              "    </tr>\n",
              "    <tr>\n",
              "      <th>10</th>\n",
              "      <td>Terraria</td>\n",
              "      <td>260</td>\n",
              "      <td>259.0</td>\n",
              "      <td>1.00</td>\n",
              "      <td>421.72</td>\n",
              "      <td>496</td>\n",
              "      <td>29951.8</td>\n",
              "      <td>60.39</td>\n",
              "    </tr>\n",
              "    <tr>\n",
              "      <th>11</th>\n",
              "      <td>Tom Clancy's Rainbow Six Siege</td>\n",
              "      <td>10</td>\n",
              "      <td>10.0</td>\n",
              "      <td>1.00</td>\n",
              "      <td>867.90</td>\n",
              "      <td>8</td>\n",
              "      <td>184.9</td>\n",
              "      <td>23.11</td>\n",
              "    </tr>\n",
              "  </tbody>\n",
              "</table>\n",
              "</div>"
            ],
            "text/plain": [
              "                             title  ...  avg_playtime_users\n",
              "0             ARK Survival Evolved  ...               83.39\n",
              "1       Don't Starve Together Beta  ...                7.94\n",
              "2           Euro Truck Simulator 2  ...               38.65\n",
              "3                      Garry's Mod  ...               68.02\n",
              "4               Grand Theft Auto V  ...               84.09\n",
              "5                           Kenshi  ...               53.34\n",
              "6                    Left 4 Dead 2  ...               35.33\n",
              "7                    Rocket League  ...               49.85\n",
              "8                             Rust  ...               71.38\n",
              "9                       Subnautica  ...                9.21\n",
              "10                        Terraria  ...               60.39\n",
              "11  Tom Clancy's Rainbow Six Siege  ...               23.11\n",
              "\n",
              "[12 rows x 8 columns]"
            ]
          },
          "metadata": {
            "tags": []
          },
          "execution_count": 104
        }
      ]
    },
    {
      "cell_type": "markdown",
      "metadata": {
        "id": "qSLUZa3zDHHB",
        "colab_type": "text"
      },
      "source": [
        "### How close are the average playtimes for common games between the two datasets?"
      ]
    },
    {
      "cell_type": "code",
      "metadata": {
        "id": "mvPSCTqZ25o-",
        "colab_type": "code",
        "outputId": "f898451f-0c29-44b9-a76c-5dd015696bb5",
        "colab": {
          "base_uri": "https://localhost:8080/",
          "height": 421
        }
      },
      "source": [
        "# answer: very different!  for truly random samples, these should be more similar\n",
        "merged_games[['title', 'avg_playtime_reviews', 'avg_playtime_users']].round(2)"
      ],
      "execution_count": 105,
      "outputs": [
        {
          "output_type": "execute_result",
          "data": {
            "text/html": [
              "<div>\n",
              "<style scoped>\n",
              "    .dataframe tbody tr th:only-of-type {\n",
              "        vertical-align: middle;\n",
              "    }\n",
              "\n",
              "    .dataframe tbody tr th {\n",
              "        vertical-align: top;\n",
              "    }\n",
              "\n",
              "    .dataframe thead th {\n",
              "        text-align: right;\n",
              "    }\n",
              "</style>\n",
              "<table border=\"1\" class=\"dataframe\">\n",
              "  <thead>\n",
              "    <tr style=\"text-align: right;\">\n",
              "      <th></th>\n",
              "      <th>title</th>\n",
              "      <th>avg_playtime_reviews</th>\n",
              "      <th>avg_playtime_users</th>\n",
              "    </tr>\n",
              "  </thead>\n",
              "  <tbody>\n",
              "    <tr>\n",
              "      <th>0</th>\n",
              "      <td>ARK Survival Evolved</td>\n",
              "      <td>878.36</td>\n",
              "      <td>83.39</td>\n",
              "    </tr>\n",
              "    <tr>\n",
              "      <th>1</th>\n",
              "      <td>Don't Starve Together Beta</td>\n",
              "      <td>165.93</td>\n",
              "      <td>7.94</td>\n",
              "    </tr>\n",
              "    <tr>\n",
              "      <th>2</th>\n",
              "      <td>Euro Truck Simulator 2</td>\n",
              "      <td>206.55</td>\n",
              "      <td>38.65</td>\n",
              "    </tr>\n",
              "    <tr>\n",
              "      <th>3</th>\n",
              "      <td>Garry's Mod</td>\n",
              "      <td>1283.69</td>\n",
              "      <td>68.02</td>\n",
              "    </tr>\n",
              "    <tr>\n",
              "      <th>4</th>\n",
              "      <td>Grand Theft Auto V</td>\n",
              "      <td>294.91</td>\n",
              "      <td>84.09</td>\n",
              "    </tr>\n",
              "    <tr>\n",
              "      <th>5</th>\n",
              "      <td>Kenshi</td>\n",
              "      <td>542.00</td>\n",
              "      <td>53.34</td>\n",
              "    </tr>\n",
              "    <tr>\n",
              "      <th>6</th>\n",
              "      <td>Left 4 Dead 2</td>\n",
              "      <td>320.07</td>\n",
              "      <td>35.33</td>\n",
              "    </tr>\n",
              "    <tr>\n",
              "      <th>7</th>\n",
              "      <td>Rocket League</td>\n",
              "      <td>424.55</td>\n",
              "      <td>49.85</td>\n",
              "    </tr>\n",
              "    <tr>\n",
              "      <th>8</th>\n",
              "      <td>Rust</td>\n",
              "      <td>519.19</td>\n",
              "      <td>71.38</td>\n",
              "    </tr>\n",
              "    <tr>\n",
              "      <th>9</th>\n",
              "      <td>Subnautica</td>\n",
              "      <td>91.15</td>\n",
              "      <td>9.21</td>\n",
              "    </tr>\n",
              "    <tr>\n",
              "      <th>10</th>\n",
              "      <td>Terraria</td>\n",
              "      <td>421.72</td>\n",
              "      <td>60.39</td>\n",
              "    </tr>\n",
              "    <tr>\n",
              "      <th>11</th>\n",
              "      <td>Tom Clancy's Rainbow Six Siege</td>\n",
              "      <td>867.90</td>\n",
              "      <td>23.11</td>\n",
              "    </tr>\n",
              "  </tbody>\n",
              "</table>\n",
              "</div>"
            ],
            "text/plain": [
              "                             title  avg_playtime_reviews  avg_playtime_users\n",
              "0             ARK Survival Evolved                878.36               83.39\n",
              "1       Don't Starve Together Beta                165.93                7.94\n",
              "2           Euro Truck Simulator 2                206.55               38.65\n",
              "3                      Garry's Mod               1283.69               68.02\n",
              "4               Grand Theft Auto V                294.91               84.09\n",
              "5                           Kenshi                542.00               53.34\n",
              "6                    Left 4 Dead 2                320.07               35.33\n",
              "7                    Rocket League                424.55               49.85\n",
              "8                             Rust                519.19               71.38\n",
              "9                       Subnautica                 91.15                9.21\n",
              "10                        Terraria                421.72               60.39\n",
              "11  Tom Clancy's Rainbow Six Siege                867.90               23.11"
            ]
          },
          "metadata": {
            "tags": []
          },
          "execution_count": 105
        }
      ]
    },
    {
      "cell_type": "code",
      "metadata": {
        "id": "T8fw-fPuU_li",
        "colab_type": "code",
        "colab": {
          "base_uri": "https://localhost:8080/",
          "height": 298
        },
        "outputId": "10948275-67d7-4bb3-f9c7-ca5393ddd541"
      },
      "source": [
        "line = plt.plot([0, 1300], [0, 130], color=my_orange)\n",
        "plt.scatter(x=merged_games['avg_playtime_reviews'], \n",
        "            y=merged_games['avg_playtime_users'], color=my_blue)\n",
        "plt.title('Average playtime')\n",
        "plt.xlabel('Hours played among reviewers')\n",
        "plt.ylabel('Hours played among all owners')\n",
        "\n",
        "plt.legend(handles=line, labels=['x10'])\n",
        "plt.ylim(bottom=0, top=90)\n",
        "plt.xlim(left=0, right=1300);\n",
        "\n",
        "plt.savefig('avg-playtime-scatter')"
      ],
      "execution_count": 159,
      "outputs": [
        {
          "output_type": "display_data",
          "data": {
            "image/png": "[encoded data removed]",
            "text/plain": [
              "<Figure size 432x288 with 1 Axes>"
            ]
          },
          "metadata": {
            "tags": []
          }
        }
      ]
    },
    {
      "cell_type": "markdown",
      "metadata": {
        "id": "jYpusoJTDLIa",
        "colab_type": "text"
      },
      "source": [
        "### How strong is the relationship between number of owners and number of reviews?"
      ]
    },
    {
      "cell_type": "code",
      "metadata": {
        "id": "9ScbzObz85hd",
        "colab_type": "code",
        "outputId": "d934043b-978c-4d79-cff8-f9cbd534678c",
        "colab": {
          "base_uri": "https://localhost:8080/",
          "height": 298
        }
      },
      "source": [
        "# answer: between these datasets?  not good\n",
        "sns.scatterplot(x=merged_games['owned_count'], y=merged_games['review_count'],\n",
        "                color=my_blue)\n",
        "plt.title('Number of copies owned vs Number of reviews')\n",
        "plt.xlabel('Copies owned')\n",
        "plt.ylabel('Reviews');"
      ],
      "execution_count": 106,
      "outputs": [
        {
          "output_type": "display_data",
          "data": {
            "image/png": "[encoded data removed]",
            "text/plain": [
              "<Figure size 432x288 with 1 Axes>"
            ]
          },
          "metadata": {
            "tags": []
          }
        }
      ]
    },
    {
      "cell_type": "code",
      "metadata": {
        "id": "a5Arzp7XDe6S",
        "colab_type": "code",
        "colab": {
          "base_uri": "https://localhost:8080/",
          "height": 280
        },
        "outputId": "f2f230da-6ddd-4c22-c98b-e16008f24919"
      },
      "source": [
        "# We also have playtime between both, it's a little closer at least\n",
        "sns.scatterplot(x=merged_games['avg_playtime_reviews'], \n",
        "                y=merged_games['avg_playtime_users'], \n",
        "                color=my_blue);"
      ],
      "execution_count": 107,
      "outputs": [
        {
          "output_type": "display_data",
          "data": {
            "image/png": "[encoded data removed]",
            "text/plain": [
              "<Figure size 432x288 with 1 Axes>"
            ]
          },
          "metadata": {
            "tags": []
          }
        }
      ]
    },
    {
      "cell_type": "markdown",
      "metadata": {
        "id": "r0dB5WYPDVvZ",
        "colab_type": "text"
      },
      "source": [
        "### Relationship between recommended ratio and hours played?"
      ]
    },
    {
      "cell_type": "code",
      "metadata": {
        "id": "XVgt-pGq9Gd8",
        "colab_type": "code",
        "outputId": "ddbbc43b-cbbb-4b70-8ffc-839fce6d09a6",
        "colab": {
          "base_uri": "https://localhost:8080/",
          "height": 298
        }
      },
      "source": [
        "# Relationship between recommended ratio and hours played?\n",
        "plt.scatter(x=merged_games['avg_playtime_users'], \n",
        "                y=merged_games['recommendation_ratio']*100, \n",
        "                color=my_blue)\n",
        "plt.title('Recommendations vs hours played by all')\n",
        "plt.xlabel('Average hours played')\n",
        "plt.yticks(ticks=[0,20,40,60,80,100], labels=[0,20,40,60,80,'100%'])\n",
        "plt.ylabel('Percent recommended');\n",
        "\n",
        "plt.savefig('recom-vs-hrs-played.png')"
      ],
      "execution_count": 163,
      "outputs": [
        {
          "output_type": "display_data",
          "data": {
            "image/png": "[encoded data removed]",
            "text/plain": [
              "<Figure size 432x288 with 1 Axes>"
            ]
          },
          "metadata": {
            "tags": []
          }
        }
      ]
    },
    {
      "cell_type": "code",
      "metadata": {
        "id": "jiM6MEMYPHqe",
        "colab_type": "code",
        "colab": {
          "base_uri": "https://localhost:8080/",
          "height": 280
        },
        "outputId": "d61c8327-f04f-405a-97ba-b784eb3202f6"
      },
      "source": [
        "# Relationship between review count and hours played?\n",
        "sns.scatterplot(x=merged_games['avg_playtime_users'], \n",
        "                y=merged_games['review_count'],\n",
        "                color=my_blue);"
      ],
      "execution_count": 109,
      "outputs": [
        {
          "output_type": "display_data",
          "data": {
            "image/png": "[encoded data removed]",
            "text/plain": [
              "<Figure size 432x288 with 1 Axes>"
            ]
          },
          "metadata": {
            "tags": []
          }
        }
      ]
    }
  ]
}